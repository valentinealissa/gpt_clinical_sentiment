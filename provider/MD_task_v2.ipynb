{
 "cells": [
  {
   "cell_type": "code",
   "execution_count": 12,
   "metadata": {
    "collapsed": true,
    "pycharm": {
     "name": "#%%\n"
    }
   },
   "outputs": [],
   "source": [
    "import evaluate\n",
    "from openai import AzureOpenAI\n",
    "import os\n",
    "import pandas as pd\n",
    "import datasets\n",
    "from sklearn.metrics import f1_score, precision_score, recall_score, classification_report\n",
    "from sklearn.model_selection import ParameterGrid\n",
    "import evaluate\n",
    "\n",
    "client = AzureOpenAI(azure_endpoint='https://oai-cbipm-01.openai.azure.com/',\n",
    "                     api_key=os.environ[\"OPENAI_API_KEY\"],\n",
    "                     api_version=\"2023-12-01-preview\")  # 2023-12-01-preview <- highest version number as of 1/12/23\n",
    "\n",
    "deployment = \"Deployment\""
   ]
  },
  {
   "cell_type": "code",
   "execution_count": 13,
   "outputs": [],
   "source": [
    "# metrics function\n",
    "def compute_metrics(predictions, references, labels=None, pos_label=1, average=\"weighted\", sample_weight=None, zero_division='warn'):\n",
    "        f1 = f1_score(\n",
    "            references, predictions, labels=labels, pos_label=pos_label, average=average, sample_weight=sample_weight\n",
    "        )\n",
    "        p = precision_score(\n",
    "            references, predictions, labels=labels, pos_label=pos_label, average=average, sample_weight=sample_weight,\n",
    "            zero_division=zero_division\n",
    "        )\n",
    "        r = recall_score(\n",
    "            references, predictions, labels=labels, pos_label=pos_label, average=average, sample_weight=sample_weight,\n",
    "            zero_division=zero_division\n",
    "        )\n",
    "        c = classification_report(\n",
    "            references, predictions, labels=labels\n",
    "        )\n",
    "        print(c)\n",
    "        return {\"f1\": float(f1) if f1.size == 1 else f1,\n",
    "                \"precision\": float(p) if p.size == 1 else p,\n",
    "                \"recall\": float(r) if r.size == 1 else r}"
   ],
   "metadata": {
    "collapsed": false,
    "pycharm": {
     "name": "#%%\n"
    }
   }
  },
  {
   "cell_type": "code",
   "execution_count": 14,
   "outputs": [
    {
     "name": "stdout",
     "output_type": "stream",
     "text": [
      "              precision    recall  f1-score   support\n",
      "\n",
      "    negative       0.60      0.82      0.69        11\n",
      "     neutral       0.71      0.45      0.56        11\n",
      "    positive       1.00      1.00      1.00         5\n",
      "\n",
      "    accuracy                           0.70        27\n",
      "   macro avg       0.77      0.76      0.75        27\n",
      "weighted avg       0.72      0.70      0.69        27\n",
      "\n",
      "{'f1': 0.693573915796138, 'precision': 0.7206349206349206, 'recall': 0.7037037037037037}\n"
     ]
    },
    {
     "name": "stderr",
     "output_type": "stream",
     "text": [
      "/var/folders/xm/m4dy5bvs1fn7fb9wxjhsg4dc0000gn/T/ipykernel_17379/3541274909.py:25: FutureWarning: Passing literal json to 'read_json' is deprecated and will be removed in a future version. To read from a literal string, wrap it in a 'StringIO' object.\n",
      "  predictions = pd.read_json(output, orient=\"index\")\n"
     ]
    }
   ],
   "source": [
    "train = pd.read_csv(\"../data/train_MD_labels.csv\")\n",
    "test = pd.read_csv(\"../data/test_PT_MD_labels.csv\")\n",
    "\n",
    "json_train_sentences = train[\"language\"].to_json()\n",
    "json_train_labels = train[\"MD_label\"].to_json()\n",
    "\n",
    "# converting test sentences to json format\n",
    "json_test_sentences = test[\"language\"].to_json()\n",
    "messages = [{\"role\": \"system\", \"content\": \"You are a medical doctor.\"},\n",
    "            {\"role\": \"user\", \"content\": \"As a medical doctor, you write many clinical notes about patients.\\n\"\n",
    "                                        \"Your task is to analyze the sentiment of a series of sentences you wrote about patients.\\n\"\n",
    "                                        \"For each sentence, what is your attitude towards the patient you wrote about?\\n\"\n",
    "                                        \"Please assign a sentiment score of negative, neutral, or positive for each sentence.\\n\"\n",
    "                                        \"Below are three example sentences in JSON format:\\n\"\n",
    "                                        f\"{json_train_sentences}\"\n",
    "                                        \"Please provide your answer in JSON format.\"},\n",
    "            {\"role\": \"assistant\", \"content\": f\"{json_train_labels}\"},\n",
    "            {\"role\": \"user\", \"content\": f\"Please complete the same task with each of these sentences:\\n{json_test_sentences}\"}]\n",
    "\n",
    "response = client.chat.completions.create(model=deployment, messages=messages, temperature=0, seed=42)\n",
    "\n",
    "output = response.choices[0].message.content\n",
    "# print(output)\n",
    "\n",
    "predictions = pd.read_json(output, orient=\"index\")\n",
    "results = compute_metrics(predictions[0], test[\"MD_label\"])\n",
    "print(results)\n",
    "\n",
    "error_analysis = pd.concat([test[[\"idx\", \"language\", \"PT_MD_labels\", \"MD_label\"]], predictions], axis=1)\n",
    "error_analysis = error_analysis.rename(columns={0:\"pred\", \"MD_label\":\"true\"})\n",
    "mask = error_analysis[\"pred\"] == error_analysis[\"true\"]\n",
    "error_analysis = error_analysis[~ mask]\n",
    "error_analysis.to_csv('error_analysis.csv', index=False)"
   ],
   "metadata": {
    "collapsed": false,
    "pycharm": {
     "name": "#%%\n"
    }
   }
  },
  {
   "cell_type": "code",
   "execution_count": 11,
   "outputs": [],
   "source": [
    "# the best metric so far uses prompt with 2 neutral sentences. their idx = 0 and 6\n",
    "#               precision    recall  f1-score   support\n",
    "#\n",
    "#     negative       0.60      0.82      0.69        11\n",
    "#      neutral       0.71      0.45      0.56        11\n",
    "#     positive       1.00      1.00      1.00         5\n",
    "#\n",
    "#     accuracy                           0.70        27\n",
    "#    macro avg       0.77      0.76      0.75        27\n",
    "# weighted avg       0.72      0.70      0.69        27\n",
    "#\n",
    "# {'f1': 0.693573915796138, 'precision': 0.7206349206349206, 'recall': 0.7037037037037037}"
   ],
   "metadata": {
    "collapsed": false,
    "pycharm": {
     "name": "#%%\n"
    }
   }
  },
  {
   "cell_type": "code",
   "execution_count": null,
   "outputs": [],
   "source": [],
   "metadata": {
    "collapsed": false,
    "pycharm": {
     "name": "#%%\n"
    }
   }
  }
 ],
 "metadata": {
  "kernelspec": {
   "display_name": "Python 3",
   "language": "python",
   "name": "python3"
  },
  "language_info": {
   "codemirror_mode": {
    "name": "ipython",
    "version": 2
   },
   "file_extension": ".py",
   "mimetype": "text/x-python",
   "name": "python",
   "nbconvert_exporter": "python",
   "pygments_lexer": "ipython2",
   "version": "2.7.6"
  }
 },
 "nbformat": 4,
 "nbformat_minor": 0
}