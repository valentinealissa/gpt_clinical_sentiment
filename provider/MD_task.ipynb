{
 "cells": [
  {
   "cell_type": "code",
   "execution_count": 43,
   "metadata": {
    "collapsed": true,
    "pycharm": {
     "name": "#%%\n"
    }
   },
   "outputs": [],
   "source": [
    "import evaluate\n",
    "from openai import AzureOpenAI\n",
    "import os\n",
    "import pandas as pd\n",
    "import datasets\n",
    "from sklearn.metrics import f1_score, precision_score, recall_score, classification_report\n",
    "import evaluate\n",
    "\n",
    "client = AzureOpenAI(azure_endpoint='https://oai-cbipm-01.openai.azure.com/',\n",
    "                     api_key=os.environ[\"OPENAI_API_KEY\"],\n",
    "                     api_version=\"2023-12-01-preview\")  # 2023-12-01-preview <- highest version number as of 1/12/23\n",
    "\n",
    "deployment = \"Deployment\""
   ]
  },
  {
   "cell_type": "code",
   "execution_count": null,
   "outputs": [],
   "source": [
    "# metrics function\n",
    "def compute_metrics(predictions, references, labels=None, pos_label=1, average=\"weighted\", sample_weight=None, zero_division='warn'):\n",
    "        f1 = f1_score(\n",
    "            references, predictions, labels=labels, pos_label=pos_label, average=average, sample_weight=sample_weight\n",
    "        )\n",
    "        p = precision_score(\n",
    "            references, predictions, labels=labels, pos_label=pos_label, average=average, sample_weight=sample_weight,\n",
    "            zero_division=zero_division\n",
    "        )\n",
    "        r = recall_score(\n",
    "            references, predictions, labels=labels, pos_label=pos_label, average=average, sample_weight=sample_weight,\n",
    "            zero_division=zero_division\n",
    "        )\n",
    "        c = classification_report(\n",
    "            references, predictions, labels=labels\n",
    "        )\n",
    "        print(c)\n",
    "        return {\"f1\": float(f1) if f1.size == 1 else f1,\n",
    "                \"precision\": float(p) if p.size == 1 else p,\n",
    "                \"recall\": float(r) if r.size == 1 else r}"
   ],
   "metadata": {
    "collapsed": false,
    "pycharm": {
     "name": "#%%\n"
    }
   }
  },
  {
   "cell_type": "code",
   "execution_count": 26,
   "outputs": [],
   "source": [
    "# training sentence selection function\n",
    "def train_sentence_selection(df, n_neutral, n_positive, n_negative, label):\n",
    "    # saving column name given PT or MD label\n",
    "    label = f\"{label}_label\"\n",
    "    # randomly selecting 1-2 sentences per label\n",
    "    neutral_sentences = df[df[label] == \"neutral\"].sample(n_neutral, replace=False, random_state=42)\n",
    "    positive_sentences = df[df[label] == \"positive\"].sample(n_positive, replace=False, random_state=42)\n",
    "    negative_sentences = df[df[label] == \"negative\"].sample(n_negative, replace=False, random_state=42)\n",
    "    all_sentences = pd.concat([neutral_sentences,\n",
    "                               positive_sentences,\n",
    "                               negative_sentences], ignore_index = True)\n",
    "    return all_sentences"
   ],
   "metadata": {
    "collapsed": false,
    "pycharm": {
     "name": "#%%\n"
    }
   }
  },
  {
   "cell_type": "code",
   "execution_count": 36,
   "outputs": [],
   "source": [
    "train = pd.read_csv(\"../data/train_PT_MD_labels.csv\")\n",
    "test = pd.read_csv(\"../data/test_PT_MD_labels.csv\")\n",
    "\n",
    "# randomly selecting 1-2 training sentences per MD label\n",
    "n_neutral_s = 1\n",
    "n_positive_s = 1\n",
    "n_negative_s = 1\n",
    "train_sentences = train_sentence_selection(train, n_neutral_s, n_positive_s, n_negative_s, \"MD\")\n",
    "json_train_sentences = train_sentences[\"language\"].to_json()\n",
    "json_train_labels = train_sentences[\"MD_label\"].to_json()\n",
    "# print(train_sentences, json_train_labels)\n",
    "\n",
    "# converting test sentences to json format\n",
    "json_test_sentences = test[\"language\"].to_json()"
   ],
   "metadata": {
    "collapsed": false,
    "pycharm": {
     "name": "#%%\n"
    }
   }
  },
  {
   "cell_type": "code",
   "execution_count": 37,
   "outputs": [
    {
     "name": "stdout",
     "output_type": "stream",
     "text": [
      "{\"0\":\"negative\",\"1\":\"negative\",\"2\":\"negative\",\"3\":\"negative\",\"4\":\"negative\",\"5\":\"negative\",\"6\":\"negative\",\"7\":\"negative\",\"8\":\"negative\",\"9\":\"negative\",\"10\":\"neutral\",\"11\":\"negative\",\"12\":\"positive\",\"13\":\"positive\",\"14\":\"positive\",\"15\":\"positive\",\"16\":\"negative\",\"17\":\"positive\",\"18\":\"negative\",\"19\":\"neutral\",\"20\":\"negative\",\"21\":\"neutral\",\"22\":\"positive\",\"23\":\"negative\",\"24\":\"neutral\",\"25\":\"negative\",\"26\":\"positive\"}\n"
     ]
    }
   ],
   "source": [
    "messages = [{\"role\": \"system\", \"content\": \"You are a medical doctor.\"},\n",
    "            {\"role\": \"user\", \"content\": \"As a medical doctor, you write many clinical notes about patients.\\n\"\n",
    "                                        \"Your task is to analyze the sentiment of a series of sentences you wrote about patients.\\n\"\n",
    "                                        \"For each sentence, what is your attitude towards the patient you wrote about?\\n\"\n",
    "                                        \"Please assign a sentiment score of negative, neutral, or positive for each sentence.\\n\"\n",
    "                                        \"Below are three example sentences in JSON format:\\n\"\n",
    "                                        f\"{json_train_sentences}\"\n",
    "                                        \"Please provide your answer in JSON format.\"\n",
    "             },\n",
    "            {\"role\": \"assistant\", \"content\": f\"{json_train_labels}\"},\n",
    "            {\"role\": \"user\", \"content\": f\"Complete the same task with each of these sentences:\\n{json_test_sentences}\"}]\n",
    "\n",
    "response = client.chat.completions.create(model=deployment, messages=messages, temperature=0, seed=42)\n",
    "\n",
    "output = response.choices[0].message.content\n",
    "# predictions = pd.read_json(output, orient=\"index\")\n",
    "# predictions.columns.values[0] = \"predictions\"\n",
    "# predictions[\"predictions\"] = predictions[].map(replace)\n",
    "print(output)"
   ],
   "metadata": {
    "collapsed": false,
    "pycharm": {
     "name": "#%%\n"
    }
   }
  },
  {
   "cell_type": "code",
   "execution_count": 38,
   "outputs": [
    {
     "name": "stdout",
     "output_type": "stream",
     "text": [
      "              precision    recall  f1-score   support\n",
      "\n",
      "    negative       0.56      0.82      0.67        11\n",
      "     neutral       0.75      0.27      0.40        11\n",
      "    positive       0.71      1.00      0.83         5\n",
      "\n",
      "    accuracy                           0.63        27\n",
      "   macro avg       0.68      0.70      0.63        27\n",
      "weighted avg       0.67      0.63      0.59        27\n",
      "\n"
     ]
    },
    {
     "name": "stderr",
     "output_type": "stream",
     "text": [
      "/var/folders/xm/m4dy5bvs1fn7fb9wxjhsg4dc0000gn/T/ipykernel_1449/3948966191.py:1: FutureWarning: Passing literal json to 'read_json' is deprecated and will be removed in a future version. To read from a literal string, wrap it in a 'StringIO' object.\n",
      "  predictions = pd.read_json(output, orient=\"index\")\n"
     ]
    },
    {
     "data": {
      "text/plain": "{'f1': 0.5888888888888888,\n 'precision': 0.6669973544973545,\n 'recall': 0.6296296296296297}"
     },
     "execution_count": 38,
     "metadata": {},
     "output_type": "execute_result"
    }
   ],
   "source": [
    "predictions = pd.read_json(output, orient=\"index\")\n",
    "compute_metrics(predictions[0], test[\"MD_label\"])"
   ],
   "metadata": {
    "collapsed": false,
    "pycharm": {
     "name": "#%%\n"
    }
   }
  },
  {
   "cell_type": "code",
   "execution_count": 42,
   "outputs": [
    {
     "data": {
      "text/plain": "{'PATH': '/Users/valena17/azure_gpt/azure_gpt_env/bin:/Users/valena17/miniconda3/bin:/Users/valena17/miniconda3/condabin:/opt/homebrew/bin:/opt/homebrew/sbin:/Library/Frameworks/Python.framework/Versions/3.9/bin:/opt/homebrew/bin:/opt/homebrew/sbin:/Library/Frameworks/Python.framework/Versions/3.8/bin:/opt/local/bin:/opt/local/sbin:/Library/Frameworks/Python.framework/Versions/3.7/bin:/Library/Frameworks/Python.framework/Versions/3.10/bin:/usr/local/bin:/usr/bin:/bin:/usr/sbin:/sbin',\n 'MANPATH': '/opt/homebrew/share/man:/opt/homebrew/share/man:::',\n 'CONDA_DEFAULT_ENV': 'base',\n 'CONDA_EXE': '/Users/valena17/miniconda3/bin/conda',\n 'CONDA_PYTHON_EXE': '/Users/valena17/miniconda3/bin/python',\n 'HOMEBREW_PREFIX': '/opt/homebrew',\n 'LANG': 'en_US.UTF-8',\n 'COMMAND_MODE': 'unix2003',\n 'PS1': '(azure_gpt_env) ',\n 'CONDA_PREFIX': '/Users/valena17/miniconda3',\n '_CE_M': '',\n 'LOGNAME': 'valena17',\n 'HOMEBREW_REPOSITORY': '/opt/homebrew',\n 'XPC_SERVICE_NAME': 'application.com.jetbrains.pycharm.879560.880264',\n 'PWD': '/Users/valena17/azure_gpt',\n 'INFOPATH': '/opt/homebrew/share/info:/opt/homebrew/share/info:',\n 'CONDA_SHLVL': '1',\n '__CFBundleIdentifier': 'com.jetbrains.pycharm',\n 'LANGUAGE': '',\n 'PYTHONPATH': '/Users/valena17/azure_gpt',\n 'SHELL': '/bin/zsh',\n 'OLDPWD': '/',\n 'HOMEBREW_CELLAR': '/opt/homebrew/Cellar',\n 'USER': 'valena17',\n 'TMPDIR': '/var/folders/xm/m4dy5bvs1fn7fb9wxjhsg4dc0000gn/T/',\n 'SSH_AUTH_SOCK': '/private/tmp/com.apple.launchd.M3k2gUEDuP/Listeners',\n '_CE_CONDA': '',\n 'VIRTUAL_ENV': '/Users/valena17/azure_gpt/azure_gpt_env',\n 'XPC_FLAGS': '0x0',\n 'LC_ALL': 'en_US.UTF-8',\n '__CF_USER_TEXT_ENCODING': '0x1F5:0x0:0x0',\n 'CONDA_PROMPT_MODIFIER': '(base) ',\n 'LC_CTYPE': 'en_US.UTF-8',\n 'HOME': '/Users/valena17',\n 'PYDEVD_USE_FRAME_EVAL': 'NO',\n 'JPY_SESSION_NAME': 'provider/MD_task.ipynb',\n 'JPY_PARENT_PID': '1236',\n 'TERM': 'xterm-color',\n 'CLICOLOR': '1',\n 'FORCE_COLOR': '1',\n 'CLICOLOR_FORCE': '1',\n 'PAGER': 'cat',\n 'GIT_PAGER': 'cat',\n 'MPLBACKEND': 'module://matplotlib_inline.backend_inline',\n 'KMP_DUPLICATE_LIB_OK': 'True',\n 'KMP_INIT_AT_FORK': 'FALSE',\n 'OPENAI_API_KEY': '<hidden>'}"
     },
     "execution_count": 42,
     "metadata": {},
     "output_type": "execute_result"
    }
   ],
   "source": [
    "%env"
   ],
   "metadata": {
    "collapsed": false,
    "pycharm": {
     "name": "#%%\n"
    }
   }
  },
  {
   "cell_type": "code",
   "execution_count": 41,
   "outputs": [
    {
     "name": "stdout",
     "output_type": "stream",
     "text": [
      "env: OPENAI_API_KEY=cb0e51bd1e4a46fbb4043b8bcdd04cd7\n"
     ]
    }
   ],
   "source": [],
   "metadata": {
    "collapsed": false,
    "pycharm": {
     "name": "#%%\n"
    }
   }
  },
  {
   "cell_type": "code",
   "execution_count": null,
   "outputs": [],
   "source": [],
   "metadata": {
    "collapsed": false,
    "pycharm": {
     "name": "#%%\n"
    }
   }
  }
 ],
 "metadata": {
  "kernelspec": {
   "display_name": "Python 3",
   "language": "python",
   "name": "python3"
  },
  "language_info": {
   "codemirror_mode": {
    "name": "ipython",
    "version": 2
   },
   "file_extension": ".py",
   "mimetype": "text/x-python",
   "name": "python",
   "nbconvert_exporter": "python",
   "pygments_lexer": "ipython2",
   "version": "2.7.6"
  }
 },
 "nbformat": 4,
 "nbformat_minor": 0
}