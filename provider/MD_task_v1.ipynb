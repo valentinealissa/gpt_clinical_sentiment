{
 "cells": [
  {
   "cell_type": "code",
   "execution_count": 69,
   "metadata": {
    "collapsed": true,
    "pycharm": {
     "name": "#%%\n"
    }
   },
   "outputs": [],
   "source": [
    "import evaluate\n",
    "from openai import AzureOpenAI\n",
    "import os\n",
    "import pandas as pd\n",
    "import datasets\n",
    "from sklearn.metrics import f1_score, precision_score, recall_score, classification_report\n",
    "from sklearn.model_selection import ParameterGrid\n",
    "import evaluate\n",
    "from itertools import combinations\n",
    "\n",
    "client = AzureOpenAI(azure_endpoint='https://oai-cbipm-01.openai.azure.com/',\n",
    "                     api_key=os.environ[\"OPENAI_API_KEY\"],\n",
    "                     api_version=\"2023-12-01-preview\")  # 2023-12-01-preview <- highest version number as of 1/12/23\n",
    "\n",
    "deployment = \"Deployment\""
   ]
  },
  {
   "cell_type": "code",
   "execution_count": 70,
   "outputs": [],
   "source": [
    "# metrics function\n",
    "def compute_metrics(predictions, references, labels=None, pos_label=1, average=\"weighted\", sample_weight=None, zero_division='warn'):\n",
    "        f1 = f1_score(\n",
    "            references, predictions, labels=labels, pos_label=pos_label, average=average, sample_weight=sample_weight\n",
    "        )\n",
    "        p = precision_score(\n",
    "            references, predictions, labels=labels, pos_label=pos_label, average=average, sample_weight=sample_weight,\n",
    "            zero_division=zero_division\n",
    "        )\n",
    "        r = recall_score(\n",
    "            references, predictions, labels=labels, pos_label=pos_label, average=average, sample_weight=sample_weight,\n",
    "            zero_division=zero_division\n",
    "        )\n",
    "        c = classification_report(\n",
    "            references, predictions, labels=labels\n",
    "        )\n",
    "        print(c)\n",
    "        return {\"f1\": float(f1) if f1.size == 1 else f1,\n",
    "                \"precision\": float(p) if p.size == 1 else p,\n",
    "                \"recall\": float(r) if r.size == 1 else r}"
   ],
   "metadata": {
    "collapsed": false,
    "pycharm": {
     "name": "#%%\n"
    }
   }
  },
  {
   "cell_type": "code",
   "execution_count": 71,
   "outputs": [],
   "source": [
    "# training sentence selection function\n",
    "def train_sentence_selection(df, n_neutral, n_positive, n_negative, label, seed):\n",
    "    # saving column name given PT or MD label\n",
    "    label = f\"{label}_label\"\n",
    "    # randomly selecting 1-2 sentences per label\n",
    "    neutral_sentences = df[df[label] == \"neutral\"].sample(n_neutral, replace=False, random_state=seed)\n",
    "    positive_sentences = df[df[label] == \"positive\"].sample(n_positive, replace=False, random_state=seed)\n",
    "    negative_sentences = df[df[label] == \"negative\"].sample(n_negative, replace=False, random_state=seed)\n",
    "    all_sentences = pd.concat([neutral_sentences,\n",
    "                               positive_sentences,\n",
    "                               negative_sentences], ignore_index = True)\n",
    "    return all_sentences"
   ],
   "metadata": {
    "collapsed": false,
    "pycharm": {
     "name": "#%%\n"
    }
   }
  },
  {
   "cell_type": "code",
   "execution_count": 67,
   "outputs": [],
   "source": [
    "train = pd.read_csv(\"../data/train_PT_MD_labels.csv\")\n",
    "test = pd.read_csv(\"../data/test_PT_MD_labels.csv\")\n",
    "\n",
    "# randomly selecting 1-2 training sentences per MD label\n",
    "# n_neutral_s = 2\n",
    "# n_positive_s = 0\n",
    "# n_negative_s = 0\n",
    "# train_sentences = train_sentence_selection(train, n_neutral_s, n_positive_s, n_negative_s, \"MD\", 42)\n",
    "json_train_sentences = train[\"language\"].to_json()\n",
    "json_train_labels = train[\"MD_label\"].to_json()\n",
    "# print(train_sentences, json_train_labels)\n",
    "\n",
    "# converting test sentences to json format\n",
    "json_test_sentences = test[\"language\"].to_json()"
   ],
   "metadata": {
    "collapsed": false,
    "pycharm": {
     "name": "#%%\n"
    }
   }
  },
  {
   "cell_type": "code",
   "execution_count": 72,
   "outputs": [
    {
     "data": {
      "text/plain": "[(8, 28),\n (8, 6),\n (8, 0),\n (8, 16),\n (8, 5),\n (8, 18),\n (8, 3),\n (8, 32),\n (8, 10),\n (8, 21),\n (8, 4),\n (28, 6),\n (28, 0),\n (28, 16),\n (28, 5),\n (28, 18),\n (28, 3),\n (28, 32),\n (28, 10),\n (28, 21),\n (28, 4),\n (6, 0),\n (6, 16),\n (6, 5),\n (6, 18),\n (6, 3),\n (6, 32),\n (6, 10),\n (6, 21),\n (6, 4),\n (0, 16),\n (0, 5),\n (0, 18),\n (0, 3),\n (0, 32),\n (0, 10),\n (0, 21),\n (0, 4),\n (16, 5),\n (16, 18),\n (16, 3),\n (16, 32),\n (16, 10),\n (16, 21),\n (16, 4),\n (5, 18),\n (5, 3),\n (5, 32),\n (5, 10),\n (5, 21),\n (5, 4),\n (18, 3),\n (18, 32),\n (18, 10),\n (18, 21),\n (18, 4),\n (3, 32),\n (3, 10),\n (3, 21),\n (3, 4),\n (32, 10),\n (32, 21),\n (32, 4),\n (10, 21),\n (10, 4),\n (21, 4)]"
     },
     "execution_count": 72,
     "metadata": {},
     "output_type": "execute_result"
    }
   ],
   "source": [
    "list(combinations(train[\"idx\"], 2))"
   ],
   "metadata": {
    "collapsed": false,
    "pycharm": {
     "name": "#%%\n"
    }
   }
  },
  {
   "cell_type": "code",
   "execution_count": null,
   "outputs": [],
   "source": [],
   "metadata": {
    "collapsed": false,
    "pycharm": {
     "name": "#%%\n"
    }
   }
  },
  {
   "cell_type": "code",
   "execution_count": 62,
   "outputs": [
    {
     "name": "stdout",
     "output_type": "stream",
     "text": [
      "{\"0\":\"negative\",\"1\":\"negative\",\"2\":\"negative\",\"3\":\"negative\",\"4\":\"negative\",\"5\":\"negative\",\"6\":\"negative\",\"7\":\"negative\",\"8\":\"negative\",\"9\":\"negative\",\"10\":\"neutral\",\"11\":\"negative\",\"12\":\"positive\",\"13\":\"positive\",\"14\":\"positive\",\"15\":\"positive\",\"16\":\"negative\",\"17\":\"positive\",\"18\":\"negative\",\"19\":\"neutral\",\"20\":\"negative\",\"21\":\"neutral\",\"22\":\"positive\",\"23\":\"negative\",\"24\":\"neutral\",\"25\":\"negative\",\"26\":\"positive\"}\n"
     ]
    }
   ],
   "source": [
    "messages = [{\"role\": \"system\", \"content\": \"You are a medical doctor.\"},\n",
    "            {\"role\": \"user\", \"content\": \"As a medical doctor, you write many clinical notes about patients.\\n\"\n",
    "                                        \"Your task is to analyze the sentiment of a series of sentences you wrote about patients.\\n\"\n",
    "                                        \"For each sentence, what is your attitude towards the patient you wrote about?\\n\"\n",
    "                                        \"Please assign a sentiment score of negative, neutral, or positive for each sentence.\\n\"\n",
    "                                        \"Below are three example sentences in JSON format:\\n\"\n",
    "                                        f\"{json_train_sentences}\"\n",
    "                                        \"Please provide your answer in JSON format.\"},\n",
    "            {\"role\": \"assistant\", \"content\": f\"{json_train_labels}\"},\n",
    "            {\"role\": \"user\", \"content\": f\"Complete the same task with each of these sentences:\\n{json_test_sentences}\"}]\n",
    "\n",
    "response = client.chat.completions.create(model=deployment, messages=messages, temperature=0, seed=42)\n",
    "\n",
    "output = response.choices[0].message.content\n",
    "# predictions = pd.read_json(output, orient=\"index\")\n",
    "# predictions.columns.values[0] = \"predictions\"\n",
    "# predictions[\"predictions\"] = predictions[].map(replace)\n",
    "print(output)"
   ],
   "metadata": {
    "collapsed": false,
    "pycharm": {
     "name": "#%%\n"
    }
   }
  },
  {
   "cell_type": "code",
   "execution_count": 45,
   "outputs": [
    {
     "name": "stdout",
     "output_type": "stream",
     "text": [
      "              precision    recall  f1-score   support\n",
      "\n",
      "    negative       0.56      0.82      0.67        11\n",
      "     neutral       0.75      0.27      0.40        11\n",
      "    positive       0.71      1.00      0.83         5\n",
      "\n",
      "    accuracy                           0.63        27\n",
      "   macro avg       0.68      0.70      0.63        27\n",
      "weighted avg       0.67      0.63      0.59        27\n",
      "\n"
     ]
    },
    {
     "name": "stderr",
     "output_type": "stream",
     "text": [
      "/var/folders/xm/m4dy5bvs1fn7fb9wxjhsg4dc0000gn/T/ipykernel_1449/3948966191.py:1: FutureWarning: Passing literal json to 'read_json' is deprecated and will be removed in a future version. To read from a literal string, wrap it in a 'StringIO' object.\n",
      "  predictions = pd.read_json(output, orient=\"index\")\n"
     ]
    },
    {
     "data": {
      "text/plain": "{'f1': 0.5888888888888888,\n 'precision': 0.6669973544973545,\n 'recall': 0.6296296296296297}"
     },
     "execution_count": 45,
     "metadata": {},
     "output_type": "execute_result"
    }
   ],
   "source": [
    "predictions = pd.read_json(output, orient=\"index\")\n",
    "compute_metrics(predictions[0], test[\"MD_label\"])"
   ],
   "metadata": {
    "collapsed": false,
    "pycharm": {
     "name": "#%%\n"
    }
   }
  },
  {
   "cell_type": "code",
   "execution_count": 48,
   "outputs": [
    {
     "name": "stdout",
     "output_type": "stream",
     "text": [
      "              precision    recall  f1-score   support\n",
      "\n",
      "    negative       0.56      0.82      0.67        11\n",
      "     neutral       0.75      0.27      0.40        11\n",
      "    positive       0.71      1.00      0.83         5\n",
      "\n",
      "    accuracy                           0.63        27\n",
      "   macro avg       0.68      0.70      0.63        27\n",
      "weighted avg       0.67      0.63      0.59        27\n",
      "\n",
      "{'f1': 0.5888888888888888, 'precision': 0.6669973544973545, 'recall': 0.6296296296296297}\n"
     ]
    }
   ],
   "source": [
    "results = compute_metrics(predictions[0], test[\"MD_label\"])\n",
    "print(results)"
   ],
   "metadata": {
    "collapsed": false,
    "pycharm": {
     "name": "#%%\n"
    }
   }
  },
  {
   "cell_type": "code",
   "execution_count": null,
   "outputs": [],
   "source": [
    "# Hyperparameters (for best configuration selection)\n",
    "params = {\n",
    "    'seed': [42],\n",
    "    'n_neutral_sentences': [1, 2, 3, 4, 5, 6],\n",
    "    'n_positive_sentences': [0, 1, 2],\n",
    "    'n_negative_sentences': [0, 1, 2]\n",
    "}\n",
    "\n",
    "metrics_file = f'MD_context_metrics.csv'\n",
    "if os.path.isfile(metrics_file):\n",
    "    f = open(metrics_file, 'a')\n",
    "else:\n",
    "    f = open(metrics_file, 'w')\n",
    "    f.write('seed,n_neutral_sentences,n_positive_sentences,n_negative_sentences,f1,precision,recall\\n')\n",
    "\n",
    "best_model = []\n",
    "best_f1 = 0.0\n",
    "best_comb, best_results = None, None\n",
    "for comb in list(ParameterGrid(params)):\n",
    "    train = pd.read_csv(f\"../data/train_PT_MD_labels.csv\")\n",
    "    test = pd.read_csv(f\"../data/test_PT_MD_labels.csv\")\n",
    "    # randomly selecting context sentences in json format\n",
    "    train_sentences = train_sentence_selection(train,\n",
    "                                               comb['n_neutral_sentences'],\n",
    "                                               comb['n_positive_sentences'],\n",
    "                                               comb['n_negative_sentences'],\n",
    "                                               \"MD\",\n",
    "                                               comb['seed'])\n",
    "    json_train_sentences = train_sentences[\"language\"].to_json()\n",
    "    json_train_labels = train_sentences[\"MD_label\"].to_json()\n",
    "\n",
    "    # converting test sentences to json format\n",
    "    json_test_sentences = test[\"language\"].to_json()\n",
    "\n",
    "    # creating context prompt\n",
    "    messages = [{\"role\": \"system\", \"content\": \"You are a medical doctor.\"},\n",
    "                {\"role\": \"user\", \"content\": \"As a medical doctor, you write many clinical notes about patients.\\n\"\n",
    "                                            \"Your task is to analyze the sentiment of a series of sentences you wrote about patients.\\n\"\n",
    "                                            \"For each sentence, what is your attitude towards the patient you wrote about?\\n\"\n",
    "                                            \"Please assign a sentiment score of negative, neutral, or positive for each sentence.\\n\"\n",
    "                                            \"Below are three example sentences in JSON format:\\n\"\n",
    "                                            f\"{json_train_sentences}\"\n",
    "                                            \"Please provide your answer in JSON format.\"},\n",
    "                {\"role\": \"assistant\", \"content\": f\"{json_train_labels}\"},\n",
    "                {\"role\": \"user\", \"content\": f\"Complete the same task with each of these sentences:\\n{json_test_sentences}\"}]\n",
    "\n",
    "    # running chat completion\n",
    "    response = client.chat.completions.create(model=deployment, messages=messages, temperature=0, seed=comb['seed'])\n",
    "    # saving response to json format\n",
    "    output = response.choices[0].message.content\n",
    "    predictions = pd.read_json(output, orient=\"index\")\n",
    "    # computing metrics\n",
    "    results = compute_metrics(predictions[0], test[\"MD_label\"])\n",
    "    # saving results to metrics sheet\n",
    "    v = [comb['seed'], comb['n_neutral_sentences'], comb['n_positive_sentences'], comb['n_negative_sentences'],\n",
    "         results['f1'], results['precision'], results['recall']]\n",
    "    f.write(','.join([str(el) for el in v]) + '\\n')\n",
    "\n",
    "    if results['f1'] > best_f1:\n",
    "        best_f1 = results['f1']\n",
    "        best_comb = comb\n",
    "        best_results = results\n",
    "        error_analysis = pd.concat([test[[\"idx\", \"language\", \"PT_MD_labels\", \"MD_label\"]], predictions], axis=1)\n",
    "        error_analysis = error_analysis.rename(columns={0:\"pred\", \"MD_label\":\"true\"})\n",
    "        mask = error_analysis[\"pred\"] == error_analysis[\"true\"]\n",
    "        error_analysis = error_analysis[~ mask]\n",
    "        error_analysis.to_csv('error_analysis.csv', index=False)\n",
    "    print('-' * 100)\n",
    "    print('\\n\\n')\n",
    "\n",
    "if best_comb is not None:\n",
    "    print(f'Best combination of context sentences: {best_comb}')\n",
    "    print('\\n')\n",
    "    print(f'Best results: {best_results}')\n",
    "f.close()"
   ],
   "metadata": {
    "collapsed": false,
    "pycharm": {
     "name": "#%%\n"
    }
   }
  },
  {
   "cell_type": "code",
   "execution_count": 66,
   "outputs": [
    {
     "name": "stderr",
     "output_type": "stream",
     "text": [
      "/var/folders/xm/m4dy5bvs1fn7fb9wxjhsg4dc0000gn/T/ipykernel_1449/3204754040.py:51: FutureWarning: Passing literal json to 'read_json' is deprecated and will be removed in a future version. To read from a literal string, wrap it in a 'StringIO' object.\n",
      "  predictions = pd.read_json(output, orient=\"index\")\n"
     ]
    },
    {
     "name": "stdout",
     "output_type": "stream",
     "text": [
      "              precision    recall  f1-score   support\n",
      "\n",
      "    negative       0.56      0.82      0.67        11\n",
      "     neutral       0.57      0.36      0.44        11\n",
      "    positive       1.00      0.80      0.89         5\n",
      "\n",
      "    accuracy                           0.63        27\n",
      "   macro avg       0.71      0.66      0.67        27\n",
      "weighted avg       0.65      0.63      0.62        27\n",
      "\n",
      "----------------------------------------------------------------------------------------------------\n",
      "\n",
      "\n",
      "\n"
     ]
    },
    {
     "name": "stderr",
     "output_type": "stream",
     "text": [
      "/var/folders/xm/m4dy5bvs1fn7fb9wxjhsg4dc0000gn/T/ipykernel_1449/3204754040.py:51: FutureWarning: Passing literal json to 'read_json' is deprecated and will be removed in a future version. To read from a literal string, wrap it in a 'StringIO' object.\n",
      "  predictions = pd.read_json(output, orient=\"index\")\n",
      "/Users/valena17/azure_gpt/azure_gpt_env/lib/python3.10/site-packages/sklearn/metrics/_classification.py:1471: UndefinedMetricWarning: Precision is ill-defined and being set to 0.0 in labels with no predicted samples. Use `zero_division` parameter to control this behavior.\n",
      "  _warn_prf(average, modifier, msg_start, len(result))\n",
      "/Users/valena17/azure_gpt/azure_gpt_env/lib/python3.10/site-packages/sklearn/metrics/_classification.py:1471: UndefinedMetricWarning: Precision and F-score are ill-defined and being set to 0.0 in labels with no predicted samples. Use `zero_division` parameter to control this behavior.\n",
      "  _warn_prf(average, modifier, msg_start, len(result))\n",
      "/Users/valena17/azure_gpt/azure_gpt_env/lib/python3.10/site-packages/sklearn/metrics/_classification.py:1471: UndefinedMetricWarning: Precision and F-score are ill-defined and being set to 0.0 in labels with no predicted samples. Use `zero_division` parameter to control this behavior.\n",
      "  _warn_prf(average, modifier, msg_start, len(result))\n",
      "/Users/valena17/azure_gpt/azure_gpt_env/lib/python3.10/site-packages/sklearn/metrics/_classification.py:1471: UndefinedMetricWarning: Precision and F-score are ill-defined and being set to 0.0 in labels with no predicted samples. Use `zero_division` parameter to control this behavior.\n",
      "  _warn_prf(average, modifier, msg_start, len(result))\n"
     ]
    },
    {
     "name": "stdout",
     "output_type": "stream",
     "text": [
      "              precision    recall  f1-score   support\n",
      "\n",
      "    negative       0.53      0.82      0.64        11\n",
      "     neutral       0.00      0.00      0.00        11\n",
      "    positive       0.50      1.00      0.67         5\n",
      "\n",
      "    accuracy                           0.52        27\n",
      "   macro avg       0.34      0.61      0.44        27\n",
      "weighted avg       0.31      0.52      0.39        27\n",
      "\n",
      "----------------------------------------------------------------------------------------------------\n",
      "\n",
      "\n",
      "\n"
     ]
    },
    {
     "name": "stderr",
     "output_type": "stream",
     "text": [
      "/var/folders/xm/m4dy5bvs1fn7fb9wxjhsg4dc0000gn/T/ipykernel_1449/3204754040.py:51: FutureWarning: Passing literal json to 'read_json' is deprecated and will be removed in a future version. To read from a literal string, wrap it in a 'StringIO' object.\n",
      "  predictions = pd.read_json(output, orient=\"index\")\n"
     ]
    },
    {
     "name": "stdout",
     "output_type": "stream",
     "text": [
      "              precision    recall  f1-score   support\n",
      "\n",
      "    negative       0.53      0.82      0.64        11\n",
      "     neutral       0.67      0.18      0.29        11\n",
      "    positive       0.71      1.00      0.83         5\n",
      "\n",
      "    accuracy                           0.59        27\n",
      "   macro avg       0.64      0.67      0.59        27\n",
      "weighted avg       0.62      0.59      0.53        27\n",
      "\n",
      "----------------------------------------------------------------------------------------------------\n",
      "\n",
      "\n",
      "\n"
     ]
    },
    {
     "name": "stderr",
     "output_type": "stream",
     "text": [
      "/var/folders/xm/m4dy5bvs1fn7fb9wxjhsg4dc0000gn/T/ipykernel_1449/3204754040.py:51: FutureWarning: Passing literal json to 'read_json' is deprecated and will be removed in a future version. To read from a literal string, wrap it in a 'StringIO' object.\n",
      "  predictions = pd.read_json(output, orient=\"index\")\n"
     ]
    },
    {
     "name": "stdout",
     "output_type": "stream",
     "text": [
      "              precision    recall  f1-score   support\n",
      "\n",
      "    negative       0.60      0.82      0.69        11\n",
      "     neutral       0.71      0.45      0.56        11\n",
      "    positive       1.00      1.00      1.00         5\n",
      "\n",
      "    accuracy                           0.70        27\n",
      "   macro avg       0.77      0.76      0.75        27\n",
      "weighted avg       0.72      0.70      0.69        27\n",
      "\n",
      "----------------------------------------------------------------------------------------------------\n",
      "\n",
      "\n",
      "\n"
     ]
    },
    {
     "name": "stderr",
     "output_type": "stream",
     "text": [
      "/var/folders/xm/m4dy5bvs1fn7fb9wxjhsg4dc0000gn/T/ipykernel_1449/3204754040.py:51: FutureWarning: Passing literal json to 'read_json' is deprecated and will be removed in a future version. To read from a literal string, wrap it in a 'StringIO' object.\n",
      "  predictions = pd.read_json(output, orient=\"index\")\n"
     ]
    },
    {
     "name": "stdout",
     "output_type": "stream",
     "text": [
      "              precision    recall  f1-score   support\n",
      "\n",
      "    negative       0.56      0.82      0.67        11\n",
      "     neutral       0.67      0.36      0.47        11\n",
      "    positive       1.00      1.00      1.00         5\n",
      "\n",
      "    accuracy                           0.67        27\n",
      "   macro avg       0.74      0.73      0.71        27\n",
      "weighted avg       0.69      0.67      0.65        27\n",
      "\n",
      "----------------------------------------------------------------------------------------------------\n",
      "\n",
      "\n",
      "\n"
     ]
    },
    {
     "name": "stderr",
     "output_type": "stream",
     "text": [
      "/var/folders/xm/m4dy5bvs1fn7fb9wxjhsg4dc0000gn/T/ipykernel_1449/3204754040.py:51: FutureWarning: Passing literal json to 'read_json' is deprecated and will be removed in a future version. To read from a literal string, wrap it in a 'StringIO' object.\n",
      "  predictions = pd.read_json(output, orient=\"index\")\n"
     ]
    },
    {
     "name": "stdout",
     "output_type": "stream",
     "text": [
      "              precision    recall  f1-score   support\n",
      "\n",
      "    negative       0.56      0.82      0.67        11\n",
      "     neutral       0.67      0.36      0.47        11\n",
      "    positive       1.00      1.00      1.00         5\n",
      "\n",
      "    accuracy                           0.67        27\n",
      "   macro avg       0.74      0.73      0.71        27\n",
      "weighted avg       0.69      0.67      0.65        27\n",
      "\n",
      "----------------------------------------------------------------------------------------------------\n",
      "\n",
      "\n",
      "\n"
     ]
    },
    {
     "name": "stderr",
     "output_type": "stream",
     "text": [
      "/var/folders/xm/m4dy5bvs1fn7fb9wxjhsg4dc0000gn/T/ipykernel_1449/3204754040.py:51: FutureWarning: Passing literal json to 'read_json' is deprecated and will be removed in a future version. To read from a literal string, wrap it in a 'StringIO' object.\n",
      "  predictions = pd.read_json(output, orient=\"index\")\n"
     ]
    },
    {
     "name": "stdout",
     "output_type": "stream",
     "text": [
      "              precision    recall  f1-score   support\n",
      "\n",
      "    negative       0.56      0.82      0.67        11\n",
      "     neutral       0.57      0.36      0.44        11\n",
      "    positive       1.00      0.80      0.89         5\n",
      "\n",
      "    accuracy                           0.63        27\n",
      "   macro avg       0.71      0.66      0.67        27\n",
      "weighted avg       0.65      0.63      0.62        27\n",
      "\n",
      "----------------------------------------------------------------------------------------------------\n",
      "\n",
      "\n",
      "\n"
     ]
    },
    {
     "name": "stderr",
     "output_type": "stream",
     "text": [
      "/var/folders/xm/m4dy5bvs1fn7fb9wxjhsg4dc0000gn/T/ipykernel_1449/3204754040.py:51: FutureWarning: Passing literal json to 'read_json' is deprecated and will be removed in a future version. To read from a literal string, wrap it in a 'StringIO' object.\n",
      "  predictions = pd.read_json(output, orient=\"index\")\n"
     ]
    },
    {
     "name": "stdout",
     "output_type": "stream",
     "text": [
      "              precision    recall  f1-score   support\n",
      "\n",
      "    negative       0.56      0.82      0.67        11\n",
      "     neutral       0.57      0.36      0.44        11\n",
      "    positive       1.00      0.80      0.89         5\n",
      "\n",
      "    accuracy                           0.63        27\n",
      "   macro avg       0.71      0.66      0.67        27\n",
      "weighted avg       0.65      0.63      0.62        27\n",
      "\n",
      "----------------------------------------------------------------------------------------------------\n",
      "\n",
      "\n",
      "\n"
     ]
    },
    {
     "name": "stderr",
     "output_type": "stream",
     "text": [
      "/var/folders/xm/m4dy5bvs1fn7fb9wxjhsg4dc0000gn/T/ipykernel_1449/3204754040.py:51: FutureWarning: Passing literal json to 'read_json' is deprecated and will be removed in a future version. To read from a literal string, wrap it in a 'StringIO' object.\n",
      "  predictions = pd.read_json(output, orient=\"index\")\n"
     ]
    },
    {
     "name": "stdout",
     "output_type": "stream",
     "text": [
      "              precision    recall  f1-score   support\n",
      "\n",
      "    negative       0.56      0.82      0.67        11\n",
      "     neutral       0.57      0.36      0.44        11\n",
      "    positive       1.00      0.80      0.89         5\n",
      "\n",
      "    accuracy                           0.63        27\n",
      "   macro avg       0.71      0.66      0.67        27\n",
      "weighted avg       0.65      0.63      0.62        27\n",
      "\n",
      "----------------------------------------------------------------------------------------------------\n",
      "\n",
      "\n",
      "\n"
     ]
    },
    {
     "name": "stderr",
     "output_type": "stream",
     "text": [
      "/var/folders/xm/m4dy5bvs1fn7fb9wxjhsg4dc0000gn/T/ipykernel_1449/3204754040.py:51: FutureWarning: Passing literal json to 'read_json' is deprecated and will be removed in a future version. To read from a literal string, wrap it in a 'StringIO' object.\n",
      "  predictions = pd.read_json(output, orient=\"index\")\n"
     ]
    },
    {
     "name": "stdout",
     "output_type": "stream",
     "text": [
      "              precision    recall  f1-score   support\n",
      "\n",
      "    negative       0.56      0.82      0.67        11\n",
      "     neutral       0.57      0.36      0.44        11\n",
      "    positive       1.00      0.80      0.89         5\n",
      "\n",
      "    accuracy                           0.63        27\n",
      "   macro avg       0.71      0.66      0.67        27\n",
      "weighted avg       0.65      0.63      0.62        27\n",
      "\n",
      "----------------------------------------------------------------------------------------------------\n",
      "\n",
      "\n",
      "\n"
     ]
    },
    {
     "name": "stderr",
     "output_type": "stream",
     "text": [
      "/var/folders/xm/m4dy5bvs1fn7fb9wxjhsg4dc0000gn/T/ipykernel_1449/3204754040.py:51: FutureWarning: Passing literal json to 'read_json' is deprecated and will be removed in a future version. To read from a literal string, wrap it in a 'StringIO' object.\n",
      "  predictions = pd.read_json(output, orient=\"index\")\n"
     ]
    },
    {
     "name": "stdout",
     "output_type": "stream",
     "text": [
      "              precision    recall  f1-score   support\n",
      "\n",
      "    negative       0.56      0.82      0.67        11\n",
      "     neutral       0.57      0.36      0.44        11\n",
      "    positive       1.00      0.80      0.89         5\n",
      "\n",
      "    accuracy                           0.63        27\n",
      "   macro avg       0.71      0.66      0.67        27\n",
      "weighted avg       0.65      0.63      0.62        27\n",
      "\n",
      "----------------------------------------------------------------------------------------------------\n",
      "\n",
      "\n",
      "\n"
     ]
    },
    {
     "name": "stderr",
     "output_type": "stream",
     "text": [
      "/var/folders/xm/m4dy5bvs1fn7fb9wxjhsg4dc0000gn/T/ipykernel_1449/3204754040.py:51: FutureWarning: Passing literal json to 'read_json' is deprecated and will be removed in a future version. To read from a literal string, wrap it in a 'StringIO' object.\n",
      "  predictions = pd.read_json(output, orient=\"index\")\n"
     ]
    },
    {
     "name": "stdout",
     "output_type": "stream",
     "text": [
      "              precision    recall  f1-score   support\n",
      "\n",
      "    negative       0.56      0.82      0.67        11\n",
      "     neutral       0.67      0.36      0.47        11\n",
      "    positive       1.00      1.00      1.00         5\n",
      "\n",
      "    accuracy                           0.67        27\n",
      "   macro avg       0.74      0.73      0.71        27\n",
      "weighted avg       0.69      0.67      0.65        27\n",
      "\n",
      "----------------------------------------------------------------------------------------------------\n",
      "\n",
      "\n",
      "\n"
     ]
    },
    {
     "name": "stderr",
     "output_type": "stream",
     "text": [
      "/var/folders/xm/m4dy5bvs1fn7fb9wxjhsg4dc0000gn/T/ipykernel_1449/3204754040.py:51: FutureWarning: Passing literal json to 'read_json' is deprecated and will be removed in a future version. To read from a literal string, wrap it in a 'StringIO' object.\n",
      "  predictions = pd.read_json(output, orient=\"index\")\n"
     ]
    },
    {
     "name": "stdout",
     "output_type": "stream",
     "text": [
      "              precision    recall  f1-score   support\n",
      "\n",
      "    negative       0.53      0.82      0.64        11\n",
      "     neutral       0.50      0.18      0.27        11\n",
      "    positive       0.83      1.00      0.91         5\n",
      "\n",
      "    accuracy                           0.59        27\n",
      "   macro avg       0.62      0.67      0.61        27\n",
      "weighted avg       0.57      0.59      0.54        27\n",
      "\n",
      "----------------------------------------------------------------------------------------------------\n",
      "\n",
      "\n",
      "\n"
     ]
    },
    {
     "name": "stderr",
     "output_type": "stream",
     "text": [
      "/var/folders/xm/m4dy5bvs1fn7fb9wxjhsg4dc0000gn/T/ipykernel_1449/3204754040.py:51: FutureWarning: Passing literal json to 'read_json' is deprecated and will be removed in a future version. To read from a literal string, wrap it in a 'StringIO' object.\n",
      "  predictions = pd.read_json(output, orient=\"index\")\n"
     ]
    },
    {
     "name": "stdout",
     "output_type": "stream",
     "text": [
      "              precision    recall  f1-score   support\n",
      "\n",
      "    negative       0.56      0.82      0.67        11\n",
      "     neutral       0.57      0.36      0.44        11\n",
      "    positive       1.00      0.80      0.89         5\n",
      "\n",
      "    accuracy                           0.63        27\n",
      "   macro avg       0.71      0.66      0.67        27\n",
      "weighted avg       0.65      0.63      0.62        27\n",
      "\n",
      "----------------------------------------------------------------------------------------------------\n",
      "\n",
      "\n",
      "\n"
     ]
    },
    {
     "name": "stderr",
     "output_type": "stream",
     "text": [
      "/var/folders/xm/m4dy5bvs1fn7fb9wxjhsg4dc0000gn/T/ipykernel_1449/3204754040.py:51: FutureWarning: Passing literal json to 'read_json' is deprecated and will be removed in a future version. To read from a literal string, wrap it in a 'StringIO' object.\n",
      "  predictions = pd.read_json(output, orient=\"index\")\n"
     ]
    },
    {
     "name": "stdout",
     "output_type": "stream",
     "text": [
      "              precision    recall  f1-score   support\n",
      "\n",
      "    negative       0.56      0.82      0.67        11\n",
      "     neutral       0.57      0.36      0.44        11\n",
      "    positive       1.00      0.80      0.89         5\n",
      "\n",
      "    accuracy                           0.63        27\n",
      "   macro avg       0.71      0.66      0.67        27\n",
      "weighted avg       0.65      0.63      0.62        27\n",
      "\n",
      "----------------------------------------------------------------------------------------------------\n",
      "\n",
      "\n",
      "\n"
     ]
    },
    {
     "name": "stderr",
     "output_type": "stream",
     "text": [
      "/var/folders/xm/m4dy5bvs1fn7fb9wxjhsg4dc0000gn/T/ipykernel_1449/3204754040.py:51: FutureWarning: Passing literal json to 'read_json' is deprecated and will be removed in a future version. To read from a literal string, wrap it in a 'StringIO' object.\n",
      "  predictions = pd.read_json(output, orient=\"index\")\n"
     ]
    },
    {
     "name": "stdout",
     "output_type": "stream",
     "text": [
      "              precision    recall  f1-score   support\n",
      "\n",
      "    negative       0.53      0.82      0.64        11\n",
      "     neutral       0.67      0.18      0.29        11\n",
      "    positive       0.71      1.00      0.83         5\n",
      "\n",
      "    accuracy                           0.59        27\n",
      "   macro avg       0.64      0.67      0.59        27\n",
      "weighted avg       0.62      0.59      0.53        27\n",
      "\n",
      "----------------------------------------------------------------------------------------------------\n",
      "\n",
      "\n",
      "\n"
     ]
    },
    {
     "name": "stderr",
     "output_type": "stream",
     "text": [
      "/var/folders/xm/m4dy5bvs1fn7fb9wxjhsg4dc0000gn/T/ipykernel_1449/3204754040.py:51: FutureWarning: Passing literal json to 'read_json' is deprecated and will be removed in a future version. To read from a literal string, wrap it in a 'StringIO' object.\n",
      "  predictions = pd.read_json(output, orient=\"index\")\n"
     ]
    },
    {
     "name": "stdout",
     "output_type": "stream",
     "text": [
      "              precision    recall  f1-score   support\n",
      "\n",
      "    negative       0.56      0.82      0.67        11\n",
      "     neutral       0.57      0.36      0.44        11\n",
      "    positive       1.00      0.80      0.89         5\n",
      "\n",
      "    accuracy                           0.63        27\n",
      "   macro avg       0.71      0.66      0.67        27\n",
      "weighted avg       0.65      0.63      0.62        27\n",
      "\n",
      "----------------------------------------------------------------------------------------------------\n",
      "\n",
      "\n",
      "\n"
     ]
    },
    {
     "name": "stderr",
     "output_type": "stream",
     "text": [
      "/var/folders/xm/m4dy5bvs1fn7fb9wxjhsg4dc0000gn/T/ipykernel_1449/3204754040.py:51: FutureWarning: Passing literal json to 'read_json' is deprecated and will be removed in a future version. To read from a literal string, wrap it in a 'StringIO' object.\n",
      "  predictions = pd.read_json(output, orient=\"index\")\n"
     ]
    },
    {
     "name": "stdout",
     "output_type": "stream",
     "text": [
      "              precision    recall  f1-score   support\n",
      "\n",
      "    negative       0.56      0.82      0.67        11\n",
      "     neutral       0.57      0.36      0.44        11\n",
      "    positive       1.00      0.80      0.89         5\n",
      "\n",
      "    accuracy                           0.63        27\n",
      "   macro avg       0.71      0.66      0.67        27\n",
      "weighted avg       0.65      0.63      0.62        27\n",
      "\n",
      "----------------------------------------------------------------------------------------------------\n",
      "\n",
      "\n",
      "\n"
     ]
    },
    {
     "name": "stderr",
     "output_type": "stream",
     "text": [
      "/var/folders/xm/m4dy5bvs1fn7fb9wxjhsg4dc0000gn/T/ipykernel_1449/3204754040.py:51: FutureWarning: Passing literal json to 'read_json' is deprecated and will be removed in a future version. To read from a literal string, wrap it in a 'StringIO' object.\n",
      "  predictions = pd.read_json(output, orient=\"index\")\n"
     ]
    },
    {
     "name": "stdout",
     "output_type": "stream",
     "text": [
      "              precision    recall  f1-score   support\n",
      "\n",
      "    negative       0.56      0.82      0.67        11\n",
      "     neutral       0.60      0.27      0.37        11\n",
      "    positive       0.83      1.00      0.91         5\n",
      "\n",
      "    accuracy                           0.63        27\n",
      "   macro avg       0.67      0.70      0.65        27\n",
      "weighted avg       0.63      0.63      0.59        27\n",
      "\n",
      "----------------------------------------------------------------------------------------------------\n",
      "\n",
      "\n",
      "\n"
     ]
    },
    {
     "name": "stderr",
     "output_type": "stream",
     "text": [
      "/var/folders/xm/m4dy5bvs1fn7fb9wxjhsg4dc0000gn/T/ipykernel_1449/3204754040.py:51: FutureWarning: Passing literal json to 'read_json' is deprecated and will be removed in a future version. To read from a literal string, wrap it in a 'StringIO' object.\n",
      "  predictions = pd.read_json(output, orient=\"index\")\n"
     ]
    },
    {
     "name": "stdout",
     "output_type": "stream",
     "text": [
      "              precision    recall  f1-score   support\n",
      "\n",
      "    negative       0.56      0.82      0.67        11\n",
      "     neutral       0.75      0.27      0.40        11\n",
      "    positive       0.71      1.00      0.83         5\n",
      "\n",
      "    accuracy                           0.63        27\n",
      "   macro avg       0.68      0.70      0.63        27\n",
      "weighted avg       0.67      0.63      0.59        27\n",
      "\n",
      "----------------------------------------------------------------------------------------------------\n",
      "\n",
      "\n",
      "\n"
     ]
    },
    {
     "name": "stderr",
     "output_type": "stream",
     "text": [
      "/var/folders/xm/m4dy5bvs1fn7fb9wxjhsg4dc0000gn/T/ipykernel_1449/3204754040.py:51: FutureWarning: Passing literal json to 'read_json' is deprecated and will be removed in a future version. To read from a literal string, wrap it in a 'StringIO' object.\n",
      "  predictions = pd.read_json(output, orient=\"index\")\n"
     ]
    },
    {
     "name": "stdout",
     "output_type": "stream",
     "text": [
      "              precision    recall  f1-score   support\n",
      "\n",
      "    negative       0.56      0.82      0.67        11\n",
      "     neutral       0.75      0.27      0.40        11\n",
      "    positive       0.71      1.00      0.83         5\n",
      "\n",
      "    accuracy                           0.63        27\n",
      "   macro avg       0.68      0.70      0.63        27\n",
      "weighted avg       0.67      0.63      0.59        27\n",
      "\n",
      "----------------------------------------------------------------------------------------------------\n",
      "\n",
      "\n",
      "\n"
     ]
    },
    {
     "name": "stderr",
     "output_type": "stream",
     "text": [
      "/var/folders/xm/m4dy5bvs1fn7fb9wxjhsg4dc0000gn/T/ipykernel_1449/3204754040.py:51: FutureWarning: Passing literal json to 'read_json' is deprecated and will be removed in a future version. To read from a literal string, wrap it in a 'StringIO' object.\n",
      "  predictions = pd.read_json(output, orient=\"index\")\n"
     ]
    },
    {
     "name": "stdout",
     "output_type": "stream",
     "text": [
      "              precision    recall  f1-score   support\n",
      "\n",
      "    negative       0.56      0.82      0.67        11\n",
      "     neutral       0.60      0.27      0.37        11\n",
      "    positive       0.83      1.00      0.91         5\n",
      "\n",
      "    accuracy                           0.63        27\n",
      "   macro avg       0.67      0.70      0.65        27\n",
      "weighted avg       0.63      0.63      0.59        27\n",
      "\n",
      "----------------------------------------------------------------------------------------------------\n",
      "\n",
      "\n",
      "\n"
     ]
    },
    {
     "name": "stderr",
     "output_type": "stream",
     "text": [
      "/var/folders/xm/m4dy5bvs1fn7fb9wxjhsg4dc0000gn/T/ipykernel_1449/3204754040.py:51: FutureWarning: Passing literal json to 'read_json' is deprecated and will be removed in a future version. To read from a literal string, wrap it in a 'StringIO' object.\n",
      "  predictions = pd.read_json(output, orient=\"index\")\n",
      "/Users/valena17/azure_gpt/azure_gpt_env/lib/python3.10/site-packages/sklearn/metrics/_classification.py:1471: UndefinedMetricWarning: Precision is ill-defined and being set to 0.0 in labels with no predicted samples. Use `zero_division` parameter to control this behavior.\n",
      "  _warn_prf(average, modifier, msg_start, len(result))\n",
      "/Users/valena17/azure_gpt/azure_gpt_env/lib/python3.10/site-packages/sklearn/metrics/_classification.py:1471: UndefinedMetricWarning: Precision and F-score are ill-defined and being set to 0.0 in labels with no predicted samples. Use `zero_division` parameter to control this behavior.\n",
      "  _warn_prf(average, modifier, msg_start, len(result))\n",
      "/Users/valena17/azure_gpt/azure_gpt_env/lib/python3.10/site-packages/sklearn/metrics/_classification.py:1471: UndefinedMetricWarning: Precision and F-score are ill-defined and being set to 0.0 in labels with no predicted samples. Use `zero_division` parameter to control this behavior.\n",
      "  _warn_prf(average, modifier, msg_start, len(result))\n",
      "/Users/valena17/azure_gpt/azure_gpt_env/lib/python3.10/site-packages/sklearn/metrics/_classification.py:1471: UndefinedMetricWarning: Precision and F-score are ill-defined and being set to 0.0 in labels with no predicted samples. Use `zero_division` parameter to control this behavior.\n",
      "  _warn_prf(average, modifier, msg_start, len(result))\n"
     ]
    },
    {
     "name": "stdout",
     "output_type": "stream",
     "text": [
      "              precision    recall  f1-score   support\n",
      "\n",
      "    negative       0.50      0.82      0.62        11\n",
      "     neutral       0.00      0.00      0.00        11\n",
      "    positive       0.56      1.00      0.71         5\n",
      "\n",
      "    accuracy                           0.52        27\n",
      "   macro avg       0.35      0.61      0.44        27\n",
      "weighted avg       0.31      0.52      0.39        27\n",
      "\n",
      "----------------------------------------------------------------------------------------------------\n",
      "\n",
      "\n",
      "\n"
     ]
    },
    {
     "name": "stderr",
     "output_type": "stream",
     "text": [
      "/var/folders/xm/m4dy5bvs1fn7fb9wxjhsg4dc0000gn/T/ipykernel_1449/3204754040.py:51: FutureWarning: Passing literal json to 'read_json' is deprecated and will be removed in a future version. To read from a literal string, wrap it in a 'StringIO' object.\n",
      "  predictions = pd.read_json(output, orient=\"index\")\n",
      "/Users/valena17/azure_gpt/azure_gpt_env/lib/python3.10/site-packages/sklearn/metrics/_classification.py:1471: UndefinedMetricWarning: Precision is ill-defined and being set to 0.0 in labels with no predicted samples. Use `zero_division` parameter to control this behavior.\n",
      "  _warn_prf(average, modifier, msg_start, len(result))\n",
      "/Users/valena17/azure_gpt/azure_gpt_env/lib/python3.10/site-packages/sklearn/metrics/_classification.py:1471: UndefinedMetricWarning: Precision and F-score are ill-defined and being set to 0.0 in labels with no predicted samples. Use `zero_division` parameter to control this behavior.\n",
      "  _warn_prf(average, modifier, msg_start, len(result))\n",
      "/Users/valena17/azure_gpt/azure_gpt_env/lib/python3.10/site-packages/sklearn/metrics/_classification.py:1471: UndefinedMetricWarning: Precision and F-score are ill-defined and being set to 0.0 in labels with no predicted samples. Use `zero_division` parameter to control this behavior.\n",
      "  _warn_prf(average, modifier, msg_start, len(result))\n",
      "/Users/valena17/azure_gpt/azure_gpt_env/lib/python3.10/site-packages/sklearn/metrics/_classification.py:1471: UndefinedMetricWarning: Precision and F-score are ill-defined and being set to 0.0 in labels with no predicted samples. Use `zero_division` parameter to control this behavior.\n",
      "  _warn_prf(average, modifier, msg_start, len(result))\n"
     ]
    },
    {
     "name": "stdout",
     "output_type": "stream",
     "text": [
      "              precision    recall  f1-score   support\n",
      "\n",
      "    negative       0.53      0.82      0.64        11\n",
      "     neutral       0.00      0.00      0.00        11\n",
      "    positive       0.50      1.00      0.67         5\n",
      "\n",
      "    accuracy                           0.52        27\n",
      "   macro avg       0.34      0.61      0.44        27\n",
      "weighted avg       0.31      0.52      0.39        27\n",
      "\n",
      "----------------------------------------------------------------------------------------------------\n",
      "\n",
      "\n",
      "\n"
     ]
    },
    {
     "name": "stderr",
     "output_type": "stream",
     "text": [
      "/var/folders/xm/m4dy5bvs1fn7fb9wxjhsg4dc0000gn/T/ipykernel_1449/3204754040.py:51: FutureWarning: Passing literal json to 'read_json' is deprecated and will be removed in a future version. To read from a literal string, wrap it in a 'StringIO' object.\n",
      "  predictions = pd.read_json(output, orient=\"index\")\n"
     ]
    },
    {
     "name": "stdout",
     "output_type": "stream",
     "text": [
      "              precision    recall  f1-score   support\n",
      "\n",
      "    negative       0.56      0.82      0.67        11\n",
      "     neutral       0.57      0.36      0.44        11\n",
      "    positive       1.00      0.80      0.89         5\n",
      "\n",
      "    accuracy                           0.63        27\n",
      "   macro avg       0.71      0.66      0.67        27\n",
      "weighted avg       0.65      0.63      0.62        27\n",
      "\n",
      "----------------------------------------------------------------------------------------------------\n",
      "\n",
      "\n",
      "\n"
     ]
    },
    {
     "name": "stderr",
     "output_type": "stream",
     "text": [
      "/var/folders/xm/m4dy5bvs1fn7fb9wxjhsg4dc0000gn/T/ipykernel_1449/3204754040.py:51: FutureWarning: Passing literal json to 'read_json' is deprecated and will be removed in a future version. To read from a literal string, wrap it in a 'StringIO' object.\n",
      "  predictions = pd.read_json(output, orient=\"index\")\n"
     ]
    },
    {
     "name": "stdout",
     "output_type": "stream",
     "text": [
      "              precision    recall  f1-score   support\n",
      "\n",
      "    negative       0.56      0.82      0.67        11\n",
      "     neutral       0.57      0.36      0.44        11\n",
      "    positive       1.00      0.80      0.89         5\n",
      "\n",
      "    accuracy                           0.63        27\n",
      "   macro avg       0.71      0.66      0.67        27\n",
      "weighted avg       0.65      0.63      0.62        27\n",
      "\n",
      "----------------------------------------------------------------------------------------------------\n",
      "\n",
      "\n",
      "\n"
     ]
    },
    {
     "name": "stderr",
     "output_type": "stream",
     "text": [
      "/var/folders/xm/m4dy5bvs1fn7fb9wxjhsg4dc0000gn/T/ipykernel_1449/3204754040.py:51: FutureWarning: Passing literal json to 'read_json' is deprecated and will be removed in a future version. To read from a literal string, wrap it in a 'StringIO' object.\n",
      "  predictions = pd.read_json(output, orient=\"index\")\n"
     ]
    },
    {
     "name": "stdout",
     "output_type": "stream",
     "text": [
      "              precision    recall  f1-score   support\n",
      "\n",
      "    negative       0.56      0.82      0.67        11\n",
      "     neutral       0.80      0.36      0.50        11\n",
      "    positive       0.83      1.00      0.91         5\n",
      "\n",
      "    accuracy                           0.67        27\n",
      "   macro avg       0.73      0.73      0.69        27\n",
      "weighted avg       0.71      0.67      0.64        27\n",
      "\n",
      "----------------------------------------------------------------------------------------------------\n",
      "\n",
      "\n",
      "\n"
     ]
    },
    {
     "name": "stderr",
     "output_type": "stream",
     "text": [
      "/var/folders/xm/m4dy5bvs1fn7fb9wxjhsg4dc0000gn/T/ipykernel_1449/3204754040.py:51: FutureWarning: Passing literal json to 'read_json' is deprecated and will be removed in a future version. To read from a literal string, wrap it in a 'StringIO' object.\n",
      "  predictions = pd.read_json(output, orient=\"index\")\n"
     ]
    },
    {
     "name": "stdout",
     "output_type": "stream",
     "text": [
      "              precision    recall  f1-score   support\n",
      "\n",
      "    negative       0.53      0.82      0.64        11\n",
      "     neutral       0.33      0.27      0.30        11\n",
      "    positive       1.00      0.20      0.33         5\n",
      "\n",
      "    accuracy                           0.48        27\n",
      "   macro avg       0.62      0.43      0.43        27\n",
      "weighted avg       0.54      0.48      0.45        27\n",
      "\n",
      "----------------------------------------------------------------------------------------------------\n",
      "\n",
      "\n",
      "\n"
     ]
    },
    {
     "name": "stderr",
     "output_type": "stream",
     "text": [
      "/var/folders/xm/m4dy5bvs1fn7fb9wxjhsg4dc0000gn/T/ipykernel_1449/3204754040.py:51: FutureWarning: Passing literal json to 'read_json' is deprecated and will be removed in a future version. To read from a literal string, wrap it in a 'StringIO' object.\n",
      "  predictions = pd.read_json(output, orient=\"index\")\n"
     ]
    },
    {
     "name": "stdout",
     "output_type": "stream",
     "text": [
      "              precision    recall  f1-score   support\n",
      "\n",
      "    negative       0.56      0.82      0.67        11\n",
      "     neutral       0.57      0.36      0.44        11\n",
      "    positive       1.00      0.80      0.89         5\n",
      "\n",
      "    accuracy                           0.63        27\n",
      "   macro avg       0.71      0.66      0.67        27\n",
      "weighted avg       0.65      0.63      0.62        27\n",
      "\n",
      "----------------------------------------------------------------------------------------------------\n",
      "\n",
      "\n",
      "\n"
     ]
    },
    {
     "name": "stderr",
     "output_type": "stream",
     "text": [
      "/var/folders/xm/m4dy5bvs1fn7fb9wxjhsg4dc0000gn/T/ipykernel_1449/3204754040.py:51: FutureWarning: Passing literal json to 'read_json' is deprecated and will be removed in a future version. To read from a literal string, wrap it in a 'StringIO' object.\n",
      "  predictions = pd.read_json(output, orient=\"index\")\n"
     ]
    },
    {
     "name": "stdout",
     "output_type": "stream",
     "text": [
      "              precision    recall  f1-score   support\n",
      "\n",
      "    negative       0.56      0.82      0.67        11\n",
      "     neutral       0.67      0.36      0.47        11\n",
      "    positive       0.80      0.80      0.80         5\n",
      "\n",
      "    accuracy                           0.63        27\n",
      "   macro avg       0.68      0.66      0.65        27\n",
      "weighted avg       0.65      0.63      0.61        27\n",
      "\n",
      "----------------------------------------------------------------------------------------------------\n",
      "\n",
      "\n",
      "\n"
     ]
    },
    {
     "name": "stderr",
     "output_type": "stream",
     "text": [
      "/var/folders/xm/m4dy5bvs1fn7fb9wxjhsg4dc0000gn/T/ipykernel_1449/3204754040.py:51: FutureWarning: Passing literal json to 'read_json' is deprecated and will be removed in a future version. To read from a literal string, wrap it in a 'StringIO' object.\n",
      "  predictions = pd.read_json(output, orient=\"index\")\n"
     ]
    },
    {
     "name": "stdout",
     "output_type": "stream",
     "text": [
      "              precision    recall  f1-score   support\n",
      "\n",
      "    negative       0.53      0.82      0.64        11\n",
      "     neutral       0.33      0.27      0.30        11\n",
      "    positive       1.00      0.20      0.33         5\n",
      "\n",
      "    accuracy                           0.48        27\n",
      "   macro avg       0.62      0.43      0.43        27\n",
      "weighted avg       0.54      0.48      0.45        27\n",
      "\n",
      "----------------------------------------------------------------------------------------------------\n",
      "\n",
      "\n",
      "\n"
     ]
    },
    {
     "name": "stderr",
     "output_type": "stream",
     "text": [
      "/var/folders/xm/m4dy5bvs1fn7fb9wxjhsg4dc0000gn/T/ipykernel_1449/3204754040.py:51: FutureWarning: Passing literal json to 'read_json' is deprecated and will be removed in a future version. To read from a literal string, wrap it in a 'StringIO' object.\n",
      "  predictions = pd.read_json(output, orient=\"index\")\n"
     ]
    },
    {
     "name": "stdout",
     "output_type": "stream",
     "text": [
      "              precision    recall  f1-score   support\n",
      "\n",
      "    negative       0.56      0.82      0.67        11\n",
      "     neutral       0.40      0.36      0.38        11\n",
      "    positive       1.00      0.20      0.33         5\n",
      "\n",
      "    accuracy                           0.52        27\n",
      "   macro avg       0.65      0.46      0.46        27\n",
      "weighted avg       0.58      0.52      0.49        27\n",
      "\n",
      "----------------------------------------------------------------------------------------------------\n",
      "\n",
      "\n",
      "\n"
     ]
    },
    {
     "name": "stderr",
     "output_type": "stream",
     "text": [
      "/var/folders/xm/m4dy5bvs1fn7fb9wxjhsg4dc0000gn/T/ipykernel_1449/3204754040.py:51: FutureWarning: Passing literal json to 'read_json' is deprecated and will be removed in a future version. To read from a literal string, wrap it in a 'StringIO' object.\n",
      "  predictions = pd.read_json(output, orient=\"index\")\n"
     ]
    },
    {
     "name": "stdout",
     "output_type": "stream",
     "text": [
      "              precision    recall  f1-score   support\n",
      "\n",
      "    negative       0.53      0.82      0.64        11\n",
      "     neutral       0.67      0.18      0.29        11\n",
      "    positive       0.71      1.00      0.83         5\n",
      "\n",
      "    accuracy                           0.59        27\n",
      "   macro avg       0.64      0.67      0.59        27\n",
      "weighted avg       0.62      0.59      0.53        27\n",
      "\n",
      "----------------------------------------------------------------------------------------------------\n",
      "\n",
      "\n",
      "\n"
     ]
    },
    {
     "name": "stderr",
     "output_type": "stream",
     "text": [
      "/var/folders/xm/m4dy5bvs1fn7fb9wxjhsg4dc0000gn/T/ipykernel_1449/3204754040.py:51: FutureWarning: Passing literal json to 'read_json' is deprecated and will be removed in a future version. To read from a literal string, wrap it in a 'StringIO' object.\n",
      "  predictions = pd.read_json(output, orient=\"index\")\n"
     ]
    },
    {
     "name": "stdout",
     "output_type": "stream",
     "text": [
      "              precision    recall  f1-score   support\n",
      "\n",
      "    negative       0.56      0.82      0.67        11\n",
      "     neutral       0.40      0.36      0.38        11\n",
      "    positive       1.00      0.20      0.33         5\n",
      "\n",
      "    accuracy                           0.52        27\n",
      "   macro avg       0.65      0.46      0.46        27\n",
      "weighted avg       0.58      0.52      0.49        27\n",
      "\n",
      "----------------------------------------------------------------------------------------------------\n",
      "\n",
      "\n",
      "\n"
     ]
    },
    {
     "name": "stderr",
     "output_type": "stream",
     "text": [
      "/var/folders/xm/m4dy5bvs1fn7fb9wxjhsg4dc0000gn/T/ipykernel_1449/3204754040.py:51: FutureWarning: Passing literal json to 'read_json' is deprecated and will be removed in a future version. To read from a literal string, wrap it in a 'StringIO' object.\n",
      "  predictions = pd.read_json(output, orient=\"index\")\n"
     ]
    },
    {
     "name": "stdout",
     "output_type": "stream",
     "text": [
      "              precision    recall  f1-score   support\n",
      "\n",
      "    negative       0.56      0.82      0.67        11\n",
      "     neutral       0.57      0.36      0.44        11\n",
      "    positive       1.00      0.80      0.89         5\n",
      "\n",
      "    accuracy                           0.63        27\n",
      "   macro avg       0.71      0.66      0.67        27\n",
      "weighted avg       0.65      0.63      0.62        27\n",
      "\n",
      "----------------------------------------------------------------------------------------------------\n",
      "\n",
      "\n",
      "\n"
     ]
    },
    {
     "name": "stderr",
     "output_type": "stream",
     "text": [
      "/var/folders/xm/m4dy5bvs1fn7fb9wxjhsg4dc0000gn/T/ipykernel_1449/3204754040.py:51: FutureWarning: Passing literal json to 'read_json' is deprecated and will be removed in a future version. To read from a literal string, wrap it in a 'StringIO' object.\n",
      "  predictions = pd.read_json(output, orient=\"index\")\n"
     ]
    },
    {
     "name": "stdout",
     "output_type": "stream",
     "text": [
      "              precision    recall  f1-score   support\n",
      "\n",
      "    negative       0.56      0.82      0.67        11\n",
      "     neutral       0.57      0.36      0.44        11\n",
      "    positive       1.00      0.80      0.89         5\n",
      "\n",
      "    accuracy                           0.63        27\n",
      "   macro avg       0.71      0.66      0.67        27\n",
      "weighted avg       0.65      0.63      0.62        27\n",
      "\n",
      "----------------------------------------------------------------------------------------------------\n",
      "\n",
      "\n",
      "\n"
     ]
    },
    {
     "name": "stderr",
     "output_type": "stream",
     "text": [
      "/var/folders/xm/m4dy5bvs1fn7fb9wxjhsg4dc0000gn/T/ipykernel_1449/3204754040.py:51: FutureWarning: Passing literal json to 'read_json' is deprecated and will be removed in a future version. To read from a literal string, wrap it in a 'StringIO' object.\n",
      "  predictions = pd.read_json(output, orient=\"index\")\n"
     ]
    },
    {
     "name": "stdout",
     "output_type": "stream",
     "text": [
      "              precision    recall  f1-score   support\n",
      "\n",
      "    negative       0.56      0.82      0.67        11\n",
      "     neutral       0.60      0.27      0.37        11\n",
      "    positive       0.83      1.00      0.91         5\n",
      "\n",
      "    accuracy                           0.63        27\n",
      "   macro avg       0.67      0.70      0.65        27\n",
      "weighted avg       0.63      0.63      0.59        27\n",
      "\n",
      "----------------------------------------------------------------------------------------------------\n",
      "\n",
      "\n",
      "\n"
     ]
    },
    {
     "name": "stderr",
     "output_type": "stream",
     "text": [
      "/var/folders/xm/m4dy5bvs1fn7fb9wxjhsg4dc0000gn/T/ipykernel_1449/3204754040.py:51: FutureWarning: Passing literal json to 'read_json' is deprecated and will be removed in a future version. To read from a literal string, wrap it in a 'StringIO' object.\n",
      "  predictions = pd.read_json(output, orient=\"index\")\n"
     ]
    },
    {
     "name": "stdout",
     "output_type": "stream",
     "text": [
      "              precision    recall  f1-score   support\n",
      "\n",
      "    negative       0.56      0.82      0.67        11\n",
      "     neutral       0.60      0.27      0.37        11\n",
      "    positive       0.83      1.00      0.91         5\n",
      "\n",
      "    accuracy                           0.63        27\n",
      "   macro avg       0.67      0.70      0.65        27\n",
      "weighted avg       0.63      0.63      0.59        27\n",
      "\n",
      "----------------------------------------------------------------------------------------------------\n",
      "\n",
      "\n",
      "\n"
     ]
    },
    {
     "name": "stderr",
     "output_type": "stream",
     "text": [
      "/var/folders/xm/m4dy5bvs1fn7fb9wxjhsg4dc0000gn/T/ipykernel_1449/3204754040.py:51: FutureWarning: Passing literal json to 'read_json' is deprecated and will be removed in a future version. To read from a literal string, wrap it in a 'StringIO' object.\n",
      "  predictions = pd.read_json(output, orient=\"index\")\n"
     ]
    },
    {
     "name": "stdout",
     "output_type": "stream",
     "text": [
      "              precision    recall  f1-score   support\n",
      "\n",
      "    negative       0.56      0.82      0.67        11\n",
      "     neutral       0.75      0.27      0.40        11\n",
      "    positive       0.71      1.00      0.83         5\n",
      "\n",
      "    accuracy                           0.63        27\n",
      "   macro avg       0.68      0.70      0.63        27\n",
      "weighted avg       0.67      0.63      0.59        27\n",
      "\n",
      "----------------------------------------------------------------------------------------------------\n",
      "\n",
      "\n",
      "\n"
     ]
    },
    {
     "name": "stderr",
     "output_type": "stream",
     "text": [
      "/var/folders/xm/m4dy5bvs1fn7fb9wxjhsg4dc0000gn/T/ipykernel_1449/3204754040.py:51: FutureWarning: Passing literal json to 'read_json' is deprecated and will be removed in a future version. To read from a literal string, wrap it in a 'StringIO' object.\n",
      "  predictions = pd.read_json(output, orient=\"index\")\n"
     ]
    },
    {
     "name": "stdout",
     "output_type": "stream",
     "text": [
      "              precision    recall  f1-score   support\n",
      "\n",
      "    negative       0.56      0.82      0.67        11\n",
      "     neutral       0.60      0.27      0.37        11\n",
      "    positive       0.83      1.00      0.91         5\n",
      "\n",
      "    accuracy                           0.63        27\n",
      "   macro avg       0.67      0.70      0.65        27\n",
      "weighted avg       0.63      0.63      0.59        27\n",
      "\n",
      "----------------------------------------------------------------------------------------------------\n",
      "\n",
      "\n",
      "\n"
     ]
    },
    {
     "name": "stderr",
     "output_type": "stream",
     "text": [
      "/var/folders/xm/m4dy5bvs1fn7fb9wxjhsg4dc0000gn/T/ipykernel_1449/3204754040.py:51: FutureWarning: Passing literal json to 'read_json' is deprecated and will be removed in a future version. To read from a literal string, wrap it in a 'StringIO' object.\n",
      "  predictions = pd.read_json(output, orient=\"index\")\n"
     ]
    },
    {
     "name": "stdout",
     "output_type": "stream",
     "text": [
      "              precision    recall  f1-score   support\n",
      "\n",
      "    negative       0.53      0.82      0.64        11\n",
      "     neutral       0.50      0.18      0.27        11\n",
      "    positive       0.83      1.00      0.91         5\n",
      "\n",
      "    accuracy                           0.59        27\n",
      "   macro avg       0.62      0.67      0.61        27\n",
      "weighted avg       0.57      0.59      0.54        27\n",
      "\n",
      "----------------------------------------------------------------------------------------------------\n",
      "\n",
      "\n",
      "\n"
     ]
    },
    {
     "name": "stderr",
     "output_type": "stream",
     "text": [
      "/var/folders/xm/m4dy5bvs1fn7fb9wxjhsg4dc0000gn/T/ipykernel_1449/3204754040.py:51: FutureWarning: Passing literal json to 'read_json' is deprecated and will be removed in a future version. To read from a literal string, wrap it in a 'StringIO' object.\n",
      "  predictions = pd.read_json(output, orient=\"index\")\n",
      "/Users/valena17/azure_gpt/azure_gpt_env/lib/python3.10/site-packages/sklearn/metrics/_classification.py:1471: UndefinedMetricWarning: Precision is ill-defined and being set to 0.0 in labels with no predicted samples. Use `zero_division` parameter to control this behavior.\n",
      "  _warn_prf(average, modifier, msg_start, len(result))\n",
      "/Users/valena17/azure_gpt/azure_gpt_env/lib/python3.10/site-packages/sklearn/metrics/_classification.py:1471: UndefinedMetricWarning: Precision and F-score are ill-defined and being set to 0.0 in labels with no predicted samples. Use `zero_division` parameter to control this behavior.\n",
      "  _warn_prf(average, modifier, msg_start, len(result))\n",
      "/Users/valena17/azure_gpt/azure_gpt_env/lib/python3.10/site-packages/sklearn/metrics/_classification.py:1471: UndefinedMetricWarning: Precision and F-score are ill-defined and being set to 0.0 in labels with no predicted samples. Use `zero_division` parameter to control this behavior.\n",
      "  _warn_prf(average, modifier, msg_start, len(result))\n",
      "/Users/valena17/azure_gpt/azure_gpt_env/lib/python3.10/site-packages/sklearn/metrics/_classification.py:1471: UndefinedMetricWarning: Precision and F-score are ill-defined and being set to 0.0 in labels with no predicted samples. Use `zero_division` parameter to control this behavior.\n",
      "  _warn_prf(average, modifier, msg_start, len(result))\n"
     ]
    },
    {
     "name": "stdout",
     "output_type": "stream",
     "text": [
      "              precision    recall  f1-score   support\n",
      "\n",
      "    negative       0.53      0.82      0.64        11\n",
      "     neutral       0.00      0.00      0.00        11\n",
      "    positive       0.50      1.00      0.67         5\n",
      "\n",
      "    accuracy                           0.52        27\n",
      "   macro avg       0.34      0.61      0.44        27\n",
      "weighted avg       0.31      0.52      0.39        27\n",
      "\n",
      "----------------------------------------------------------------------------------------------------\n",
      "\n",
      "\n",
      "\n"
     ]
    },
    {
     "name": "stderr",
     "output_type": "stream",
     "text": [
      "/var/folders/xm/m4dy5bvs1fn7fb9wxjhsg4dc0000gn/T/ipykernel_1449/3204754040.py:51: FutureWarning: Passing literal json to 'read_json' is deprecated and will be removed in a future version. To read from a literal string, wrap it in a 'StringIO' object.\n",
      "  predictions = pd.read_json(output, orient=\"index\")\n"
     ]
    },
    {
     "name": "stdout",
     "output_type": "stream",
     "text": [
      "              precision    recall  f1-score   support\n",
      "\n",
      "    negative       0.53      0.82      0.64        11\n",
      "     neutral       0.67      0.18      0.29        11\n",
      "    positive       0.71      1.00      0.83         5\n",
      "\n",
      "    accuracy                           0.59        27\n",
      "   macro avg       0.64      0.67      0.59        27\n",
      "weighted avg       0.62      0.59      0.53        27\n",
      "\n",
      "----------------------------------------------------------------------------------------------------\n",
      "\n",
      "\n",
      "\n"
     ]
    },
    {
     "name": "stderr",
     "output_type": "stream",
     "text": [
      "/var/folders/xm/m4dy5bvs1fn7fb9wxjhsg4dc0000gn/T/ipykernel_1449/3204754040.py:51: FutureWarning: Passing literal json to 'read_json' is deprecated and will be removed in a future version. To read from a literal string, wrap it in a 'StringIO' object.\n",
      "  predictions = pd.read_json(output, orient=\"index\")\n"
     ]
    },
    {
     "name": "stdout",
     "output_type": "stream",
     "text": [
      "              precision    recall  f1-score   support\n",
      "\n",
      "    negative       0.53      0.82      0.64        11\n",
      "     neutral       0.40      0.18      0.25        11\n",
      "    positive       0.80      0.80      0.80         5\n",
      "\n",
      "    accuracy                           0.56        27\n",
      "   macro avg       0.58      0.60      0.56        27\n",
      "weighted avg       0.53      0.56      0.51        27\n",
      "\n",
      "----------------------------------------------------------------------------------------------------\n",
      "\n",
      "\n",
      "\n"
     ]
    },
    {
     "name": "stderr",
     "output_type": "stream",
     "text": [
      "/var/folders/xm/m4dy5bvs1fn7fb9wxjhsg4dc0000gn/T/ipykernel_1449/3204754040.py:51: FutureWarning: Passing literal json to 'read_json' is deprecated and will be removed in a future version. To read from a literal string, wrap it in a 'StringIO' object.\n",
      "  predictions = pd.read_json(output, orient=\"index\")\n",
      "/Users/valena17/azure_gpt/azure_gpt_env/lib/python3.10/site-packages/sklearn/metrics/_classification.py:1471: UndefinedMetricWarning: Precision is ill-defined and being set to 0.0 in labels with no predicted samples. Use `zero_division` parameter to control this behavior.\n",
      "  _warn_prf(average, modifier, msg_start, len(result))\n",
      "/Users/valena17/azure_gpt/azure_gpt_env/lib/python3.10/site-packages/sklearn/metrics/_classification.py:1471: UndefinedMetricWarning: Precision and F-score are ill-defined and being set to 0.0 in labels with no predicted samples. Use `zero_division` parameter to control this behavior.\n",
      "  _warn_prf(average, modifier, msg_start, len(result))\n",
      "/Users/valena17/azure_gpt/azure_gpt_env/lib/python3.10/site-packages/sklearn/metrics/_classification.py:1471: UndefinedMetricWarning: Precision and F-score are ill-defined and being set to 0.0 in labels with no predicted samples. Use `zero_division` parameter to control this behavior.\n",
      "  _warn_prf(average, modifier, msg_start, len(result))\n",
      "/Users/valena17/azure_gpt/azure_gpt_env/lib/python3.10/site-packages/sklearn/metrics/_classification.py:1471: UndefinedMetricWarning: Precision and F-score are ill-defined and being set to 0.0 in labels with no predicted samples. Use `zero_division` parameter to control this behavior.\n",
      "  _warn_prf(average, modifier, msg_start, len(result))\n"
     ]
    },
    {
     "name": "stdout",
     "output_type": "stream",
     "text": [
      "              precision    recall  f1-score   support\n",
      "\n",
      "    negative       0.53      0.82      0.64        11\n",
      "     neutral       0.00      0.00      0.00        11\n",
      "    positive       0.50      1.00      0.67         5\n",
      "\n",
      "    accuracy                           0.52        27\n",
      "   macro avg       0.34      0.61      0.44        27\n",
      "weighted avg       0.31      0.52      0.39        27\n",
      "\n",
      "----------------------------------------------------------------------------------------------------\n",
      "\n",
      "\n",
      "\n"
     ]
    },
    {
     "name": "stderr",
     "output_type": "stream",
     "text": [
      "/var/folders/xm/m4dy5bvs1fn7fb9wxjhsg4dc0000gn/T/ipykernel_1449/3204754040.py:51: FutureWarning: Passing literal json to 'read_json' is deprecated and will be removed in a future version. To read from a literal string, wrap it in a 'StringIO' object.\n",
      "  predictions = pd.read_json(output, orient=\"index\")\n"
     ]
    },
    {
     "name": "stdout",
     "output_type": "stream",
     "text": [
      "              precision    recall  f1-score   support\n",
      "\n",
      "    negative       0.53      0.82      0.64        11\n",
      "     neutral       0.33      0.27      0.30        11\n",
      "    positive       1.00      0.20      0.33         5\n",
      "\n",
      "    accuracy                           0.48        27\n",
      "   macro avg       0.62      0.43      0.43        27\n",
      "weighted avg       0.54      0.48      0.45        27\n",
      "\n",
      "----------------------------------------------------------------------------------------------------\n",
      "\n",
      "\n",
      "\n"
     ]
    },
    {
     "name": "stderr",
     "output_type": "stream",
     "text": [
      "/var/folders/xm/m4dy5bvs1fn7fb9wxjhsg4dc0000gn/T/ipykernel_1449/3204754040.py:51: FutureWarning: Passing literal json to 'read_json' is deprecated and will be removed in a future version. To read from a literal string, wrap it in a 'StringIO' object.\n",
      "  predictions = pd.read_json(output, orient=\"index\")\n"
     ]
    },
    {
     "name": "stdout",
     "output_type": "stream",
     "text": [
      "              precision    recall  f1-score   support\n",
      "\n",
      "    negative       0.53      0.82      0.64        11\n",
      "     neutral       0.50      0.18      0.27        11\n",
      "    positive       0.83      1.00      0.91         5\n",
      "\n",
      "    accuracy                           0.59        27\n",
      "   macro avg       0.62      0.67      0.61        27\n",
      "weighted avg       0.57      0.59      0.54        27\n",
      "\n",
      "----------------------------------------------------------------------------------------------------\n",
      "\n",
      "\n",
      "\n"
     ]
    },
    {
     "name": "stderr",
     "output_type": "stream",
     "text": [
      "/var/folders/xm/m4dy5bvs1fn7fb9wxjhsg4dc0000gn/T/ipykernel_1449/3204754040.py:51: FutureWarning: Passing literal json to 'read_json' is deprecated and will be removed in a future version. To read from a literal string, wrap it in a 'StringIO' object.\n",
      "  predictions = pd.read_json(output, orient=\"index\")\n"
     ]
    },
    {
     "name": "stdout",
     "output_type": "stream",
     "text": [
      "              precision    recall  f1-score   support\n",
      "\n",
      "    negative       0.56      0.82      0.67        11\n",
      "     neutral       0.67      0.36      0.47        11\n",
      "    positive       0.80      0.80      0.80         5\n",
      "\n",
      "    accuracy                           0.63        27\n",
      "   macro avg       0.68      0.66      0.65        27\n",
      "weighted avg       0.65      0.63      0.61        27\n",
      "\n",
      "----------------------------------------------------------------------------------------------------\n",
      "\n",
      "\n",
      "\n"
     ]
    },
    {
     "name": "stderr",
     "output_type": "stream",
     "text": [
      "/var/folders/xm/m4dy5bvs1fn7fb9wxjhsg4dc0000gn/T/ipykernel_1449/3204754040.py:51: FutureWarning: Passing literal json to 'read_json' is deprecated and will be removed in a future version. To read from a literal string, wrap it in a 'StringIO' object.\n",
      "  predictions = pd.read_json(output, orient=\"index\")\n"
     ]
    },
    {
     "name": "stdout",
     "output_type": "stream",
     "text": [
      "              precision    recall  f1-score   support\n",
      "\n",
      "    negative       0.56      0.82      0.67        11\n",
      "     neutral       0.40      0.36      0.38        11\n",
      "    positive       1.00      0.20      0.33         5\n",
      "\n",
      "    accuracy                           0.52        27\n",
      "   macro avg       0.65      0.46      0.46        27\n",
      "weighted avg       0.58      0.52      0.49        27\n",
      "\n",
      "----------------------------------------------------------------------------------------------------\n",
      "\n",
      "\n",
      "\n"
     ]
    },
    {
     "name": "stderr",
     "output_type": "stream",
     "text": [
      "/var/folders/xm/m4dy5bvs1fn7fb9wxjhsg4dc0000gn/T/ipykernel_1449/3204754040.py:51: FutureWarning: Passing literal json to 'read_json' is deprecated and will be removed in a future version. To read from a literal string, wrap it in a 'StringIO' object.\n",
      "  predictions = pd.read_json(output, orient=\"index\")\n"
     ]
    },
    {
     "name": "stdout",
     "output_type": "stream",
     "text": [
      "              precision    recall  f1-score   support\n",
      "\n",
      "    negative       0.56      0.82      0.67        11\n",
      "     neutral       0.67      0.36      0.47        11\n",
      "    positive       1.00      1.00      1.00         5\n",
      "\n",
      "    accuracy                           0.67        27\n",
      "   macro avg       0.74      0.73      0.71        27\n",
      "weighted avg       0.69      0.67      0.65        27\n",
      "\n",
      "----------------------------------------------------------------------------------------------------\n",
      "\n",
      "\n",
      "\n"
     ]
    },
    {
     "name": "stderr",
     "output_type": "stream",
     "text": [
      "/var/folders/xm/m4dy5bvs1fn7fb9wxjhsg4dc0000gn/T/ipykernel_1449/3204754040.py:51: FutureWarning: Passing literal json to 'read_json' is deprecated and will be removed in a future version. To read from a literal string, wrap it in a 'StringIO' object.\n",
      "  predictions = pd.read_json(output, orient=\"index\")\n"
     ]
    },
    {
     "name": "stdout",
     "output_type": "stream",
     "text": [
      "              precision    recall  f1-score   support\n",
      "\n",
      "    negative       0.53      0.82      0.64        11\n",
      "     neutral       0.67      0.18      0.29        11\n",
      "    positive       0.71      1.00      0.83         5\n",
      "\n",
      "    accuracy                           0.59        27\n",
      "   macro avg       0.64      0.67      0.59        27\n",
      "weighted avg       0.62      0.59      0.53        27\n",
      "\n",
      "----------------------------------------------------------------------------------------------------\n",
      "\n",
      "\n",
      "\n"
     ]
    },
    {
     "name": "stderr",
     "output_type": "stream",
     "text": [
      "/var/folders/xm/m4dy5bvs1fn7fb9wxjhsg4dc0000gn/T/ipykernel_1449/3204754040.py:51: FutureWarning: Passing literal json to 'read_json' is deprecated and will be removed in a future version. To read from a literal string, wrap it in a 'StringIO' object.\n",
      "  predictions = pd.read_json(output, orient=\"index\")\n",
      "/Users/valena17/azure_gpt/azure_gpt_env/lib/python3.10/site-packages/sklearn/metrics/_classification.py:1471: UndefinedMetricWarning: Precision is ill-defined and being set to 0.0 in labels with no predicted samples. Use `zero_division` parameter to control this behavior.\n",
      "  _warn_prf(average, modifier, msg_start, len(result))\n",
      "/Users/valena17/azure_gpt/azure_gpt_env/lib/python3.10/site-packages/sklearn/metrics/_classification.py:1471: UndefinedMetricWarning: Precision and F-score are ill-defined and being set to 0.0 in labels with no predicted samples. Use `zero_division` parameter to control this behavior.\n",
      "  _warn_prf(average, modifier, msg_start, len(result))\n",
      "/Users/valena17/azure_gpt/azure_gpt_env/lib/python3.10/site-packages/sklearn/metrics/_classification.py:1471: UndefinedMetricWarning: Precision and F-score are ill-defined and being set to 0.0 in labels with no predicted samples. Use `zero_division` parameter to control this behavior.\n",
      "  _warn_prf(average, modifier, msg_start, len(result))\n",
      "/Users/valena17/azure_gpt/azure_gpt_env/lib/python3.10/site-packages/sklearn/metrics/_classification.py:1471: UndefinedMetricWarning: Precision and F-score are ill-defined and being set to 0.0 in labels with no predicted samples. Use `zero_division` parameter to control this behavior.\n",
      "  _warn_prf(average, modifier, msg_start, len(result))\n"
     ]
    },
    {
     "name": "stdout",
     "output_type": "stream",
     "text": [
      "              precision    recall  f1-score   support\n",
      "\n",
      "    negative       0.56      0.82      0.67        11\n",
      "     neutral       0.36      0.36      0.36        11\n",
      "    positive       0.00      0.00      0.00         5\n",
      "\n",
      "    accuracy                           0.48        27\n",
      "   macro avg       0.31      0.39      0.34        27\n",
      "weighted avg       0.38      0.48      0.42        27\n",
      "\n",
      "----------------------------------------------------------------------------------------------------\n",
      "\n",
      "\n",
      "\n"
     ]
    },
    {
     "name": "stderr",
     "output_type": "stream",
     "text": [
      "/var/folders/xm/m4dy5bvs1fn7fb9wxjhsg4dc0000gn/T/ipykernel_1449/3204754040.py:51: FutureWarning: Passing literal json to 'read_json' is deprecated and will be removed in a future version. To read from a literal string, wrap it in a 'StringIO' object.\n",
      "  predictions = pd.read_json(output, orient=\"index\")\n"
     ]
    },
    {
     "name": "stdout",
     "output_type": "stream",
     "text": [
      "              precision    recall  f1-score   support\n",
      "\n",
      "    negative       0.56      0.82      0.67        11\n",
      "     neutral       0.57      0.36      0.44        11\n",
      "    positive       1.00      0.80      0.89         5\n",
      "\n",
      "    accuracy                           0.63        27\n",
      "   macro avg       0.71      0.66      0.67        27\n",
      "weighted avg       0.65      0.63      0.62        27\n",
      "\n",
      "----------------------------------------------------------------------------------------------------\n",
      "\n",
      "\n",
      "\n",
      "              precision    recall  f1-score   support\n",
      "\n",
      "    negative       0.56      0.82      0.67        11\n",
      "     neutral       0.60      0.27      0.37        11\n",
      "    positive       0.83      1.00      0.91         5\n",
      "\n",
      "    accuracy                           0.63        27\n",
      "   macro avg       0.67      0.70      0.65        27\n",
      "weighted avg       0.63      0.63      0.59        27\n",
      "\n",
      "----------------------------------------------------------------------------------------------------\n",
      "\n",
      "\n",
      "\n",
      "Best combination of context sentences: {'n_negative_sentences': 0, 'n_neutral_sentences': 2, 'n_positive_sentences': 0, 'seed': 42}\n",
      "\n",
      "\n",
      "Best results: {'f1': 0.693573915796138, 'precision': 0.7206349206349206, 'recall': 0.7037037037037037}\n"
     ]
    },
    {
     "name": "stderr",
     "output_type": "stream",
     "text": [
      "/var/folders/xm/m4dy5bvs1fn7fb9wxjhsg4dc0000gn/T/ipykernel_1449/3204754040.py:51: FutureWarning: Passing literal json to 'read_json' is deprecated and will be removed in a future version. To read from a literal string, wrap it in a 'StringIO' object.\n",
      "  predictions = pd.read_json(output, orient=\"index\")\n"
     ]
    }
   ],
   "source": [
    "# Hyperparameters (for best configuration selection)\n",
    "params = {\n",
    "    'seed': [42],\n",
    "    'n_neutral_sentences': [1, 2, 3, 4, 5, 6],\n",
    "    'n_positive_sentences': [0, 1, 2],\n",
    "    'n_negative_sentences': [0, 1, 2]\n",
    "}\n",
    "\n",
    "metrics_file = f'MD_context_metrics.csv'\n",
    "if os.path.isfile(metrics_file):\n",
    "    f = open(metrics_file, 'a')\n",
    "else:\n",
    "    f = open(metrics_file, 'w')\n",
    "    f.write('seed,n_neutral_sentences,n_positive_sentences,n_negative_sentences,f1,precision,recall\\n')\n",
    "\n",
    "best_model = []\n",
    "best_f1 = 0.0\n",
    "best_comb, best_results = None, None\n",
    "for comb in list(ParameterGrid(params)):\n",
    "    train = pd.read_csv(f\"../data/train_PT_MD_labels.csv\")\n",
    "    test = pd.read_csv(f\"../data/test_PT_MD_labels.csv\")\n",
    "    # randomly selecting context sentences in json format\n",
    "    train_sentences = train_sentence_selection(train,\n",
    "                                               comb['n_neutral_sentences'],\n",
    "                                               comb['n_positive_sentences'],\n",
    "                                               comb['n_negative_sentences'],\n",
    "                                               \"MD\",\n",
    "                                               comb['seed'])\n",
    "    json_train_sentences = train_sentences[\"language\"].to_json()\n",
    "    json_train_labels = train_sentences[\"MD_label\"].to_json()\n",
    "\n",
    "    # converting test sentences to json format\n",
    "    json_test_sentences = test[\"language\"].to_json()\n",
    "\n",
    "    # creating context prompt\n",
    "    messages = [{\"role\": \"system\", \"content\": \"You are a medical doctor.\"},\n",
    "                {\"role\": \"user\", \"content\": \"As a medical doctor, you write many clinical notes about patients.\\n\"\n",
    "                                            \"Your task is to analyze the sentiment of a series of sentences you wrote about patients.\\n\"\n",
    "                                            \"For each sentence, what is your attitude towards the patient you wrote about?\\n\"\n",
    "                                            \"Please assign a sentiment score of negative, neutral, or positive for each sentence.\\n\"\n",
    "                                            \"Below are three example sentences in JSON format:\\n\"\n",
    "                                            f\"{json_train_sentences}\"\n",
    "                                            \"Please provide your answer in JSON format.\"},\n",
    "                {\"role\": \"assistant\", \"content\": f\"{json_train_labels}\"},\n",
    "                {\"role\": \"user\", \"content\": f\"Complete the same task with each of these sentences:\\n{json_test_sentences}\"}]\n",
    "\n",
    "    # running chat completion\n",
    "    response = client.chat.completions.create(model=deployment, messages=messages, temperature=0, seed=comb['seed'])\n",
    "    # saving response to json format\n",
    "    output = response.choices[0].message.content\n",
    "    predictions = pd.read_json(output, orient=\"index\")\n",
    "    # computing metrics\n",
    "    results = compute_metrics(predictions[0], test[\"MD_label\"])\n",
    "    # saving results to metrics sheet\n",
    "    v = [comb['seed'], comb['n_neutral_sentences'], comb['n_positive_sentences'], comb['n_negative_sentences'],\n",
    "         results['f1'], results['precision'], results['recall']]\n",
    "    f.write(','.join([str(el) for el in v]) + '\\n')\n",
    "\n",
    "    if results['f1'] > best_f1:\n",
    "        best_f1 = results['f1']\n",
    "        best_comb = comb\n",
    "        best_results = results\n",
    "        error_analysis = pd.concat([test[[\"idx\", \"language\", \"PT_MD_labels\", \"MD_label\"]], predictions], axis=1)\n",
    "        error_analysis = error_analysis.rename(columns={0:\"pred\", \"MD_label\":\"true\"})\n",
    "        mask = error_analysis[\"pred\"] == error_analysis[\"true\"]\n",
    "        error_analysis = error_analysis[~ mask]\n",
    "        error_analysis.to_csv('error_analysis.csv', index=False)\n",
    "    print('-' * 100)\n",
    "    print('\\n\\n')\n",
    "\n",
    "if best_comb is not None:\n",
    "    print(f'Best combination of context sentences: {best_comb}')\n",
    "    print('\\n')\n",
    "    print(f'Best results: {best_results}')\n",
    "f.close()"
   ],
   "metadata": {
    "collapsed": false,
    "pycharm": {
     "name": "#%%\n"
    }
   }
  },
  {
   "cell_type": "code",
   "execution_count": null,
   "outputs": [],
   "source": [],
   "metadata": {
    "collapsed": false,
    "pycharm": {
     "name": "#%%\n"
    }
   }
  }
 ],
 "metadata": {
  "kernelspec": {
   "display_name": "Python 3",
   "language": "python",
   "name": "python3"
  },
  "language_info": {
   "codemirror_mode": {
    "name": "ipython",
    "version": 2
   },
   "file_extension": ".py",
   "mimetype": "text/x-python",
   "name": "python",
   "nbconvert_exporter": "python",
   "pygments_lexer": "ipython2",
   "version": "2.7.6"
  }
 },
 "nbformat": 4,
 "nbformat_minor": 0
}