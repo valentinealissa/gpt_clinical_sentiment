{
 "cells": [
  {
   "cell_type": "code",
   "execution_count": 1,
   "metadata": {
    "collapsed": true,
    "pycharm": {
     "name": "#%%\n"
    }
   },
   "outputs": [],
   "source": [
    "import evaluate\n",
    "from openai import AzureOpenAI\n",
    "import os\n",
    "import pandas as pd\n",
    "import datasets\n",
    "from sklearn.metrics import f1_score, precision_score, recall_score, classification_report\n",
    "import evaluate\n",
    "\n",
    "def compute_metrics(predictions, references, labels=None, pos_label=1, average=\"weighted\", sample_weight=None, zero_division='warn'):\n",
    "        f1 = f1_score(\n",
    "            references, predictions, labels=labels, pos_label=pos_label, average=average, sample_weight=sample_weight\n",
    "        )\n",
    "        p = precision_score(\n",
    "            references, predictions, labels=labels, pos_label=pos_label, average=average, sample_weight=sample_weight,\n",
    "            zero_division=zero_division\n",
    "        )\n",
    "        r = recall_score(\n",
    "            references, predictions, labels=labels, pos_label=pos_label, average=average, sample_weight=sample_weight,\n",
    "            zero_division=zero_division\n",
    "        )\n",
    "        c = classification_report(\n",
    "            references, predictions, labels=labels\n",
    "        )\n",
    "        print(c)\n",
    "        return {\"f1\": float(f1) if f1.size == 1 else f1,\n",
    "                \"precision\": float(p) if p.size == 1 else p,\n",
    "                \"recall\": float(r) if r.size == 1 else r}\n",
    "\n",
    "client = AzureOpenAI(azure_endpoint='https://oai-cbipm-01.openai.azure.com/',\n",
    "                     api_key=\"cb0e51bd1e4a46fbb4043b8bcdd04cd7\",\n",
    "                     api_version=\"2023-12-01-preview\")  # 2023-12-01-preview <- highest version number as of 1/12/23\n",
    "\n",
    "deployment = \"Deployment\""
   ]
  },
  {
   "cell_type": "code",
   "execution_count": 12,
   "outputs": [
    {
     "name": "stdout",
     "output_type": "stream",
     "text": [
      "5398\n",
      "{\"0\":\"Patient very adamantly against hospitalization; states she is not suicidal and needs to go home to care for her dog\",\"1\":\"Pt admits to sometimes thinking about death, wondering if she would be better off, but adamantly denies any thoughts of taking her own life, very much wants to live\",\"2\":\"However this morning he is adamant that he wants to go to XXX, does not want to go to program and does not want to go home\",\"3\":\"Pt continues to report adherence with his medication; cannot offer explanation as to why his symptoms were worse yesterday\",\"4\":\"Adherent with medications, and lithium level of 0.7 indicates likely adherence as outpatient also.\",\"5\":\"States he is adherent w\\/ his outpatient XXX and HIV meds.\",\"6\":\"Pt has been agitated throught her time in the ED, was given lorazepam 2mg po approximately 30 minutes ago, continues to yell and scream and just threw chairs in the ED, but is now resting\",\"7\":\"She has been awake now for several hours and has become active and hyperverbal, not overly agitated but mood labile\",\"8\":\"Pt denied AH VH PI SA HI and when approached with dc he became agitated stating he was here for more than that but could not explain further\",\"9\":\"Note that pt was not agitated when he was allowed to sit by himself in ER, it was only when things were requested\\/required of him that he became agitated\",\"10\":\"On reassessment this AM, pt remained calm, not agitated, and again is without SI\\/HI\\/AH\\/VH\\/PI or delusional content\",\"11\":\"Sister saw pt often while he was at XXX b\\/c she works the night shift and would visit him on her breaks; states he was always quite sweet, not agitated, but sometimes thought she was their  mother, or another sister\",\"12\":\"Pt remains aggressive and very threatening upon arrival, tried to hit security officer with his head while still in handcuff\",\"13\":\"Pt w extensive XXX history, admitted for the 5th time to XXX in the context of progressively worsening aggressive, agitated and \\\"Out-of-Control\\\" behavior\",\"14\":\"Although pt continues to request discharge, she eventually cooperates with changing into hospital attire, and does not show any signs of agitation\\/aggression\",\"15\":\"Pt angry and has hx of making suicidal threats to be admitted and homicidal threats to staff\",\"16\":\"He remained irritable with an angry edge but was able to respond to redirections\",\"17\":\"Pt appears angry with mother and sister and described significant chronic conflicts with mother\",\"18\":\"She states that pt has been compliant with meds\",\"19\":\"She says that the patient has been compliant with her medications and with therapy sessions, although she says that she is superficial in therapy\",\"20\":\"Pt reports \\\"im ok\\\" and states that although she has been compliant with prozac and seroquel, she has been having a history of \\\"children asking for help\\\" in the context of heavy cannabis and cocaine abuse\",\"21\":\"Calm and cooperative, agrees with plan to stay overnight and went back to sleep\",\"22\":\"Pt is sleepy this morning, and initially resistant to interview, however eventually cooperates, sober this morning\",\"23\":\"He continues to deny SI, is calm, cooperative, polite, and appears euthymic\",\"24\":\"Pt had been evaluated in XXX ED earlier today, and was felt to be malingering re: XXX complaints leading her to request evaluation\\/admission\",\"25\":\"When we discharged the two brothers-- told them they were leaving the PER ( both felt to be malingering)-- one of the brothers then called on this pt who quickly jumped off the stretcher and asked to leave along with the two brothers\",\"26\":\"His odd behavior, such as nearly walking into the wall, was suspicious for malingering, especially in light of his statement that \\\"If I act out in the ER, I will get admitted'\",\"27\":\"55 yo male with XXX, h\\/o asthma, BIB police for threatening behavior, disorganization and paranoia in the setting of medication non-adherence\",\"28\":\"This writer discussed with the patient her pattern of seeking inpatient admissions for worsening depression and SI in context of medication non adherence and drug use\",\"29\":\"Given recent non-adherence, will restart pt on VPA 500mg BID, fluphenazine 5mg PO BID and benztropine 1mg BID\",\"30\":\"His worsening psychotic symptom secondary to medication non compliance and substance use (utox (+) cocaine\\/cannabis), will admit for safety\",\"31\":\"She reported that the patient has not been fully compliant with treatment plan which is mainly a mobile outreach program\",\"32\":\"She does not come regularly for her XXX appointments and has poor compliance with tx care\",\"33\":\"MSE: pleasant, cooperative, euthymic, speech wnl, affect full and appropriate to content\",\"34\":\"Throughout interview, pt calm, cooperative and pleasant and does not appear internally preoccupied\",\"35\":\"The patient was moderately helpless on interview but cooperative and pleasant; not hopeless, or anhedonic --stating she loves to volunteer at animal shelter and enjoys reading, which she was doing while waiting to be interviewed\",\"36\":\"he does not cooperate with treatment decisions when he is manic-- shows poor judgement such as not going to his XXX appointments or taking correct medication\",\"37\":\"Primary team will need to complete more thorough physical exam when pt is cooperative\",\"38\":\"He is not cooperative with questions and starts screaming incoherently \\\"which is it, which is it, which is it\\\" unable to re-direct after this\"}\n"
     ]
    }
   ],
   "source": [
    "dataset = pd.read_csv(\"../psych_nlp/sentiment-analysis/data/sentences_MD-labels_GPT.csv\")\n",
    "# replace = {\"neutral\": 0, \"negative\": 1, \"positive\": 2}\n",
    "# dataset[\"labels\"] = dataset[\"MD_label\"].map(replace)\n",
    "# labels = dataset[\"labels\"]\n",
    "sentences = dataset[\"language\"].to_json()\n",
    "\n",
    "print(len(sentences))\n",
    "print(sentences)"
   ],
   "metadata": {
    "collapsed": false,
    "pycharm": {
     "name": "#%%\n"
    }
   }
  },
  {
   "cell_type": "code",
   "execution_count": 19,
   "outputs": [
    {
     "name": "stdout",
     "output_type": "stream",
     "text": [
      "{\"0\":\"neutral\",\"1\":\"neutral\",\"2\":\"negative\",\"3\":\"neutral\",\"4\":\"positive\",\"5\":\"positive\",\"6\":\"negative\",\"7\":\"neutral\",\"8\":\"negative\",\"9\":\"negative\",\"10\":\"neutral\",\"11\":\"positive\",\"12\":\"negative\",\"13\":\"negative\",\"14\":\"neutral\",\"15\":\"negative\",\"16\":\"negative\",\"17\":\"negative\",\"18\":\"positive\",\"19\":\"negative\",\"20\":\"negative\",\"21\":\"positive\",\"22\":\"neutral\",\"23\":\"neutral\",\"24\":\"negative\",\"25\":\"negative\",\"26\":\"negative\",\"27\":\"negative\",\"28\":\"negative\",\"29\":\"negative\",\"30\":\"negative\",\"31\":\"negative\",\"32\":\"negative\",\"33\":\"positive\",\"34\":\"positive\",\"35\":\"positive\",\"36\":\"negative\",\"37\":\"neutral\",\"38\":\"negative\"}\n"
     ]
    }
   ],
   "source": [
    "messages = [{\"role\": \"system\", \"content\": \"You are a medical doctor.\"},\n",
    "            {\"role\": \"user\", \"content\": \"As a medical doctor, you write many clinical notes about patients.\\n\"\n",
    "                                        \"Your task is to analyze the sentiment of a series of sentences you wrote about patients.\\n\"\n",
    "                                        \"For each sentence, what is your attitude towards the patient you wrote about?\\n\"\n",
    "                                        \"Please assign a sentiment score of negative, neutral, or positive for each sentence.\\n\"\n",
    "                                        \"Below are three example sentences in JSON format:\\n\"\n",
    "                                        \"{\\\"0\\\":\\\"55 yo male with XXX, h/o asthma, BIB police for threatening behavior, disorganization and paranoia in the setting of medication non-adherence\\\",\"\n",
    "                                        \"\\\"1\\\":\\\"Sister saw pt often while he was at XXX b/c she works the night shift and would visit him on her breaks; states he was always quite sweet, not agitated, but sometimes thought she was their  mother, or another sister\\\",\"\n",
    "                                        \"\\\"2\\\":\\\"She does not come regularly for her appointments and has poor compliance with tx care\\\"}\"\n",
    "                                        \"Please provide your answer in JSON format.\"\n",
    "             },\n",
    "            {\"role\": \"assistant\", \"content\": \"{\\\"0\\\":\\\"neutral\\\",\\\"1\\\":\\\"positive,\\\"2\\\":\\\"negative\\\"}\"},\n",
    "            {\"role\": \"user\", \"content\": f\"Complete the same task with each of these sentences:\\n{sentences}\"}]\n",
    "\n",
    "response = client.chat.completions.create(model=deployment, messages=messages, temperature=0, seed=42)\n",
    "\n",
    "output = response.choices[0].message.content\n",
    "# predictions = pd.read_json(output, orient=\"index\")\n",
    "# predictions.columns.values[0] = \"predictions\"\n",
    "# predictions[\"predictions\"] = predictions[].map(replace)\n",
    "print(output)"
   ],
   "metadata": {
    "collapsed": false,
    "pycharm": {
     "name": "#%%\n"
    }
   }
  },
  {
   "cell_type": "code",
   "execution_count": 20,
   "outputs": [
    {
     "name": "stderr",
     "output_type": "stream",
     "text": [
      "/var/folders/xm/m4dy5bvs1fn7fb9wxjhsg4dc0000gn/T/ipykernel_72042/1616948092.py:1: FutureWarning: Passing literal json to 'read_json' is deprecated and will be removed in a future version. To read from a literal string, wrap it in a 'StringIO' object.\n",
      "  predictions = pd.read_json(output, orient=\"index\")\n"
     ]
    },
    {
     "data": {
      "text/plain": "           0\n0    neutral\n1    neutral\n2   negative\n3    neutral\n4   positive\n5   positive\n6   negative\n7    neutral\n8   negative\n9   negative\n10   neutral\n11  positive\n12  negative\n13  negative\n14   neutral\n15  negative\n16  negative\n17  negative\n18  positive\n19  negative\n20  negative\n21  positive\n22   neutral\n23   neutral\n24  negative\n25  negative\n26  negative\n27  negative\n28  negative\n29  negative\n30  negative\n31  negative\n32  negative\n33  positive\n34  positive\n35  positive\n36  negative\n37   neutral\n38  negative",
      "text/html": "<div>\n<style scoped>\n    .dataframe tbody tr th:only-of-type {\n        vertical-align: middle;\n    }\n\n    .dataframe tbody tr th {\n        vertical-align: top;\n    }\n\n    .dataframe thead th {\n        text-align: right;\n    }\n</style>\n<table border=\"1\" class=\"dataframe\">\n  <thead>\n    <tr style=\"text-align: right;\">\n      <th></th>\n      <th>0</th>\n    </tr>\n  </thead>\n  <tbody>\n    <tr>\n      <th>0</th>\n      <td>neutral</td>\n    </tr>\n    <tr>\n      <th>1</th>\n      <td>neutral</td>\n    </tr>\n    <tr>\n      <th>2</th>\n      <td>negative</td>\n    </tr>\n    <tr>\n      <th>3</th>\n      <td>neutral</td>\n    </tr>\n    <tr>\n      <th>4</th>\n      <td>positive</td>\n    </tr>\n    <tr>\n      <th>5</th>\n      <td>positive</td>\n    </tr>\n    <tr>\n      <th>6</th>\n      <td>negative</td>\n    </tr>\n    <tr>\n      <th>7</th>\n      <td>neutral</td>\n    </tr>\n    <tr>\n      <th>8</th>\n      <td>negative</td>\n    </tr>\n    <tr>\n      <th>9</th>\n      <td>negative</td>\n    </tr>\n    <tr>\n      <th>10</th>\n      <td>neutral</td>\n    </tr>\n    <tr>\n      <th>11</th>\n      <td>positive</td>\n    </tr>\n    <tr>\n      <th>12</th>\n      <td>negative</td>\n    </tr>\n    <tr>\n      <th>13</th>\n      <td>negative</td>\n    </tr>\n    <tr>\n      <th>14</th>\n      <td>neutral</td>\n    </tr>\n    <tr>\n      <th>15</th>\n      <td>negative</td>\n    </tr>\n    <tr>\n      <th>16</th>\n      <td>negative</td>\n    </tr>\n    <tr>\n      <th>17</th>\n      <td>negative</td>\n    </tr>\n    <tr>\n      <th>18</th>\n      <td>positive</td>\n    </tr>\n    <tr>\n      <th>19</th>\n      <td>negative</td>\n    </tr>\n    <tr>\n      <th>20</th>\n      <td>negative</td>\n    </tr>\n    <tr>\n      <th>21</th>\n      <td>positive</td>\n    </tr>\n    <tr>\n      <th>22</th>\n      <td>neutral</td>\n    </tr>\n    <tr>\n      <th>23</th>\n      <td>neutral</td>\n    </tr>\n    <tr>\n      <th>24</th>\n      <td>negative</td>\n    </tr>\n    <tr>\n      <th>25</th>\n      <td>negative</td>\n    </tr>\n    <tr>\n      <th>26</th>\n      <td>negative</td>\n    </tr>\n    <tr>\n      <th>27</th>\n      <td>negative</td>\n    </tr>\n    <tr>\n      <th>28</th>\n      <td>negative</td>\n    </tr>\n    <tr>\n      <th>29</th>\n      <td>negative</td>\n    </tr>\n    <tr>\n      <th>30</th>\n      <td>negative</td>\n    </tr>\n    <tr>\n      <th>31</th>\n      <td>negative</td>\n    </tr>\n    <tr>\n      <th>32</th>\n      <td>negative</td>\n    </tr>\n    <tr>\n      <th>33</th>\n      <td>positive</td>\n    </tr>\n    <tr>\n      <th>34</th>\n      <td>positive</td>\n    </tr>\n    <tr>\n      <th>35</th>\n      <td>positive</td>\n    </tr>\n    <tr>\n      <th>36</th>\n      <td>negative</td>\n    </tr>\n    <tr>\n      <th>37</th>\n      <td>neutral</td>\n    </tr>\n    <tr>\n      <th>38</th>\n      <td>negative</td>\n    </tr>\n  </tbody>\n</table>\n</div>"
     },
     "execution_count": 20,
     "metadata": {},
     "output_type": "execute_result"
    }
   ],
   "source": [
    "predictions = pd.read_json(output, orient=\"index\")\n",
    "predictions"
   ],
   "metadata": {
    "collapsed": false,
    "pycharm": {
     "name": "#%%\n"
    }
   }
  },
  {
   "cell_type": "code",
   "execution_count": 21,
   "outputs": [
    {
     "name": "stdout",
     "output_type": "stream",
     "text": [
      "              precision    recall  f1-score   support\n",
      "\n",
      "    negative       0.59      0.87      0.70        15\n",
      "     neutral       0.67      0.35      0.46        17\n",
      "    positive       0.75      0.86      0.80         7\n",
      "\n",
      "    accuracy                           0.64        39\n",
      "   macro avg       0.67      0.69      0.65        39\n",
      "weighted avg       0.65      0.64      0.62        39\n",
      "\n"
     ]
    },
    {
     "data": {
      "text/plain": "{'f1': 0.6150434458126767,\n 'precision': 0.6524864024864024,\n 'recall': 0.6410256410256411}"
     },
     "execution_count": 21,
     "metadata": {},
     "output_type": "execute_result"
    }
   ],
   "source": [
    "compute_metrics(predictions[0], dataset[\"MD_label\"])"
   ],
   "metadata": {
    "collapsed": false,
    "pycharm": {
     "name": "#%%\n"
    }
   }
  },
  {
   "cell_type": "code",
   "execution_count": null,
   "outputs": [],
   "source": [],
   "metadata": {
    "collapsed": false,
    "pycharm": {
     "name": "#%%\n"
    }
   }
  }
 ],
 "metadata": {
  "kernelspec": {
   "display_name": "Python 3",
   "language": "python",
   "name": "python3"
  },
  "language_info": {
   "codemirror_mode": {
    "name": "ipython",
    "version": 2
   },
   "file_extension": ".py",
   "mimetype": "text/x-python",
   "name": "python",
   "nbconvert_exporter": "python",
   "pygments_lexer": "ipython2",
   "version": "2.7.6"
  }
 },
 "nbformat": 4,
 "nbformat_minor": 0
}