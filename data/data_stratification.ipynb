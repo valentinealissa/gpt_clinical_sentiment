{
 "cells": [
  {
   "cell_type": "code",
   "execution_count": 53,
   "metadata": {
    "collapsed": true,
    "pycharm": {
     "name": "#%%\n"
    }
   },
   "outputs": [],
   "source": [
    "from sklearn.model_selection import train_test_split\n",
    "import pandas as pd\n",
    "\n",
    "pt_dataset = pd.read_csv(\"sentences_PT-labels_GPT.csv\")\n",
    "md_dataset = pd.read_csv(\"sentences_MD-labels_GPT.csv\")"
   ]
  },
  {
   "cell_type": "code",
   "execution_count": 54,
   "outputs": [],
   "source": [
    "multi_label_dataset = pt_dataset[[\"idx\", \"language\"]]\n",
    "multi_label_dataset[\"PT_MD_labels\"] = pt_dataset[\"PT_label\"] + '_' + md_dataset[\"MD_label\"]"
   ],
   "metadata": {
    "collapsed": false,
    "pycharm": {
     "name": "#%%\n"
    }
   }
  },
  {
   "cell_type": "code",
   "execution_count": 55,
   "outputs": [
    {
     "data": {
      "text/plain": "PT_MD_labels\nnegative_negative    10\nneutral_neutral       9\nnegative_neutral      6\npositive_positive     5\nneutral_negative      3\npositive_neutral      2\npositive_negative     2\nneutral_positive      1\nnegative_positive     1\nName: count, dtype: int64"
     },
     "execution_count": 55,
     "metadata": {},
     "output_type": "execute_result"
    }
   ],
   "source": [
    "multi_label_dataset.PT_MD_labels.value_counts()"
   ],
   "metadata": {
    "collapsed": false,
    "pycharm": {
     "name": "#%%\n"
    }
   }
  },
  {
   "cell_type": "code",
   "execution_count": 56,
   "outputs": [],
   "source": [
    "multi_label_dataset_2 = multi_label_dataset[multi_label_dataset[\"PT_MD_labels\"] != \"neutral_positive\"]\n",
    "multi_label_dataset_2 = multi_label_dataset_2[multi_label_dataset_2[\"PT_MD_labels\"] != \"negative_positive\"]"
   ],
   "metadata": {
    "collapsed": false,
    "pycharm": {
     "name": "#%%\n"
    }
   }
  },
  {
   "cell_type": "code",
   "execution_count": 57,
   "outputs": [
    {
     "data": {
      "text/plain": "PT_MD_labels\nnegative_negative    10\nneutral_neutral       9\nnegative_neutral      6\npositive_positive     5\nneutral_negative      3\npositive_neutral      2\npositive_negative     2\nName: count, dtype: int64"
     },
     "execution_count": 57,
     "metadata": {},
     "output_type": "execute_result"
    }
   ],
   "source": [
    "multi_label_dataset_2.PT_MD_labels.value_counts()"
   ],
   "metadata": {
    "collapsed": false,
    "pycharm": {
     "name": "#%%\n"
    }
   }
  },
  {
   "cell_type": "code",
   "execution_count": 82,
   "outputs": [],
   "source": [
    "X_train, X_test, y_train, y_test = train_test_split(multi_label_dataset_2[\"language\"], multi_label_dataset_2[\"PT_MD_labels\"],\n",
    "                                                    stratify=multi_label_dataset_2[\"PT_MD_labels\"],\n",
    "                                                    test_size=0.7,\n",
    "                                                    random_state=41)"
   ],
   "metadata": {
    "collapsed": false,
    "pycharm": {
     "name": "#%%\n"
    }
   }
  },
  {
   "cell_type": "code",
   "execution_count": 83,
   "outputs": [
    {
     "data": {
      "text/plain": "(31    She reported that the patient has not been ful...\n 33    MSE: pleasant, cooperative, euthymic, speech w...\n 26    His odd behavior, such as nearly walking into ...\n 29    Given recent non-adherence, will restart pt on...\n 37    Primary team will need to complete more thorou...\n 15    Pt angry and has hx of making suicidal threats...\n 5     States he is adherent w/ his outpatient XXX an...\n 20    Pt reports \"im ok\" and states that although sh...\n 6     Pt has been agitated throught her time in the ...\n 14    Although pt continues to request discharge, sh...\n 25    When we discharged the two brothers-- told the...\n Name: language, dtype: object,\n 10    On reassessment this AM, pt remained calm, not...\n 36    he does not cooperate with treatment decisions...\n 38    He is not cooperative with questions and start...\n 16    He remained irritable with an angry edge but w...\n 21    Calm and cooperative, agrees with plan to stay...\n 27    55 yo male with XXX, h/o asthma, BIB police fo...\n 7     She has been awake now for several hours and h...\n 18      She states that pt has been compliant with meds\n 1     Pt admits to sometimes thinking about death, w...\n 3     Pt continues to report adherence with his medi...\n 11    Sister saw pt often while he was at XXX b/c sh...\n 28    This writer discussed with the patient her pat...\n 22    Pt is sleepy this morning, and initially resis...\n 0     Patient very adamantly against hospitalization...\n 32    She does not come regularly for her XXX appoin...\n 13    Pt w extensive XXX history, admitted for the 5...\n 23    He continues to deny SI, is calm, cooperative,...\n 19    She says that the patient has been compliant w...\n 17    Pt appears angry with mother and sister and de...\n 12    Pt remains aggressive and very threatening upo...\n 8     Pt denied AH VH PI SA HI and when approached w...\n 9     Note that pt was not agitated when he was allo...\n 30    His worsening psychotic symptom secondary to m...\n 34    Throughout interview, pt calm, cooperative and...\n 2     However this morning he is adamant that he wan...\n 24    Pt had been evaluated in XXX ED earlier today,...\n Name: language, dtype: object,\n 31      neutral_neutral\n 33    positive_positive\n 26    negative_negative\n 29     negative_neutral\n 37      neutral_neutral\n 15    negative_negative\n 5       neutral_neutral\n 20     positive_neutral\n 6      negative_neutral\n 14     neutral_negative\n 25    negative_negative\n Name: PT_MD_labels, dtype: object,\n 10     positive_neutral\n 36     negative_neutral\n 38     negative_neutral\n 16    negative_negative\n 21    positive_positive\n 27      neutral_neutral\n 7       neutral_neutral\n 18      neutral_neutral\n 1       neutral_neutral\n 3      negative_neutral\n 11    positive_positive\n 28     neutral_negative\n 22    positive_negative\n 0       neutral_neutral\n 32    negative_negative\n 13    negative_negative\n 23    positive_positive\n 19     negative_neutral\n 17    positive_negative\n 12    negative_negative\n 8     negative_negative\n 9     negative_negative\n 30      neutral_neutral\n 34    positive_positive\n 2      neutral_negative\n 24    negative_negative\n Name: PT_MD_labels, dtype: object)"
     },
     "execution_count": 83,
     "metadata": {},
     "output_type": "execute_result"
    }
   ],
   "source": [
    "X_train, X_test, y_train, y_test"
   ],
   "metadata": {
    "collapsed": false,
    "pycharm": {
     "name": "#%%\n"
    }
   }
  },
  {
   "cell_type": "code",
   "execution_count": 84,
   "outputs": [],
   "source": [
    "train = pd.concat([X_train, y_train], axis = 1)\n",
    "train = pd.concat([train, multi_label_dataset[multi_label_dataset[\"PT_MD_labels\"] == \"neutral_positive\"]], axis = 0)\n",
    "train[[\"PT_label\", \"MD_label\"]] = train[\"PT_MD_labels\"].str.split(pat=\"_\", expand = True)\n",
    "train = train[[\"language\", \"PT_MD_labels\", \"PT_label\", \"MD_label\"]]"
   ],
   "metadata": {
    "collapsed": false,
    "pycharm": {
     "name": "#%%\n"
    }
   }
  },
  {
   "cell_type": "code",
   "execution_count": 85,
   "outputs": [],
   "source": [
    "test = pd.concat([X_test, y_test], axis = 1)\n",
    "test = pd.concat([test, multi_label_dataset[multi_label_dataset[\"PT_MD_labels\"] == \"negative_positive\"]], axis = 0)\n",
    "test[[\"PT_label\", \"MD_label\"]] = test[\"PT_MD_labels\"].str.split(pat=\"_\", expand = True)\n",
    "test = test[[\"language\", \"PT_MD_labels\", \"PT_label\", \"MD_label\"]]"
   ],
   "metadata": {
    "collapsed": false,
    "pycharm": {
     "name": "#%%\n"
    }
   }
  },
  {
   "cell_type": "code",
   "execution_count": 86,
   "outputs": [],
   "source": [
    "train.to_csv(\"train_PT_MD_labels_41.csv\", index_label=\"idx\")\n",
    "test.to_csv(\"test_PT_MD_labels_41.csv\", index_label=\"idx\")"
   ],
   "metadata": {
    "collapsed": false,
    "pycharm": {
     "name": "#%%\n"
    }
   }
  },
  {
   "cell_type": "code",
   "execution_count": 43,
   "outputs": [
    {
     "name": "stdout",
     "output_type": "stream",
     "text": [
      "   idx                                           language      PT_MD_labels\n",
      "4    4  Adherent with medications, and lithium level o...  neutral_positive     idx                                           language       PT_MD_labels\n",
      "35   35  The patient was moderately helpless on intervi...  negative_positive\n"
     ]
    }
   ],
   "source": [
    "print(multi_label_dataset[multi_label_dataset[\"PT_MD_labels\"] == \"neutral_positive\"],\n",
    "      multi_label_dataset[multi_label_dataset[\"PT_MD_labels\"] == \"negative_positive\"])"
   ],
   "metadata": {
    "collapsed": false,
    "pycharm": {
     "name": "#%%\n"
    }
   }
  }
 ],
 "metadata": {
  "kernelspec": {
   "display_name": "Python 3",
   "language": "python",
   "name": "python3"
  },
  "language_info": {
   "codemirror_mode": {
    "name": "ipython",
    "version": 2
   },
   "file_extension": ".py",
   "mimetype": "text/x-python",
   "name": "python",
   "nbconvert_exporter": "python",
   "pygments_lexer": "ipython2",
   "version": "2.7.6"
  }
 },
 "nbformat": 4,
 "nbformat_minor": 0
}