{
 "cells": [
  {
   "cell_type": "code",
   "execution_count": 1,
   "metadata": {
    "collapsed": true,
    "pycharm": {
     "name": "#%%\n"
    }
   },
   "outputs": [
    {
     "name": "stdout",
     "output_type": "stream",
     "text": [
      "env: OPENAI_API_KEY=cb0e51bd1e4a46fbb4043b8bcdd04cd7\n"
     ]
    }
   ],
   "source": [
    "import evaluate\n",
    "from openai import AzureOpenAI\n",
    "import os\n",
    "import pandas as pd\n",
    "import datasets\n",
    "from sklearn.metrics import f1_score, precision_score, recall_score, classification_report\n",
    "from sklearn.model_selection import ParameterGrid\n",
    "import evaluate\n",
    "\n",
    "client = AzureOpenAI(azure_endpoint='https://oai-cbipm-01.openai.azure.com/',\n",
    "                     api_key=os.environ[\"OPENAI_API_KEY\"],\n",
    "                     api_version=\"2023-12-01-preview\")  # 2023-12-01-preview <- highest version number as of 1/12/23\n",
    "\n",
    "deployment = \"Deployment\""
   ]
  },
  {
   "cell_type": "code",
   "execution_count": 2,
   "outputs": [],
   "source": [
    "# metrics function\n",
    "def compute_metrics(predictions, references, labels=None, pos_label=1, average=\"weighted\", sample_weight=None, zero_division='warn'):\n",
    "        f1 = f1_score(\n",
    "            references, predictions, labels=labels, pos_label=pos_label, average=average, sample_weight=sample_weight\n",
    "        )\n",
    "        p = precision_score(\n",
    "            references, predictions, labels=labels, pos_label=pos_label, average=average, sample_weight=sample_weight,\n",
    "            zero_division=zero_division\n",
    "        )\n",
    "        r = recall_score(\n",
    "            references, predictions, labels=labels, pos_label=pos_label, average=average, sample_weight=sample_weight,\n",
    "            zero_division=zero_division\n",
    "        )\n",
    "        c = classification_report(\n",
    "            references, predictions, labels=labels\n",
    "        )\n",
    "        print(c)\n",
    "        return {\"f1\": float(f1) if f1.size == 1 else f1,\n",
    "                \"precision\": float(p) if p.size == 1 else p,\n",
    "                \"recall\": float(r) if r.size == 1 else r}"
   ],
   "metadata": {
    "collapsed": false,
    "pycharm": {
     "name": "#%%\n"
    }
   }
  },
  {
   "cell_type": "code",
   "execution_count": 9,
   "outputs": [
    {
     "name": "stdout",
     "output_type": "stream",
     "text": [
      "{\"0\":\"negative_negative\",\"1\":\"negative_negative\",\"2\":\"negative_negative\",\"3\":\"negative_negative\",\"4\":\"negative_negative\",\"5\":\"negative_negative\",\"6\":\"negative_negative\",\"7\":\"negative_negative\",\"8\":\"negative_negative\",\"9\":\"negative_negative\",\"10\":\"neutral_negative\",\"11\":\"negative_negative\",\"12\":\"positive_positive\",\"13\":\"neutral_neutral\",\"14\":\"neutral_neutral\",\"15\":\"positive_positive\",\"16\":\"negative_negative\",\"17\":\"positive_neutral\",\"18\":\"negative_negative\",\"19\":\"neutral_neutral\",\"20\":\"negative_negative\",\"21\":\"neutral_neutral\",\"22\":\"neutral_neutral\",\"23\":\"negative_negative\",\"24\":\"neutral_neutral\",\"25\":\"negative_negative\",\"26\":\"positive_positive\"}\n",
      "                   precision    recall  f1-score   support\n",
      "\n",
      "negative_negative       0.44      1.00      0.61         7\n",
      " negative_neutral       0.00      0.00      0.00         4\n",
      "negative_positive       0.00      0.00      0.00         1\n",
      " neutral_negative       0.00      0.00      0.00         2\n",
      "  neutral_neutral       0.50      0.50      0.50         6\n",
      "positive_negative       0.00      0.00      0.00         2\n",
      " positive_neutral       0.00      0.00      0.00         1\n",
      "positive_positive       0.67      0.50      0.57         4\n",
      "\n",
      "         accuracy                           0.44        27\n",
      "        macro avg       0.20      0.25      0.21        27\n",
      "     weighted avg       0.32      0.44      0.35        27\n",
      "\n",
      "{'f1': 0.35357717966413627, 'precision': 0.32330246913580246, 'recall': 0.4444444444444444}\n"
     ]
    },
    {
     "name": "stderr",
     "output_type": "stream",
     "text": [
      "/var/folders/xm/m4dy5bvs1fn7fb9wxjhsg4dc0000gn/T/ipykernel_10011/397373652.py:29: FutureWarning: Passing literal json to 'read_json' is deprecated and will be removed in a future version. To read from a literal string, wrap it in a 'StringIO' object.\n",
      "  predictions = pd.read_json(output, orient=\"index\")\n",
      "/Users/valena17/azure_gpt/azure_gpt_env/lib/python3.10/site-packages/sklearn/metrics/_classification.py:1471: UndefinedMetricWarning: Precision is ill-defined and being set to 0.0 in labels with no predicted samples. Use `zero_division` parameter to control this behavior.\n",
      "  _warn_prf(average, modifier, msg_start, len(result))\n",
      "/Users/valena17/azure_gpt/azure_gpt_env/lib/python3.10/site-packages/sklearn/metrics/_classification.py:1471: UndefinedMetricWarning: Precision and F-score are ill-defined and being set to 0.0 in labels with no predicted samples. Use `zero_division` parameter to control this behavior.\n",
      "  _warn_prf(average, modifier, msg_start, len(result))\n",
      "/Users/valena17/azure_gpt/azure_gpt_env/lib/python3.10/site-packages/sklearn/metrics/_classification.py:1471: UndefinedMetricWarning: Precision and F-score are ill-defined and being set to 0.0 in labels with no predicted samples. Use `zero_division` parameter to control this behavior.\n",
      "  _warn_prf(average, modifier, msg_start, len(result))\n",
      "/Users/valena17/azure_gpt/azure_gpt_env/lib/python3.10/site-packages/sklearn/metrics/_classification.py:1471: UndefinedMetricWarning: Precision and F-score are ill-defined and being set to 0.0 in labels with no predicted samples. Use `zero_division` parameter to control this behavior.\n",
      "  _warn_prf(average, modifier, msg_start, len(result))\n"
     ]
    }
   ],
   "source": [
    "train = pd.read_csv(\"../data/train_PT_MD_labels.csv\")\n",
    "test = pd.read_csv(\"../data/test_PT_MD_labels.csv\")\n",
    "\n",
    "json_train_sentences = train[\"language\"].to_json()\n",
    "json_train_labels = train[\"PT_MD_labels\"].to_json()\n",
    "\n",
    "# converting test sentences to json format\n",
    "json_test_sentences = test[\"language\"].to_json()\n",
    "\n",
    "messages = [{\"role\": \"system\", \"content\": \"You are a medical doctor.\"},\n",
    "            {\"role\": \"user\", \"content\": \"As a medical doctor, you write many clinical notes about patients.\\n\"\n",
    "                                        \"When writing these clinical notes, you try to be as neutral as possible, but sometimes what you right might offend a patient even if you don't intend it to.\\n\"\n",
    "                                        \"Your task is to analyze the sentiment of a series of sentences you wrote about patients.\\n\"\n",
    "                                        \"For each sentence, answer two questions:\\n\"\n",
    "                                        \"First, as the doctor writing the note, what is your attitude towards the patient you wrote about?\\n\"\n",
    "                                        \"Secondly, if you were the patient being written about, how would you feel reading this description of you?\\n\"\n",
    "                                        \"Please assign a sentiment score of negative, neutral, or positive for each sentence.\\n\"\n",
    "                                        \"Below are three example sentences in JSON format:\\n\"\n",
    "                                        f\"{json_train_sentences}\"\n",
    "                                        \"Please provide your answer in JSON format.\"},\n",
    "            {\"role\": \"assistant\", \"content\": f\"{json_train_labels}\"},\n",
    "            {\"role\": \"user\", \"content\": f\"Complete the same task with each of these sentences:\\n{json_test_sentences}\"}]\n",
    "\n",
    "response = client.chat.completions.create(model=deployment, messages=messages, temperature=0, seed=42)\n",
    "\n",
    "output = response.choices[0].message.content\n",
    "print(output)\n",
    "\n",
    "predictions = pd.read_json(output, orient=\"index\")\n",
    "results = compute_metrics(predictions[0], test[\"PT_MD_labels\"])\n",
    "print(results)\n",
    "\n",
    "i = 0\n",
    "errors = {'Errors': []}\n",
    "for pred_lab, true_lab in zip(predictions[0], test[\"PT_MD_labels\"]):\n",
    "    if pred_lab != true_lab:\n",
    "        errors['Errors'].append((test[\"language\"][i],\n",
    "                            pred_lab,\n",
    "                            true_lab))\n",
    "        i += 1\n",
    "\n",
    "with open(f'error_analysis.tsv', 'w') as f:\n",
    "    for k, vect in errors.items():\n",
    "        if k == 'Errors':\n",
    "            for sen in vect:\n",
    "                f.write(sen[0] + '\\t' + f'PRED_{sen[1].upper()}' + '\\t' + f'TRUE_{sen[2].upper()}' + '\\n')\n",
    "            f.write('\\n')"
   ],
   "metadata": {
    "collapsed": false,
    "pycharm": {
     "name": "#%%\n"
    }
   }
  },
  {
   "cell_type": "code",
   "execution_count": null,
   "outputs": [],
   "source": [],
   "metadata": {
    "collapsed": false,
    "pycharm": {
     "name": "#%%\n"
    }
   }
  }
 ],
 "metadata": {
  "kernelspec": {
   "display_name": "Python 3",
   "language": "python",
   "name": "python3"
  },
  "language_info": {
   "codemirror_mode": {
    "name": "ipython",
    "version": 2
   },
   "file_extension": ".py",
   "mimetype": "text/x-python",
   "name": "python",
   "nbconvert_exporter": "python",
   "pygments_lexer": "ipython2",
   "version": "2.7.6"
  }
 },
 "nbformat": 4,
 "nbformat_minor": 0
}