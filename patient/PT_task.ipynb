{
 "cells": [
  {
   "cell_type": "code",
   "execution_count": 39,
   "metadata": {
    "collapsed": true,
    "pycharm": {
     "name": "#%%\n"
    }
   },
   "outputs": [],
   "source": [
    "import evaluate\n",
    "from openai import AzureOpenAI\n",
    "import os\n",
    "import pandas as pd\n",
    "import datasets\n",
    "from sklearn.metrics import f1_score, precision_score, recall_score, classification_report\n",
    "from sklearn.model_selection import ParameterGrid\n",
    "import evaluate\n",
    "\n",
    "client = AzureOpenAI(azure_endpoint='https://oai-cbipm-01.openai.azure.com/',\n",
    "                     api_key=os.environ[\"OPENAI_API_KEY\"],\n",
    "                     api_version=\"2023-12-01-preview\")  # 2023-12-01-preview <- highest version number as of 1/12/23\n",
    "\n",
    "deployment = \"Deployment\""
   ]
  },
  {
   "cell_type": "code",
   "execution_count": 40,
   "outputs": [],
   "source": [
    "# metrics function\n",
    "def compute_metrics(predictions, references, labels=None, pos_label=1, average=\"weighted\", sample_weight=None, zero_division='warn'):\n",
    "        f1 = f1_score(\n",
    "            references, predictions, labels=labels, pos_label=pos_label, average=average, sample_weight=sample_weight\n",
    "        )\n",
    "        p = precision_score(\n",
    "            references, predictions, labels=labels, pos_label=pos_label, average=average, sample_weight=sample_weight,\n",
    "            zero_division=zero_division\n",
    "        )\n",
    "        r = recall_score(\n",
    "            references, predictions, labels=labels, pos_label=pos_label, average=average, sample_weight=sample_weight,\n",
    "            zero_division=zero_division\n",
    "        )\n",
    "        c = classification_report(\n",
    "            references, predictions, labels=labels\n",
    "        )\n",
    "        print(c)\n",
    "        return {\"f1\": float(f1) if f1.size == 1 else f1,\n",
    "                \"precision\": float(p) if p.size == 1 else p,\n",
    "                \"recall\": float(r) if r.size == 1 else r}"
   ],
   "metadata": {
    "collapsed": false,
    "pycharm": {
     "name": "#%%\n"
    }
   }
  },
  {
   "cell_type": "code",
   "execution_count": 41,
   "outputs": [],
   "source": [
    "# training sentence selection function\n",
    "def train_sentence_selection(df, n_neutral, n_positive, n_negative, label, seed):\n",
    "    # saving column name given PT or MD label\n",
    "    label = f\"{label}_label\"\n",
    "    # randomly selecting 1-2 sentences per label\n",
    "    neutral_sentences = df[df[label] == \"neutral\"].sample(n_neutral, replace=False, random_state=seed)\n",
    "    positive_sentences = df[df[label] == \"positive\"].sample(n_positive, replace=False, random_state=seed)\n",
    "    negative_sentences = df[df[label] == \"negative\"].sample(n_negative, replace=False, random_state=seed)\n",
    "    all_sentences = pd.concat([neutral_sentences,\n",
    "                               positive_sentences,\n",
    "                               negative_sentences], ignore_index = True)\n",
    "    return all_sentences"
   ],
   "metadata": {
    "collapsed": false,
    "pycharm": {
     "name": "#%%\n"
    }
   }
  },
  {
   "cell_type": "code",
   "execution_count": 42,
   "outputs": [],
   "source": [
    "train = pd.read_csv(\"../data/train_PT_MD_labels.csv\")\n",
    "test = pd.read_csv(\"../data/test_PT_MD_labels.csv\")\n",
    "\n",
    "# randomly selecting 1-2 training sentences per MD label\n",
    "n_neutral_s = 1\n",
    "n_positive_s = 1\n",
    "n_negative_s = 1\n",
    "train_sentences = train_sentence_selection(train, n_neutral_s, n_positive_s, n_negative_s, \"PT\", 42)\n",
    "json_train_sentences = train_sentences[\"language\"].to_json()\n",
    "json_train_labels = train_sentences[\"PT_label\"].to_json()\n",
    "# print(train_sentences, json_train_labels)\n",
    "\n",
    "# converting test sentences to json format\n",
    "json_test_sentences = test[\"language\"].to_json()"
   ],
   "metadata": {
    "collapsed": false,
    "pycharm": {
     "name": "#%%\n"
    }
   }
  },
  {
   "cell_type": "code",
   "execution_count": 43,
   "outputs": [
    {
     "name": "stdout",
     "output_type": "stream",
     "text": [
      "{\"0\":\"negative\",\"1\":\"negative\",\"2\":\"negative\",\"3\":\"negative\",\"4\":\"negative\",\"5\":\"negative\",\"6\":\"negative\",\"7\":\"negative\",\"8\":\"negative\",\"9\":\"negative\",\"10\":\"negative\",\"11\":\"negative\",\"12\":\"positive\",\"13\":\"neutral\",\"14\":\"positive\",\"15\":\"positive\",\"16\":\"negative\",\"17\":\"positive\",\"18\":\"negative\",\"19\":\"positive\",\"20\":\"negative\",\"21\":\"negative\",\"22\":\"positive\",\"23\":\"negative\",\"24\":\"positive\",\"25\":\"negative\",\"26\":\"positive\"}\n"
     ]
    }
   ],
   "source": [
    "messages = [{\"role\": \"system\", \"content\": \"You are a patient.\"},\n",
    "            {\"role\": \"user\", \"content\": \"As a patient at a medical center, medical doctors write lots of clinical notes about you.\\n\"\n",
    "                                        \"Your task is to analyze the sentiment of a series of sentences your doctor wrote about you.\\n\"\n",
    "                                        \"For each sentence, how do you feel reading this description of you?\\n\"\n",
    "                                        \"Please assign a sentiment score of negative, neutral, or positive for each sentence.\\n\"\n",
    "                                        \"Below are three example sentences in JSON format:\\n\"\n",
    "                                        f\"{json_train_sentences}\"\n",
    "                                        \"Please provide your answer in JSON format.\"},\n",
    "            {\"role\": \"assistant\", \"content\": f\"{json_train_labels}\"},\n",
    "            {\"role\": \"user\", \"content\": f\"Complete the same task with each of these sentences:\\n{json_test_sentences}\"}]\n",
    "\n",
    "response = client.chat.completions.create(model=deployment, messages=messages, temperature=0, seed=42)\n",
    "\n",
    "output = response.choices[0].message.content\n",
    "# predictions = pd.read_json(output, orient=\"index\")\n",
    "# predictions.columns.values[0] = \"predictions\"\n",
    "# predictions[\"predictions\"] = predictions[].map(replace)\n",
    "print(output)"
   ],
   "metadata": {
    "collapsed": false,
    "pycharm": {
     "name": "#%%\n"
    }
   }
  },
  {
   "cell_type": "code",
   "execution_count": 44,
   "outputs": [
    {
     "name": "stdout",
     "output_type": "stream",
     "text": [
      "              precision    recall  f1-score   support\n",
      "\n",
      "    negative       0.61      0.92      0.73        12\n",
      "     neutral       1.00      0.12      0.22         8\n",
      "    positive       0.62      0.71      0.67         7\n",
      "\n",
      "    accuracy                           0.63        27\n",
      "   macro avg       0.75      0.59      0.54        27\n",
      "weighted avg       0.73      0.63      0.56        27\n",
      "\n"
     ]
    },
    {
     "name": "stderr",
     "output_type": "stream",
     "text": [
      "/var/folders/xm/m4dy5bvs1fn7fb9wxjhsg4dc0000gn/T/ipykernel_1786/2076952337.py:1: FutureWarning: Passing literal json to 'read_json' is deprecated and will be removed in a future version. To read from a literal string, wrap it in a 'StringIO' object.\n",
      "  predictions = pd.read_json(output, orient=\"index\")\n"
     ]
    },
    {
     "data": {
      "text/plain": "{'f1': 0.5646090534979424,\n 'precision': 0.7299382716049384,\n 'recall': 0.6296296296296297}"
     },
     "execution_count": 44,
     "metadata": {},
     "output_type": "execute_result"
    }
   ],
   "source": [
    "predictions = pd.read_json(output, orient=\"index\")\n",
    "compute_metrics(predictions[0], test[\"PT_label\"])"
   ],
   "metadata": {
    "collapsed": false,
    "pycharm": {
     "name": "#%%\n"
    }
   }
  },
  {
   "cell_type": "code",
   "execution_count": 46,
   "outputs": [
    {
     "name": "stderr",
     "output_type": "stream",
     "text": [
      "/var/folders/xm/m4dy5bvs1fn7fb9wxjhsg4dc0000gn/T/ipykernel_1786/3463305045.py:51: FutureWarning: Passing literal json to 'read_json' is deprecated and will be removed in a future version. To read from a literal string, wrap it in a 'StringIO' object.\n",
      "  predictions = pd.read_json(output, orient=\"index\")\n"
     ]
    },
    {
     "name": "stdout",
     "output_type": "stream",
     "text": [
      "              precision    recall  f1-score   support\n",
      "\n",
      "    negative       0.59      0.83      0.69        12\n",
      "     neutral       1.00      0.12      0.22         8\n",
      "    positive       0.56      0.71      0.63         7\n",
      "\n",
      "    accuracy                           0.59        27\n",
      "   macro avg       0.71      0.56      0.51        27\n",
      "weighted avg       0.70      0.59      0.53        27\n",
      "\n",
      "----------------------------------------------------------------------------------------------------\n",
      "\n",
      "\n",
      "\n",
      "Best combination of context sentences: {'n_negative_sentences': 1, 'n_neutral_sentences': 1, 'n_positive_sentences': 1, 'seed': 40}\n",
      "\n",
      "\n",
      "Best results: {'f1': 0.5343940683978998, 'precision': 0.7017671266037279, 'recall': 0.5925925925925926}\n"
     ]
    },
    {
     "name": "stderr",
     "output_type": "stream",
     "text": [
      "/var/folders/xm/m4dy5bvs1fn7fb9wxjhsg4dc0000gn/T/ipykernel_1786/3463305045.py:51: FutureWarning: Passing literal json to 'read_json' is deprecated and will be removed in a future version. To read from a literal string, wrap it in a 'StringIO' object.\n",
      "  predictions = pd.read_json(output, orient=\"index\")\n"
     ]
    },
    {
     "name": "stdout",
     "output_type": "stream",
     "text": [
      "              precision    recall  f1-score   support\n",
      "\n",
      "    negative       0.56      0.75      0.64        12\n",
      "     neutral       0.00      0.00      0.00         8\n",
      "    positive       0.56      0.71      0.63         7\n",
      "\n",
      "    accuracy                           0.52        27\n",
      "   macro avg       0.37      0.49      0.42        27\n",
      "weighted avg       0.39      0.52      0.45        27\n",
      "\n",
      "----------------------------------------------------------------------------------------------------\n",
      "\n",
      "\n",
      "\n",
      "Best combination of context sentences: {'n_negative_sentences': 1, 'n_neutral_sentences': 1, 'n_positive_sentences': 1, 'seed': 40}\n",
      "\n",
      "\n",
      "Best results: {'f1': 0.5343940683978998, 'precision': 0.7017671266037279, 'recall': 0.5925925925925926}\n"
     ]
    },
    {
     "name": "stderr",
     "output_type": "stream",
     "text": [
      "/var/folders/xm/m4dy5bvs1fn7fb9wxjhsg4dc0000gn/T/ipykernel_1786/3463305045.py:51: FutureWarning: Passing literal json to 'read_json' is deprecated and will be removed in a future version. To read from a literal string, wrap it in a 'StringIO' object.\n",
      "  predictions = pd.read_json(output, orient=\"index\")\n"
     ]
    },
    {
     "name": "stdout",
     "output_type": "stream",
     "text": [
      "              precision    recall  f1-score   support\n",
      "\n",
      "    negative       0.61      0.92      0.73        12\n",
      "     neutral       1.00      0.12      0.22         8\n",
      "    positive       0.62      0.71      0.67         7\n",
      "\n",
      "    accuracy                           0.63        27\n",
      "   macro avg       0.75      0.59      0.54        27\n",
      "weighted avg       0.73      0.63      0.56        27\n",
      "\n",
      "----------------------------------------------------------------------------------------------------\n",
      "\n",
      "\n",
      "\n",
      "Best combination of context sentences: {'n_negative_sentences': 1, 'n_neutral_sentences': 1, 'n_positive_sentences': 1, 'seed': 42}\n",
      "\n",
      "\n",
      "Best results: {'f1': 0.5646090534979424, 'precision': 0.7299382716049384, 'recall': 0.6296296296296297}\n"
     ]
    },
    {
     "name": "stderr",
     "output_type": "stream",
     "text": [
      "/var/folders/xm/m4dy5bvs1fn7fb9wxjhsg4dc0000gn/T/ipykernel_1786/3463305045.py:51: FutureWarning: Passing literal json to 'read_json' is deprecated and will be removed in a future version. To read from a literal string, wrap it in a 'StringIO' object.\n",
      "  predictions = pd.read_json(output, orient=\"index\")\n",
      "/Users/valena17/azure_gpt/azure_gpt_env/lib/python3.10/site-packages/sklearn/metrics/_classification.py:1471: UndefinedMetricWarning: Precision is ill-defined and being set to 0.0 in labels with no predicted samples. Use `zero_division` parameter to control this behavior.\n",
      "  _warn_prf(average, modifier, msg_start, len(result))\n",
      "/Users/valena17/azure_gpt/azure_gpt_env/lib/python3.10/site-packages/sklearn/metrics/_classification.py:1471: UndefinedMetricWarning: Precision and F-score are ill-defined and being set to 0.0 in labels with no predicted samples. Use `zero_division` parameter to control this behavior.\n",
      "  _warn_prf(average, modifier, msg_start, len(result))\n",
      "/Users/valena17/azure_gpt/azure_gpt_env/lib/python3.10/site-packages/sklearn/metrics/_classification.py:1471: UndefinedMetricWarning: Precision and F-score are ill-defined and being set to 0.0 in labels with no predicted samples. Use `zero_division` parameter to control this behavior.\n",
      "  _warn_prf(average, modifier, msg_start, len(result))\n",
      "/Users/valena17/azure_gpt/azure_gpt_env/lib/python3.10/site-packages/sklearn/metrics/_classification.py:1471: UndefinedMetricWarning: Precision and F-score are ill-defined and being set to 0.0 in labels with no predicted samples. Use `zero_division` parameter to control this behavior.\n",
      "  _warn_prf(average, modifier, msg_start, len(result))\n"
     ]
    },
    {
     "name": "stdout",
     "output_type": "stream",
     "text": [
      "              precision    recall  f1-score   support\n",
      "\n",
      "    negative       0.56      0.75      0.64        12\n",
      "     neutral       0.00      0.00      0.00         8\n",
      "    positive       0.45      0.71      0.56         7\n",
      "\n",
      "    accuracy                           0.52        27\n",
      "   macro avg       0.34      0.49      0.40        27\n",
      "weighted avg       0.37      0.52      0.43        27\n",
      "\n",
      "----------------------------------------------------------------------------------------------------\n",
      "\n",
      "\n",
      "\n",
      "Best combination of context sentences: {'n_negative_sentences': 1, 'n_neutral_sentences': 1, 'n_positive_sentences': 1, 'seed': 42}\n",
      "\n",
      "\n",
      "Best results: {'f1': 0.5646090534979424, 'precision': 0.7299382716049384, 'recall': 0.6296296296296297}\n"
     ]
    },
    {
     "name": "stderr",
     "output_type": "stream",
     "text": [
      "/var/folders/xm/m4dy5bvs1fn7fb9wxjhsg4dc0000gn/T/ipykernel_1786/3463305045.py:51: FutureWarning: Passing literal json to 'read_json' is deprecated and will be removed in a future version. To read from a literal string, wrap it in a 'StringIO' object.\n",
      "  predictions = pd.read_json(output, orient=\"index\")\n"
     ]
    },
    {
     "name": "stdout",
     "output_type": "stream",
     "text": [
      "              precision    recall  f1-score   support\n",
      "\n",
      "    negative       0.56      0.75      0.64        12\n",
      "     neutral       0.00      0.00      0.00         8\n",
      "    positive       0.56      0.71      0.63         7\n",
      "\n",
      "    accuracy                           0.52        27\n",
      "   macro avg       0.37      0.49      0.42        27\n",
      "weighted avg       0.39      0.52      0.45        27\n",
      "\n",
      "----------------------------------------------------------------------------------------------------\n",
      "\n",
      "\n",
      "\n",
      "Best combination of context sentences: {'n_negative_sentences': 1, 'n_neutral_sentences': 1, 'n_positive_sentences': 1, 'seed': 42}\n",
      "\n",
      "\n",
      "Best results: {'f1': 0.5646090534979424, 'precision': 0.7299382716049384, 'recall': 0.6296296296296297}\n"
     ]
    },
    {
     "name": "stderr",
     "output_type": "stream",
     "text": [
      "/var/folders/xm/m4dy5bvs1fn7fb9wxjhsg4dc0000gn/T/ipykernel_1786/3463305045.py:51: FutureWarning: Passing literal json to 'read_json' is deprecated and will be removed in a future version. To read from a literal string, wrap it in a 'StringIO' object.\n",
      "  predictions = pd.read_json(output, orient=\"index\")\n"
     ]
    },
    {
     "name": "stdout",
     "output_type": "stream",
     "text": [
      "              precision    recall  f1-score   support\n",
      "\n",
      "    negative       0.61      0.92      0.73        12\n",
      "     neutral       1.00      0.12      0.22         8\n",
      "    positive       0.62      0.71      0.67         7\n",
      "\n",
      "    accuracy                           0.63        27\n",
      "   macro avg       0.75      0.59      0.54        27\n",
      "weighted avg       0.73      0.63      0.56        27\n",
      "\n",
      "----------------------------------------------------------------------------------------------------\n",
      "\n",
      "\n",
      "\n",
      "Best combination of context sentences: {'n_negative_sentences': 1, 'n_neutral_sentences': 1, 'n_positive_sentences': 1, 'seed': 42}\n",
      "\n",
      "\n",
      "Best results: {'f1': 0.5646090534979424, 'precision': 0.7299382716049384, 'recall': 0.6296296296296297}\n"
     ]
    },
    {
     "name": "stderr",
     "output_type": "stream",
     "text": [
      "/var/folders/xm/m4dy5bvs1fn7fb9wxjhsg4dc0000gn/T/ipykernel_1786/3463305045.py:51: FutureWarning: Passing literal json to 'read_json' is deprecated and will be removed in a future version. To read from a literal string, wrap it in a 'StringIO' object.\n",
      "  predictions = pd.read_json(output, orient=\"index\")\n",
      "/Users/valena17/azure_gpt/azure_gpt_env/lib/python3.10/site-packages/sklearn/metrics/_classification.py:1471: UndefinedMetricWarning: Precision is ill-defined and being set to 0.0 in labels with no predicted samples. Use `zero_division` parameter to control this behavior.\n",
      "  _warn_prf(average, modifier, msg_start, len(result))\n",
      "/Users/valena17/azure_gpt/azure_gpt_env/lib/python3.10/site-packages/sklearn/metrics/_classification.py:1471: UndefinedMetricWarning: Precision and F-score are ill-defined and being set to 0.0 in labels with no predicted samples. Use `zero_division` parameter to control this behavior.\n",
      "  _warn_prf(average, modifier, msg_start, len(result))\n",
      "/Users/valena17/azure_gpt/azure_gpt_env/lib/python3.10/site-packages/sklearn/metrics/_classification.py:1471: UndefinedMetricWarning: Precision and F-score are ill-defined and being set to 0.0 in labels with no predicted samples. Use `zero_division` parameter to control this behavior.\n",
      "  _warn_prf(average, modifier, msg_start, len(result))\n",
      "/Users/valena17/azure_gpt/azure_gpt_env/lib/python3.10/site-packages/sklearn/metrics/_classification.py:1471: UndefinedMetricWarning: Precision and F-score are ill-defined and being set to 0.0 in labels with no predicted samples. Use `zero_division` parameter to control this behavior.\n",
      "  _warn_prf(average, modifier, msg_start, len(result))\n"
     ]
    },
    {
     "name": "stdout",
     "output_type": "stream",
     "text": [
      "              precision    recall  f1-score   support\n",
      "\n",
      "    negative       0.56      0.75      0.64        12\n",
      "     neutral       0.00      0.00      0.00         8\n",
      "    positive       0.45      0.71      0.56         7\n",
      "\n",
      "    accuracy                           0.52        27\n",
      "   macro avg       0.34      0.49      0.40        27\n",
      "weighted avg       0.37      0.52      0.43        27\n",
      "\n",
      "----------------------------------------------------------------------------------------------------\n",
      "\n",
      "\n",
      "\n",
      "Best combination of context sentences: {'n_negative_sentences': 1, 'n_neutral_sentences': 1, 'n_positive_sentences': 1, 'seed': 42}\n",
      "\n",
      "\n",
      "Best results: {'f1': 0.5646090534979424, 'precision': 0.7299382716049384, 'recall': 0.6296296296296297}\n"
     ]
    },
    {
     "name": "stderr",
     "output_type": "stream",
     "text": [
      "/var/folders/xm/m4dy5bvs1fn7fb9wxjhsg4dc0000gn/T/ipykernel_1786/3463305045.py:51: FutureWarning: Passing literal json to 'read_json' is deprecated and will be removed in a future version. To read from a literal string, wrap it in a 'StringIO' object.\n",
      "  predictions = pd.read_json(output, orient=\"index\")\n"
     ]
    },
    {
     "name": "stdout",
     "output_type": "stream",
     "text": [
      "              precision    recall  f1-score   support\n",
      "\n",
      "    negative       0.56      0.75      0.64        12\n",
      "     neutral       0.00      0.00      0.00         8\n",
      "    positive       0.56      0.71      0.63         7\n",
      "\n",
      "    accuracy                           0.52        27\n",
      "   macro avg       0.37      0.49      0.42        27\n",
      "weighted avg       0.39      0.52      0.45        27\n",
      "\n",
      "----------------------------------------------------------------------------------------------------\n",
      "\n",
      "\n",
      "\n",
      "Best combination of context sentences: {'n_negative_sentences': 1, 'n_neutral_sentences': 1, 'n_positive_sentences': 1, 'seed': 42}\n",
      "\n",
      "\n",
      "Best results: {'f1': 0.5646090534979424, 'precision': 0.7299382716049384, 'recall': 0.6296296296296297}\n"
     ]
    },
    {
     "name": "stderr",
     "output_type": "stream",
     "text": [
      "/var/folders/xm/m4dy5bvs1fn7fb9wxjhsg4dc0000gn/T/ipykernel_1786/3463305045.py:51: FutureWarning: Passing literal json to 'read_json' is deprecated and will be removed in a future version. To read from a literal string, wrap it in a 'StringIO' object.\n",
      "  predictions = pd.read_json(output, orient=\"index\")\n"
     ]
    },
    {
     "name": "stdout",
     "output_type": "stream",
     "text": [
      "              precision    recall  f1-score   support\n",
      "\n",
      "    negative       0.62      0.83      0.71        12\n",
      "     neutral       0.67      0.50      0.57         8\n",
      "    positive       0.80      0.57      0.67         7\n",
      "\n",
      "    accuracy                           0.67        27\n",
      "   macro avg       0.70      0.63      0.65        27\n",
      "weighted avg       0.68      0.67      0.66        27\n",
      "\n",
      "----------------------------------------------------------------------------------------------------\n",
      "\n",
      "\n",
      "\n",
      "Best combination of context sentences: {'n_negative_sentences': 1, 'n_neutral_sentences': 2, 'n_positive_sentences': 1, 'seed': 42}\n",
      "\n",
      "\n",
      "Best results: {'f1': 0.6596119929453264, 'precision': 0.682716049382716, 'recall': 0.6666666666666666}\n"
     ]
    },
    {
     "name": "stderr",
     "output_type": "stream",
     "text": [
      "/var/folders/xm/m4dy5bvs1fn7fb9wxjhsg4dc0000gn/T/ipykernel_1786/3463305045.py:51: FutureWarning: Passing literal json to 'read_json' is deprecated and will be removed in a future version. To read from a literal string, wrap it in a 'StringIO' object.\n",
      "  predictions = pd.read_json(output, orient=\"index\")\n",
      "/Users/valena17/azure_gpt/azure_gpt_env/lib/python3.10/site-packages/sklearn/metrics/_classification.py:1471: UndefinedMetricWarning: Precision is ill-defined and being set to 0.0 in labels with no predicted samples. Use `zero_division` parameter to control this behavior.\n",
      "  _warn_prf(average, modifier, msg_start, len(result))\n",
      "/Users/valena17/azure_gpt/azure_gpt_env/lib/python3.10/site-packages/sklearn/metrics/_classification.py:1471: UndefinedMetricWarning: Precision and F-score are ill-defined and being set to 0.0 in labels with no predicted samples. Use `zero_division` parameter to control this behavior.\n",
      "  _warn_prf(average, modifier, msg_start, len(result))\n",
      "/Users/valena17/azure_gpt/azure_gpt_env/lib/python3.10/site-packages/sklearn/metrics/_classification.py:1471: UndefinedMetricWarning: Precision and F-score are ill-defined and being set to 0.0 in labels with no predicted samples. Use `zero_division` parameter to control this behavior.\n",
      "  _warn_prf(average, modifier, msg_start, len(result))\n",
      "/Users/valena17/azure_gpt/azure_gpt_env/lib/python3.10/site-packages/sklearn/metrics/_classification.py:1471: UndefinedMetricWarning: Precision and F-score are ill-defined and being set to 0.0 in labels with no predicted samples. Use `zero_division` parameter to control this behavior.\n",
      "  _warn_prf(average, modifier, msg_start, len(result))\n"
     ]
    },
    {
     "name": "stdout",
     "output_type": "stream",
     "text": [
      "              precision    recall  f1-score   support\n",
      "\n",
      "    negative       0.59      0.83      0.69        12\n",
      "     neutral       0.00      0.00      0.00         8\n",
      "    positive       0.50      0.71      0.59         7\n",
      "\n",
      "    accuracy                           0.56        27\n",
      "   macro avg       0.36      0.52      0.43        27\n",
      "weighted avg       0.39      0.56      0.46        27\n",
      "\n",
      "----------------------------------------------------------------------------------------------------\n",
      "\n",
      "\n",
      "\n",
      "Best combination of context sentences: {'n_negative_sentences': 1, 'n_neutral_sentences': 2, 'n_positive_sentences': 1, 'seed': 42}\n",
      "\n",
      "\n",
      "Best results: {'f1': 0.6596119929453264, 'precision': 0.682716049382716, 'recall': 0.6666666666666666}\n"
     ]
    },
    {
     "name": "stderr",
     "output_type": "stream",
     "text": [
      "/var/folders/xm/m4dy5bvs1fn7fb9wxjhsg4dc0000gn/T/ipykernel_1786/3463305045.py:51: FutureWarning: Passing literal json to 'read_json' is deprecated and will be removed in a future version. To read from a literal string, wrap it in a 'StringIO' object.\n",
      "  predictions = pd.read_json(output, orient=\"index\")\n"
     ]
    },
    {
     "name": "stdout",
     "output_type": "stream",
     "text": [
      "              precision    recall  f1-score   support\n",
      "\n",
      "    negative       0.59      0.83      0.69        12\n",
      "     neutral       0.00      0.00      0.00         8\n",
      "    positive       0.56      0.71      0.63         7\n",
      "\n",
      "    accuracy                           0.56        27\n",
      "   macro avg       0.38      0.52      0.44        27\n",
      "weighted avg       0.41      0.56      0.47        27\n",
      "\n",
      "----------------------------------------------------------------------------------------------------\n",
      "\n",
      "\n",
      "\n",
      "Best combination of context sentences: {'n_negative_sentences': 1, 'n_neutral_sentences': 2, 'n_positive_sentences': 1, 'seed': 42}\n",
      "\n",
      "\n",
      "Best results: {'f1': 0.6596119929453264, 'precision': 0.682716049382716, 'recall': 0.6666666666666666}\n"
     ]
    },
    {
     "name": "stderr",
     "output_type": "stream",
     "text": [
      "/var/folders/xm/m4dy5bvs1fn7fb9wxjhsg4dc0000gn/T/ipykernel_1786/3463305045.py:51: FutureWarning: Passing literal json to 'read_json' is deprecated and will be removed in a future version. To read from a literal string, wrap it in a 'StringIO' object.\n",
      "  predictions = pd.read_json(output, orient=\"index\")\n",
      "/Users/valena17/azure_gpt/azure_gpt_env/lib/python3.10/site-packages/sklearn/metrics/_classification.py:1471: UndefinedMetricWarning: Precision is ill-defined and being set to 0.0 in labels with no predicted samples. Use `zero_division` parameter to control this behavior.\n",
      "  _warn_prf(average, modifier, msg_start, len(result))\n",
      "/Users/valena17/azure_gpt/azure_gpt_env/lib/python3.10/site-packages/sklearn/metrics/_classification.py:1471: UndefinedMetricWarning: Precision and F-score are ill-defined and being set to 0.0 in labels with no predicted samples. Use `zero_division` parameter to control this behavior.\n",
      "  _warn_prf(average, modifier, msg_start, len(result))\n",
      "/Users/valena17/azure_gpt/azure_gpt_env/lib/python3.10/site-packages/sklearn/metrics/_classification.py:1471: UndefinedMetricWarning: Precision and F-score are ill-defined and being set to 0.0 in labels with no predicted samples. Use `zero_division` parameter to control this behavior.\n",
      "  _warn_prf(average, modifier, msg_start, len(result))\n",
      "/Users/valena17/azure_gpt/azure_gpt_env/lib/python3.10/site-packages/sklearn/metrics/_classification.py:1471: UndefinedMetricWarning: Precision and F-score are ill-defined and being set to 0.0 in labels with no predicted samples. Use `zero_division` parameter to control this behavior.\n",
      "  _warn_prf(average, modifier, msg_start, len(result))\n"
     ]
    },
    {
     "name": "stdout",
     "output_type": "stream",
     "text": [
      "              precision    recall  f1-score   support\n",
      "\n",
      "    negative       0.61      0.92      0.73        12\n",
      "     neutral       0.00      0.00      0.00         8\n",
      "    positive       0.56      0.71      0.63         7\n",
      "\n",
      "    accuracy                           0.59        27\n",
      "   macro avg       0.39      0.54      0.45        27\n",
      "weighted avg       0.42      0.59      0.49        27\n",
      "\n",
      "----------------------------------------------------------------------------------------------------\n",
      "\n",
      "\n",
      "\n",
      "Best combination of context sentences: {'n_negative_sentences': 1, 'n_neutral_sentences': 2, 'n_positive_sentences': 1, 'seed': 42}\n",
      "\n",
      "\n",
      "Best results: {'f1': 0.6596119929453264, 'precision': 0.682716049382716, 'recall': 0.6666666666666666}\n"
     ]
    },
    {
     "name": "stderr",
     "output_type": "stream",
     "text": [
      "/var/folders/xm/m4dy5bvs1fn7fb9wxjhsg4dc0000gn/T/ipykernel_1786/3463305045.py:51: FutureWarning: Passing literal json to 'read_json' is deprecated and will be removed in a future version. To read from a literal string, wrap it in a 'StringIO' object.\n",
      "  predictions = pd.read_json(output, orient=\"index\")\n"
     ]
    },
    {
     "name": "stdout",
     "output_type": "stream",
     "text": [
      "              precision    recall  f1-score   support\n",
      "\n",
      "    negative       0.59      0.83      0.69        12\n",
      "     neutral       1.00      0.12      0.22         8\n",
      "    positive       0.56      0.71      0.63         7\n",
      "\n",
      "    accuracy                           0.59        27\n",
      "   macro avg       0.71      0.56      0.51        27\n",
      "weighted avg       0.70      0.59      0.53        27\n",
      "\n",
      "----------------------------------------------------------------------------------------------------\n",
      "\n",
      "\n",
      "\n",
      "Best combination of context sentences: {'n_negative_sentences': 1, 'n_neutral_sentences': 2, 'n_positive_sentences': 1, 'seed': 42}\n",
      "\n",
      "\n",
      "Best results: {'f1': 0.6596119929453264, 'precision': 0.682716049382716, 'recall': 0.6666666666666666}\n"
     ]
    },
    {
     "name": "stderr",
     "output_type": "stream",
     "text": [
      "/var/folders/xm/m4dy5bvs1fn7fb9wxjhsg4dc0000gn/T/ipykernel_1786/3463305045.py:51: FutureWarning: Passing literal json to 'read_json' is deprecated and will be removed in a future version. To read from a literal string, wrap it in a 'StringIO' object.\n",
      "  predictions = pd.read_json(output, orient=\"index\")\n"
     ]
    },
    {
     "name": "stdout",
     "output_type": "stream",
     "text": [
      "              precision    recall  f1-score   support\n",
      "\n",
      "    negative       0.57      0.67      0.62        12\n",
      "     neutral       0.20      0.12      0.15         8\n",
      "    positive       0.50      0.57      0.53         7\n",
      "\n",
      "    accuracy                           0.48        27\n",
      "   macro avg       0.42      0.45      0.43        27\n",
      "weighted avg       0.44      0.48      0.46        27\n",
      "\n",
      "----------------------------------------------------------------------------------------------------\n",
      "\n",
      "\n",
      "\n",
      "Best combination of context sentences: {'n_negative_sentences': 1, 'n_neutral_sentences': 2, 'n_positive_sentences': 1, 'seed': 42}\n",
      "\n",
      "\n",
      "Best results: {'f1': 0.6596119929453264, 'precision': 0.682716049382716, 'recall': 0.6666666666666666}\n"
     ]
    },
    {
     "name": "stderr",
     "output_type": "stream",
     "text": [
      "/var/folders/xm/m4dy5bvs1fn7fb9wxjhsg4dc0000gn/T/ipykernel_1786/3463305045.py:51: FutureWarning: Passing literal json to 'read_json' is deprecated and will be removed in a future version. To read from a literal string, wrap it in a 'StringIO' object.\n",
      "  predictions = pd.read_json(output, orient=\"index\")\n"
     ]
    },
    {
     "name": "stdout",
     "output_type": "stream",
     "text": [
      "              precision    recall  f1-score   support\n",
      "\n",
      "    negative       0.62      0.83      0.71        12\n",
      "     neutral       0.67      0.50      0.57         8\n",
      "    positive       0.80      0.57      0.67         7\n",
      "\n",
      "    accuracy                           0.67        27\n",
      "   macro avg       0.70      0.63      0.65        27\n",
      "weighted avg       0.68      0.67      0.66        27\n",
      "\n",
      "----------------------------------------------------------------------------------------------------\n",
      "\n",
      "\n",
      "\n",
      "Best combination of context sentences: {'n_negative_sentences': 1, 'n_neutral_sentences': 2, 'n_positive_sentences': 1, 'seed': 42}\n",
      "\n",
      "\n",
      "Best results: {'f1': 0.6596119929453264, 'precision': 0.682716049382716, 'recall': 0.6666666666666666}\n"
     ]
    },
    {
     "name": "stderr",
     "output_type": "stream",
     "text": [
      "/var/folders/xm/m4dy5bvs1fn7fb9wxjhsg4dc0000gn/T/ipykernel_1786/3463305045.py:51: FutureWarning: Passing literal json to 'read_json' is deprecated and will be removed in a future version. To read from a literal string, wrap it in a 'StringIO' object.\n",
      "  predictions = pd.read_json(output, orient=\"index\")\n"
     ]
    },
    {
     "name": "stdout",
     "output_type": "stream",
     "text": [
      "              precision    recall  f1-score   support\n",
      "\n",
      "    negative       0.62      0.83      0.71        12\n",
      "     neutral       1.00      0.12      0.22         8\n",
      "    positive       0.50      0.71      0.59         7\n",
      "\n",
      "    accuracy                           0.59        27\n",
      "   macro avg       0.71      0.56      0.51        27\n",
      "weighted avg       0.70      0.59      0.54        27\n",
      "\n",
      "----------------------------------------------------------------------------------------------------\n",
      "\n",
      "\n",
      "\n",
      "Best combination of context sentences: {'n_negative_sentences': 1, 'n_neutral_sentences': 2, 'n_positive_sentences': 1, 'seed': 42}\n",
      "\n",
      "\n",
      "Best results: {'f1': 0.6596119929453264, 'precision': 0.682716049382716, 'recall': 0.6666666666666666}\n"
     ]
    },
    {
     "name": "stderr",
     "output_type": "stream",
     "text": [
      "/var/folders/xm/m4dy5bvs1fn7fb9wxjhsg4dc0000gn/T/ipykernel_1786/3463305045.py:51: FutureWarning: Passing literal json to 'read_json' is deprecated and will be removed in a future version. To read from a literal string, wrap it in a 'StringIO' object.\n",
      "  predictions = pd.read_json(output, orient=\"index\")\n"
     ]
    },
    {
     "name": "stdout",
     "output_type": "stream",
     "text": [
      "              precision    recall  f1-score   support\n",
      "\n",
      "    negative       0.59      0.83      0.69        12\n",
      "     neutral       0.00      0.00      0.00         8\n",
      "    positive       0.56      0.71      0.63         7\n",
      "\n",
      "    accuracy                           0.56        27\n",
      "   macro avg       0.38      0.52      0.44        27\n",
      "weighted avg       0.41      0.56      0.47        27\n",
      "\n",
      "----------------------------------------------------------------------------------------------------\n",
      "\n",
      "\n",
      "\n",
      "Best combination of context sentences: {'n_negative_sentences': 1, 'n_neutral_sentences': 2, 'n_positive_sentences': 1, 'seed': 42}\n",
      "\n",
      "\n",
      "Best results: {'f1': 0.6596119929453264, 'precision': 0.682716049382716, 'recall': 0.6666666666666666}\n"
     ]
    },
    {
     "name": "stderr",
     "output_type": "stream",
     "text": [
      "/var/folders/xm/m4dy5bvs1fn7fb9wxjhsg4dc0000gn/T/ipykernel_1786/3463305045.py:51: FutureWarning: Passing literal json to 'read_json' is deprecated and will be removed in a future version. To read from a literal string, wrap it in a 'StringIO' object.\n",
      "  predictions = pd.read_json(output, orient=\"index\")\n"
     ]
    },
    {
     "name": "stdout",
     "output_type": "stream",
     "text": [
      "              precision    recall  f1-score   support\n",
      "\n",
      "    negative       0.62      0.83      0.71        12\n",
      "     neutral       0.60      0.38      0.46         8\n",
      "    positive       0.67      0.57      0.62         7\n",
      "\n",
      "    accuracy                           0.63        27\n",
      "   macro avg       0.63      0.59      0.60        27\n",
      "weighted avg       0.63      0.63      0.61        27\n",
      "\n",
      "----------------------------------------------------------------------------------------------------\n",
      "\n",
      "\n",
      "\n",
      "Best combination of context sentences: {'n_negative_sentences': 1, 'n_neutral_sentences': 2, 'n_positive_sentences': 1, 'seed': 42}\n",
      "\n",
      "\n",
      "Best results: {'f1': 0.6596119929453264, 'precision': 0.682716049382716, 'recall': 0.6666666666666666}\n"
     ]
    },
    {
     "name": "stderr",
     "output_type": "stream",
     "text": [
      "/var/folders/xm/m4dy5bvs1fn7fb9wxjhsg4dc0000gn/T/ipykernel_1786/3463305045.py:51: FutureWarning: Passing literal json to 'read_json' is deprecated and will be removed in a future version. To read from a literal string, wrap it in a 'StringIO' object.\n",
      "  predictions = pd.read_json(output, orient=\"index\")\n"
     ]
    },
    {
     "name": "stdout",
     "output_type": "stream",
     "text": [
      "              precision    recall  f1-score   support\n",
      "\n",
      "    negative       0.59      0.83      0.69        12\n",
      "     neutral       1.00      0.12      0.22         8\n",
      "    positive       0.56      0.71      0.63         7\n",
      "\n",
      "    accuracy                           0.59        27\n",
      "   macro avg       0.71      0.56      0.51        27\n",
      "weighted avg       0.70      0.59      0.53        27\n",
      "\n",
      "----------------------------------------------------------------------------------------------------\n",
      "\n",
      "\n",
      "\n",
      "Best combination of context sentences: {'n_negative_sentences': 1, 'n_neutral_sentences': 2, 'n_positive_sentences': 1, 'seed': 42}\n",
      "\n",
      "\n",
      "Best results: {'f1': 0.6596119929453264, 'precision': 0.682716049382716, 'recall': 0.6666666666666666}\n"
     ]
    },
    {
     "name": "stderr",
     "output_type": "stream",
     "text": [
      "/var/folders/xm/m4dy5bvs1fn7fb9wxjhsg4dc0000gn/T/ipykernel_1786/3463305045.py:51: FutureWarning: Passing literal json to 'read_json' is deprecated and will be removed in a future version. To read from a literal string, wrap it in a 'StringIO' object.\n",
      "  predictions = pd.read_json(output, orient=\"index\")\n"
     ]
    },
    {
     "name": "stdout",
     "output_type": "stream",
     "text": [
      "              precision    recall  f1-score   support\n",
      "\n",
      "    negative       0.60      0.75      0.67        12\n",
      "     neutral       0.50      0.25      0.33         8\n",
      "    positive       0.62      0.71      0.67         7\n",
      "\n",
      "    accuracy                           0.59        27\n",
      "   macro avg       0.58      0.57      0.56        27\n",
      "weighted avg       0.58      0.59      0.57        27\n",
      "\n",
      "----------------------------------------------------------------------------------------------------\n",
      "\n",
      "\n",
      "\n",
      "Best combination of context sentences: {'n_negative_sentences': 1, 'n_neutral_sentences': 2, 'n_positive_sentences': 1, 'seed': 42}\n",
      "\n",
      "\n",
      "Best results: {'f1': 0.6596119929453264, 'precision': 0.682716049382716, 'recall': 0.6666666666666666}\n"
     ]
    },
    {
     "name": "stderr",
     "output_type": "stream",
     "text": [
      "/var/folders/xm/m4dy5bvs1fn7fb9wxjhsg4dc0000gn/T/ipykernel_1786/3463305045.py:51: FutureWarning: Passing literal json to 'read_json' is deprecated and will be removed in a future version. To read from a literal string, wrap it in a 'StringIO' object.\n",
      "  predictions = pd.read_json(output, orient=\"index\")\n"
     ]
    },
    {
     "name": "stdout",
     "output_type": "stream",
     "text": [
      "              precision    recall  f1-score   support\n",
      "\n",
      "    negative       0.62      0.83      0.71        12\n",
      "     neutral       0.67      0.50      0.57         8\n",
      "    positive       0.80      0.57      0.67         7\n",
      "\n",
      "    accuracy                           0.67        27\n",
      "   macro avg       0.70      0.63      0.65        27\n",
      "weighted avg       0.68      0.67      0.66        27\n",
      "\n",
      "----------------------------------------------------------------------------------------------------\n",
      "\n",
      "\n",
      "\n",
      "Best combination of context sentences: {'n_negative_sentences': 1, 'n_neutral_sentences': 2, 'n_positive_sentences': 1, 'seed': 42}\n",
      "\n",
      "\n",
      "Best results: {'f1': 0.6596119929453264, 'precision': 0.682716049382716, 'recall': 0.6666666666666666}\n"
     ]
    },
    {
     "name": "stderr",
     "output_type": "stream",
     "text": [
      "/var/folders/xm/m4dy5bvs1fn7fb9wxjhsg4dc0000gn/T/ipykernel_1786/3463305045.py:51: FutureWarning: Passing literal json to 'read_json' is deprecated and will be removed in a future version. To read from a literal string, wrap it in a 'StringIO' object.\n",
      "  predictions = pd.read_json(output, orient=\"index\")\n"
     ]
    },
    {
     "name": "stdout",
     "output_type": "stream",
     "text": [
      "              precision    recall  f1-score   support\n",
      "\n",
      "    negative       0.59      0.83      0.69        12\n",
      "     neutral       1.00      0.12      0.22         8\n",
      "    positive       0.56      0.71      0.63         7\n",
      "\n",
      "    accuracy                           0.59        27\n",
      "   macro avg       0.71      0.56      0.51        27\n",
      "weighted avg       0.70      0.59      0.53        27\n",
      "\n",
      "----------------------------------------------------------------------------------------------------\n",
      "\n",
      "\n",
      "\n",
      "Best combination of context sentences: {'n_negative_sentences': 1, 'n_neutral_sentences': 2, 'n_positive_sentences': 1, 'seed': 42}\n",
      "\n",
      "\n",
      "Best results: {'f1': 0.6596119929453264, 'precision': 0.682716049382716, 'recall': 0.6666666666666666}\n"
     ]
    },
    {
     "name": "stderr",
     "output_type": "stream",
     "text": [
      "/var/folders/xm/m4dy5bvs1fn7fb9wxjhsg4dc0000gn/T/ipykernel_1786/3463305045.py:51: FutureWarning: Passing literal json to 'read_json' is deprecated and will be removed in a future version. To read from a literal string, wrap it in a 'StringIO' object.\n",
      "  predictions = pd.read_json(output, orient=\"index\")\n"
     ]
    },
    {
     "name": "stdout",
     "output_type": "stream",
     "text": [
      "              precision    recall  f1-score   support\n",
      "\n",
      "    negative       0.59      0.83      0.69        12\n",
      "     neutral       0.50      0.12      0.20         8\n",
      "    positive       0.62      0.71      0.67         7\n",
      "\n",
      "    accuracy                           0.59        27\n",
      "   macro avg       0.57      0.56      0.52        27\n",
      "weighted avg       0.57      0.59      0.54        27\n",
      "\n",
      "----------------------------------------------------------------------------------------------------\n",
      "\n",
      "\n",
      "\n",
      "Best combination of context sentences: {'n_negative_sentences': 1, 'n_neutral_sentences': 2, 'n_positive_sentences': 1, 'seed': 42}\n",
      "\n",
      "\n",
      "Best results: {'f1': 0.6596119929453264, 'precision': 0.682716049382716, 'recall': 0.6666666666666666}\n"
     ]
    },
    {
     "name": "stderr",
     "output_type": "stream",
     "text": [
      "/var/folders/xm/m4dy5bvs1fn7fb9wxjhsg4dc0000gn/T/ipykernel_1786/3463305045.py:51: FutureWarning: Passing literal json to 'read_json' is deprecated and will be removed in a future version. To read from a literal string, wrap it in a 'StringIO' object.\n",
      "  predictions = pd.read_json(output, orient=\"index\")\n"
     ]
    },
    {
     "name": "stdout",
     "output_type": "stream",
     "text": [
      "              precision    recall  f1-score   support\n",
      "\n",
      "    negative       0.62      0.83      0.71        12\n",
      "     neutral       0.60      0.38      0.46         8\n",
      "    positive       0.67      0.57      0.62         7\n",
      "\n",
      "    accuracy                           0.63        27\n",
      "   macro avg       0.63      0.59      0.60        27\n",
      "weighted avg       0.63      0.63      0.61        27\n",
      "\n",
      "----------------------------------------------------------------------------------------------------\n",
      "\n",
      "\n",
      "\n",
      "Best combination of context sentences: {'n_negative_sentences': 1, 'n_neutral_sentences': 2, 'n_positive_sentences': 1, 'seed': 42}\n",
      "\n",
      "\n",
      "Best results: {'f1': 0.6596119929453264, 'precision': 0.682716049382716, 'recall': 0.6666666666666666}\n"
     ]
    },
    {
     "name": "stderr",
     "output_type": "stream",
     "text": [
      "/var/folders/xm/m4dy5bvs1fn7fb9wxjhsg4dc0000gn/T/ipykernel_1786/3463305045.py:51: FutureWarning: Passing literal json to 'read_json' is deprecated and will be removed in a future version. To read from a literal string, wrap it in a 'StringIO' object.\n",
      "  predictions = pd.read_json(output, orient=\"index\")\n"
     ]
    },
    {
     "name": "stdout",
     "output_type": "stream",
     "text": [
      "              precision    recall  f1-score   support\n",
      "\n",
      "    negative       0.59      0.83      0.69        12\n",
      "     neutral       1.00      0.12      0.22         8\n",
      "    positive       0.56      0.71      0.63         7\n",
      "\n",
      "    accuracy                           0.59        27\n",
      "   macro avg       0.71      0.56      0.51        27\n",
      "weighted avg       0.70      0.59      0.53        27\n",
      "\n",
      "----------------------------------------------------------------------------------------------------\n",
      "\n",
      "\n",
      "\n",
      "Best combination of context sentences: {'n_negative_sentences': 1, 'n_neutral_sentences': 2, 'n_positive_sentences': 1, 'seed': 42}\n",
      "\n",
      "\n",
      "Best results: {'f1': 0.6596119929453264, 'precision': 0.682716049382716, 'recall': 0.6666666666666666}\n"
     ]
    },
    {
     "name": "stderr",
     "output_type": "stream",
     "text": [
      "/var/folders/xm/m4dy5bvs1fn7fb9wxjhsg4dc0000gn/T/ipykernel_1786/3463305045.py:51: FutureWarning: Passing literal json to 'read_json' is deprecated and will be removed in a future version. To read from a literal string, wrap it in a 'StringIO' object.\n",
      "  predictions = pd.read_json(output, orient=\"index\")\n"
     ]
    },
    {
     "name": "stdout",
     "output_type": "stream",
     "text": [
      "              precision    recall  f1-score   support\n",
      "\n",
      "    negative       0.56      0.75      0.64        12\n",
      "     neutral       0.00      0.00      0.00         8\n",
      "    positive       0.56      0.71      0.63         7\n",
      "\n",
      "    accuracy                           0.52        27\n",
      "   macro avg       0.37      0.49      0.42        27\n",
      "weighted avg       0.39      0.52      0.45        27\n",
      "\n",
      "----------------------------------------------------------------------------------------------------\n",
      "\n",
      "\n",
      "\n",
      "Best combination of context sentences: {'n_negative_sentences': 1, 'n_neutral_sentences': 2, 'n_positive_sentences': 1, 'seed': 42}\n",
      "\n",
      "\n",
      "Best results: {'f1': 0.6596119929453264, 'precision': 0.682716049382716, 'recall': 0.6666666666666666}\n"
     ]
    },
    {
     "name": "stderr",
     "output_type": "stream",
     "text": [
      "/var/folders/xm/m4dy5bvs1fn7fb9wxjhsg4dc0000gn/T/ipykernel_1786/3463305045.py:51: FutureWarning: Passing literal json to 'read_json' is deprecated and will be removed in a future version. To read from a literal string, wrap it in a 'StringIO' object.\n",
      "  predictions = pd.read_json(output, orient=\"index\")\n",
      "/Users/valena17/azure_gpt/azure_gpt_env/lib/python3.10/site-packages/sklearn/metrics/_classification.py:1471: UndefinedMetricWarning: Precision is ill-defined and being set to 0.0 in labels with no predicted samples. Use `zero_division` parameter to control this behavior.\n",
      "  _warn_prf(average, modifier, msg_start, len(result))\n",
      "/Users/valena17/azure_gpt/azure_gpt_env/lib/python3.10/site-packages/sklearn/metrics/_classification.py:1471: UndefinedMetricWarning: Precision and F-score are ill-defined and being set to 0.0 in labels with no predicted samples. Use `zero_division` parameter to control this behavior.\n",
      "  _warn_prf(average, modifier, msg_start, len(result))\n",
      "/Users/valena17/azure_gpt/azure_gpt_env/lib/python3.10/site-packages/sklearn/metrics/_classification.py:1471: UndefinedMetricWarning: Precision and F-score are ill-defined and being set to 0.0 in labels with no predicted samples. Use `zero_division` parameter to control this behavior.\n",
      "  _warn_prf(average, modifier, msg_start, len(result))\n",
      "/Users/valena17/azure_gpt/azure_gpt_env/lib/python3.10/site-packages/sklearn/metrics/_classification.py:1471: UndefinedMetricWarning: Precision and F-score are ill-defined and being set to 0.0 in labels with no predicted samples. Use `zero_division` parameter to control this behavior.\n",
      "  _warn_prf(average, modifier, msg_start, len(result))\n"
     ]
    },
    {
     "name": "stdout",
     "output_type": "stream",
     "text": [
      "              precision    recall  f1-score   support\n",
      "\n",
      "    negative       0.61      0.92      0.73        12\n",
      "     neutral       0.00      0.00      0.00         8\n",
      "    positive       0.56      0.71      0.63         7\n",
      "\n",
      "    accuracy                           0.59        27\n",
      "   macro avg       0.39      0.54      0.45        27\n",
      "weighted avg       0.42      0.59      0.49        27\n",
      "\n",
      "----------------------------------------------------------------------------------------------------\n",
      "\n",
      "\n",
      "\n",
      "Best combination of context sentences: {'n_negative_sentences': 1, 'n_neutral_sentences': 2, 'n_positive_sentences': 1, 'seed': 42}\n",
      "\n",
      "\n",
      "Best results: {'f1': 0.6596119929453264, 'precision': 0.682716049382716, 'recall': 0.6666666666666666}\n"
     ]
    },
    {
     "name": "stderr",
     "output_type": "stream",
     "text": [
      "/var/folders/xm/m4dy5bvs1fn7fb9wxjhsg4dc0000gn/T/ipykernel_1786/3463305045.py:51: FutureWarning: Passing literal json to 'read_json' is deprecated and will be removed in a future version. To read from a literal string, wrap it in a 'StringIO' object.\n",
      "  predictions = pd.read_json(output, orient=\"index\")\n",
      "/Users/valena17/azure_gpt/azure_gpt_env/lib/python3.10/site-packages/sklearn/metrics/_classification.py:1471: UndefinedMetricWarning: Precision is ill-defined and being set to 0.0 in labels with no predicted samples. Use `zero_division` parameter to control this behavior.\n",
      "  _warn_prf(average, modifier, msg_start, len(result))\n",
      "/Users/valena17/azure_gpt/azure_gpt_env/lib/python3.10/site-packages/sklearn/metrics/_classification.py:1471: UndefinedMetricWarning: Precision and F-score are ill-defined and being set to 0.0 in labels with no predicted samples. Use `zero_division` parameter to control this behavior.\n",
      "  _warn_prf(average, modifier, msg_start, len(result))\n",
      "/Users/valena17/azure_gpt/azure_gpt_env/lib/python3.10/site-packages/sklearn/metrics/_classification.py:1471: UndefinedMetricWarning: Precision and F-score are ill-defined and being set to 0.0 in labels with no predicted samples. Use `zero_division` parameter to control this behavior.\n",
      "  _warn_prf(average, modifier, msg_start, len(result))\n",
      "/Users/valena17/azure_gpt/azure_gpt_env/lib/python3.10/site-packages/sklearn/metrics/_classification.py:1471: UndefinedMetricWarning: Precision and F-score are ill-defined and being set to 0.0 in labels with no predicted samples. Use `zero_division` parameter to control this behavior.\n",
      "  _warn_prf(average, modifier, msg_start, len(result))\n"
     ]
    },
    {
     "name": "stdout",
     "output_type": "stream",
     "text": [
      "              precision    recall  f1-score   support\n",
      "\n",
      "    negative       0.59      0.83      0.69        12\n",
      "     neutral       0.00      0.00      0.00         8\n",
      "    positive       0.50      0.71      0.59         7\n",
      "\n",
      "    accuracy                           0.56        27\n",
      "   macro avg       0.36      0.52      0.43        27\n",
      "weighted avg       0.39      0.56      0.46        27\n",
      "\n",
      "----------------------------------------------------------------------------------------------------\n",
      "\n",
      "\n",
      "\n",
      "Best combination of context sentences: {'n_negative_sentences': 1, 'n_neutral_sentences': 2, 'n_positive_sentences': 1, 'seed': 42}\n",
      "\n",
      "\n",
      "Best results: {'f1': 0.6596119929453264, 'precision': 0.682716049382716, 'recall': 0.6666666666666666}\n"
     ]
    },
    {
     "name": "stderr",
     "output_type": "stream",
     "text": [
      "/var/folders/xm/m4dy5bvs1fn7fb9wxjhsg4dc0000gn/T/ipykernel_1786/3463305045.py:51: FutureWarning: Passing literal json to 'read_json' is deprecated and will be removed in a future version. To read from a literal string, wrap it in a 'StringIO' object.\n",
      "  predictions = pd.read_json(output, orient=\"index\")\n"
     ]
    },
    {
     "name": "stdout",
     "output_type": "stream",
     "text": [
      "              precision    recall  f1-score   support\n",
      "\n",
      "    negative       0.59      0.83      0.69        12\n",
      "     neutral       0.00      0.00      0.00         8\n",
      "    positive       0.56      0.71      0.63         7\n",
      "\n",
      "    accuracy                           0.56        27\n",
      "   macro avg       0.38      0.52      0.44        27\n",
      "weighted avg       0.41      0.56      0.47        27\n",
      "\n",
      "----------------------------------------------------------------------------------------------------\n",
      "\n",
      "\n",
      "\n",
      "Best combination of context sentences: {'n_negative_sentences': 1, 'n_neutral_sentences': 2, 'n_positive_sentences': 1, 'seed': 42}\n",
      "\n",
      "\n",
      "Best results: {'f1': 0.6596119929453264, 'precision': 0.682716049382716, 'recall': 0.6666666666666666}\n"
     ]
    },
    {
     "name": "stderr",
     "output_type": "stream",
     "text": [
      "/var/folders/xm/m4dy5bvs1fn7fb9wxjhsg4dc0000gn/T/ipykernel_1786/3463305045.py:51: FutureWarning: Passing literal json to 'read_json' is deprecated and will be removed in a future version. To read from a literal string, wrap it in a 'StringIO' object.\n",
      "  predictions = pd.read_json(output, orient=\"index\")\n",
      "/Users/valena17/azure_gpt/azure_gpt_env/lib/python3.10/site-packages/sklearn/metrics/_classification.py:1471: UndefinedMetricWarning: Precision is ill-defined and being set to 0.0 in labels with no predicted samples. Use `zero_division` parameter to control this behavior.\n",
      "  _warn_prf(average, modifier, msg_start, len(result))\n",
      "/Users/valena17/azure_gpt/azure_gpt_env/lib/python3.10/site-packages/sklearn/metrics/_classification.py:1471: UndefinedMetricWarning: Precision and F-score are ill-defined and being set to 0.0 in labels with no predicted samples. Use `zero_division` parameter to control this behavior.\n",
      "  _warn_prf(average, modifier, msg_start, len(result))\n",
      "/Users/valena17/azure_gpt/azure_gpt_env/lib/python3.10/site-packages/sklearn/metrics/_classification.py:1471: UndefinedMetricWarning: Precision and F-score are ill-defined and being set to 0.0 in labels with no predicted samples. Use `zero_division` parameter to control this behavior.\n",
      "  _warn_prf(average, modifier, msg_start, len(result))\n",
      "/Users/valena17/azure_gpt/azure_gpt_env/lib/python3.10/site-packages/sklearn/metrics/_classification.py:1471: UndefinedMetricWarning: Precision and F-score are ill-defined and being set to 0.0 in labels with no predicted samples. Use `zero_division` parameter to control this behavior.\n",
      "  _warn_prf(average, modifier, msg_start, len(result))\n"
     ]
    },
    {
     "name": "stdout",
     "output_type": "stream",
     "text": [
      "              precision    recall  f1-score   support\n",
      "\n",
      "    negative       0.65      0.92      0.76        12\n",
      "     neutral       0.00      0.00      0.00         8\n",
      "    positive       0.50      0.71      0.59         7\n",
      "\n",
      "    accuracy                           0.59        27\n",
      "   macro avg       0.38      0.54      0.45        27\n",
      "weighted avg       0.42      0.59      0.49        27\n",
      "\n",
      "----------------------------------------------------------------------------------------------------\n",
      "\n",
      "\n",
      "\n",
      "Best combination of context sentences: {'n_negative_sentences': 1, 'n_neutral_sentences': 2, 'n_positive_sentences': 1, 'seed': 42}\n",
      "\n",
      "\n",
      "Best results: {'f1': 0.6596119929453264, 'precision': 0.682716049382716, 'recall': 0.6666666666666666}\n"
     ]
    },
    {
     "name": "stderr",
     "output_type": "stream",
     "text": [
      "/var/folders/xm/m4dy5bvs1fn7fb9wxjhsg4dc0000gn/T/ipykernel_1786/3463305045.py:51: FutureWarning: Passing literal json to 'read_json' is deprecated and will be removed in a future version. To read from a literal string, wrap it in a 'StringIO' object.\n",
      "  predictions = pd.read_json(output, orient=\"index\")\n",
      "/Users/valena17/azure_gpt/azure_gpt_env/lib/python3.10/site-packages/sklearn/metrics/_classification.py:1471: UndefinedMetricWarning: Precision is ill-defined and being set to 0.0 in labels with no predicted samples. Use `zero_division` parameter to control this behavior.\n",
      "  _warn_prf(average, modifier, msg_start, len(result))\n",
      "/Users/valena17/azure_gpt/azure_gpt_env/lib/python3.10/site-packages/sklearn/metrics/_classification.py:1471: UndefinedMetricWarning: Precision and F-score are ill-defined and being set to 0.0 in labels with no predicted samples. Use `zero_division` parameter to control this behavior.\n",
      "  _warn_prf(average, modifier, msg_start, len(result))\n",
      "/Users/valena17/azure_gpt/azure_gpt_env/lib/python3.10/site-packages/sklearn/metrics/_classification.py:1471: UndefinedMetricWarning: Precision and F-score are ill-defined and being set to 0.0 in labels with no predicted samples. Use `zero_division` parameter to control this behavior.\n",
      "  _warn_prf(average, modifier, msg_start, len(result))\n",
      "/Users/valena17/azure_gpt/azure_gpt_env/lib/python3.10/site-packages/sklearn/metrics/_classification.py:1471: UndefinedMetricWarning: Precision and F-score are ill-defined and being set to 0.0 in labels with no predicted samples. Use `zero_division` parameter to control this behavior.\n",
      "  _warn_prf(average, modifier, msg_start, len(result))\n"
     ]
    },
    {
     "name": "stdout",
     "output_type": "stream",
     "text": [
      "              precision    recall  f1-score   support\n",
      "\n",
      "    negative       0.56      0.75      0.64        12\n",
      "     neutral       0.00      0.00      0.00         8\n",
      "    positive       0.45      0.71      0.56         7\n",
      "\n",
      "    accuracy                           0.52        27\n",
      "   macro avg       0.34      0.49      0.40        27\n",
      "weighted avg       0.37      0.52      0.43        27\n",
      "\n",
      "----------------------------------------------------------------------------------------------------\n",
      "\n",
      "\n",
      "\n",
      "Best combination of context sentences: {'n_negative_sentences': 1, 'n_neutral_sentences': 2, 'n_positive_sentences': 1, 'seed': 42}\n",
      "\n",
      "\n",
      "Best results: {'f1': 0.6596119929453264, 'precision': 0.682716049382716, 'recall': 0.6666666666666666}\n"
     ]
    },
    {
     "name": "stderr",
     "output_type": "stream",
     "text": [
      "/var/folders/xm/m4dy5bvs1fn7fb9wxjhsg4dc0000gn/T/ipykernel_1786/3463305045.py:51: FutureWarning: Passing literal json to 'read_json' is deprecated and will be removed in a future version. To read from a literal string, wrap it in a 'StringIO' object.\n",
      "  predictions = pd.read_json(output, orient=\"index\")\n"
     ]
    },
    {
     "name": "stdout",
     "output_type": "stream",
     "text": [
      "              precision    recall  f1-score   support\n",
      "\n",
      "    negative       0.62      0.83      0.71        12\n",
      "     neutral       0.50      0.12      0.20         8\n",
      "    positive       0.56      0.71      0.63         7\n",
      "\n",
      "    accuracy                           0.59        27\n",
      "   macro avg       0.56      0.56      0.51        27\n",
      "weighted avg       0.57      0.59      0.54        27\n",
      "\n",
      "----------------------------------------------------------------------------------------------------\n",
      "\n",
      "\n",
      "\n",
      "Best combination of context sentences: {'n_negative_sentences': 1, 'n_neutral_sentences': 2, 'n_positive_sentences': 1, 'seed': 42}\n",
      "\n",
      "\n",
      "Best results: {'f1': 0.6596119929453264, 'precision': 0.682716049382716, 'recall': 0.6666666666666666}\n"
     ]
    },
    {
     "name": "stderr",
     "output_type": "stream",
     "text": [
      "/var/folders/xm/m4dy5bvs1fn7fb9wxjhsg4dc0000gn/T/ipykernel_1786/3463305045.py:51: FutureWarning: Passing literal json to 'read_json' is deprecated and will be removed in a future version. To read from a literal string, wrap it in a 'StringIO' object.\n",
      "  predictions = pd.read_json(output, orient=\"index\")\n"
     ]
    },
    {
     "name": "stdout",
     "output_type": "stream",
     "text": [
      "              precision    recall  f1-score   support\n",
      "\n",
      "    negative       0.65      0.92      0.76        12\n",
      "     neutral       0.80      0.50      0.62         8\n",
      "    positive       0.80      0.57      0.67         7\n",
      "\n",
      "    accuracy                           0.70        27\n",
      "   macro avg       0.75      0.66      0.68        27\n",
      "weighted avg       0.73      0.70      0.69        27\n",
      "\n",
      "----------------------------------------------------------------------------------------------------\n",
      "\n",
      "\n",
      "\n",
      "Best combination of context sentences: {'n_negative_sentences': 2, 'n_neutral_sentences': 2, 'n_positive_sentences': 1, 'seed': 42}\n",
      "\n",
      "\n",
      "Best results: {'f1': 0.6923404394668761, 'precision': 0.7320261437908497, 'recall': 0.7037037037037037}\n"
     ]
    },
    {
     "name": "stderr",
     "output_type": "stream",
     "text": [
      "/var/folders/xm/m4dy5bvs1fn7fb9wxjhsg4dc0000gn/T/ipykernel_1786/3463305045.py:51: FutureWarning: Passing literal json to 'read_json' is deprecated and will be removed in a future version. To read from a literal string, wrap it in a 'StringIO' object.\n",
      "  predictions = pd.read_json(output, orient=\"index\")\n"
     ]
    },
    {
     "name": "stdout",
     "output_type": "stream",
     "text": [
      "              precision    recall  f1-score   support\n",
      "\n",
      "    negative       0.59      0.83      0.69        12\n",
      "     neutral       1.00      0.12      0.22         8\n",
      "    positive       0.56      0.71      0.63         7\n",
      "\n",
      "    accuracy                           0.59        27\n",
      "   macro avg       0.71      0.56      0.51        27\n",
      "weighted avg       0.70      0.59      0.53        27\n",
      "\n",
      "----------------------------------------------------------------------------------------------------\n",
      "\n",
      "\n",
      "\n",
      "Best combination of context sentences: {'n_negative_sentences': 2, 'n_neutral_sentences': 2, 'n_positive_sentences': 1, 'seed': 42}\n",
      "\n",
      "\n",
      "Best results: {'f1': 0.6923404394668761, 'precision': 0.7320261437908497, 'recall': 0.7037037037037037}\n"
     ]
    },
    {
     "name": "stderr",
     "output_type": "stream",
     "text": [
      "/var/folders/xm/m4dy5bvs1fn7fb9wxjhsg4dc0000gn/T/ipykernel_1786/3463305045.py:51: FutureWarning: Passing literal json to 'read_json' is deprecated and will be removed in a future version. To read from a literal string, wrap it in a 'StringIO' object.\n",
      "  predictions = pd.read_json(output, orient=\"index\")\n"
     ]
    },
    {
     "name": "stdout",
     "output_type": "stream",
     "text": [
      "              precision    recall  f1-score   support\n",
      "\n",
      "    negative       0.62      0.83      0.71        12\n",
      "     neutral       0.50      0.12      0.20         8\n",
      "    positive       0.56      0.71      0.63         7\n",
      "\n",
      "    accuracy                           0.59        27\n",
      "   macro avg       0.56      0.56      0.51        27\n",
      "weighted avg       0.57      0.59      0.54        27\n",
      "\n",
      "----------------------------------------------------------------------------------------------------\n",
      "\n",
      "\n",
      "\n",
      "Best combination of context sentences: {'n_negative_sentences': 2, 'n_neutral_sentences': 2, 'n_positive_sentences': 1, 'seed': 42}\n",
      "\n",
      "\n",
      "Best results: {'f1': 0.6923404394668761, 'precision': 0.7320261437908497, 'recall': 0.7037037037037037}\n"
     ]
    },
    {
     "name": "stderr",
     "output_type": "stream",
     "text": [
      "/var/folders/xm/m4dy5bvs1fn7fb9wxjhsg4dc0000gn/T/ipykernel_1786/3463305045.py:51: FutureWarning: Passing literal json to 'read_json' is deprecated and will be removed in a future version. To read from a literal string, wrap it in a 'StringIO' object.\n",
      "  predictions = pd.read_json(output, orient=\"index\")\n",
      "/Users/valena17/azure_gpt/azure_gpt_env/lib/python3.10/site-packages/sklearn/metrics/_classification.py:1471: UndefinedMetricWarning: Precision is ill-defined and being set to 0.0 in labels with no predicted samples. Use `zero_division` parameter to control this behavior.\n",
      "  _warn_prf(average, modifier, msg_start, len(result))\n",
      "/Users/valena17/azure_gpt/azure_gpt_env/lib/python3.10/site-packages/sklearn/metrics/_classification.py:1471: UndefinedMetricWarning: Precision and F-score are ill-defined and being set to 0.0 in labels with no predicted samples. Use `zero_division` parameter to control this behavior.\n",
      "  _warn_prf(average, modifier, msg_start, len(result))\n",
      "/Users/valena17/azure_gpt/azure_gpt_env/lib/python3.10/site-packages/sklearn/metrics/_classification.py:1471: UndefinedMetricWarning: Precision and F-score are ill-defined and being set to 0.0 in labels with no predicted samples. Use `zero_division` parameter to control this behavior.\n",
      "  _warn_prf(average, modifier, msg_start, len(result))\n",
      "/Users/valena17/azure_gpt/azure_gpt_env/lib/python3.10/site-packages/sklearn/metrics/_classification.py:1471: UndefinedMetricWarning: Precision and F-score are ill-defined and being set to 0.0 in labels with no predicted samples. Use `zero_division` parameter to control this behavior.\n",
      "  _warn_prf(average, modifier, msg_start, len(result))\n"
     ]
    },
    {
     "name": "stdout",
     "output_type": "stream",
     "text": [
      "              precision    recall  f1-score   support\n",
      "\n",
      "    negative       0.61      0.92      0.73        12\n",
      "     neutral       0.00      0.00      0.00         8\n",
      "    positive       0.56      0.71      0.63         7\n",
      "\n",
      "    accuracy                           0.59        27\n",
      "   macro avg       0.39      0.54      0.45        27\n",
      "weighted avg       0.42      0.59      0.49        27\n",
      "\n",
      "----------------------------------------------------------------------------------------------------\n",
      "\n",
      "\n",
      "\n",
      "Best combination of context sentences: {'n_negative_sentences': 2, 'n_neutral_sentences': 2, 'n_positive_sentences': 1, 'seed': 42}\n",
      "\n",
      "\n",
      "Best results: {'f1': 0.6923404394668761, 'precision': 0.7320261437908497, 'recall': 0.7037037037037037}\n"
     ]
    },
    {
     "name": "stderr",
     "output_type": "stream",
     "text": [
      "/var/folders/xm/m4dy5bvs1fn7fb9wxjhsg4dc0000gn/T/ipykernel_1786/3463305045.py:51: FutureWarning: Passing literal json to 'read_json' is deprecated and will be removed in a future version. To read from a literal string, wrap it in a 'StringIO' object.\n",
      "  predictions = pd.read_json(output, orient=\"index\")\n"
     ]
    },
    {
     "name": "stdout",
     "output_type": "stream",
     "text": [
      "              precision    recall  f1-score   support\n",
      "\n",
      "    negative       0.56      0.75      0.64        12\n",
      "     neutral       0.50      0.12      0.20         8\n",
      "    positive       0.56      0.71      0.63         7\n",
      "\n",
      "    accuracy                           0.56        27\n",
      "   macro avg       0.54      0.53      0.49        27\n",
      "weighted avg       0.54      0.56      0.51        27\n",
      "\n",
      "----------------------------------------------------------------------------------------------------\n",
      "\n",
      "\n",
      "\n",
      "Best combination of context sentences: {'n_negative_sentences': 2, 'n_neutral_sentences': 2, 'n_positive_sentences': 1, 'seed': 42}\n",
      "\n",
      "\n",
      "Best results: {'f1': 0.6923404394668761, 'precision': 0.7320261437908497, 'recall': 0.7037037037037037}\n"
     ]
    },
    {
     "name": "stderr",
     "output_type": "stream",
     "text": [
      "/var/folders/xm/m4dy5bvs1fn7fb9wxjhsg4dc0000gn/T/ipykernel_1786/3463305045.py:51: FutureWarning: Passing literal json to 'read_json' is deprecated and will be removed in a future version. To read from a literal string, wrap it in a 'StringIO' object.\n",
      "  predictions = pd.read_json(output, orient=\"index\")\n"
     ]
    },
    {
     "name": "stdout",
     "output_type": "stream",
     "text": [
      "              precision    recall  f1-score   support\n",
      "\n",
      "    negative       0.60      0.75      0.67        12\n",
      "     neutral       0.33      0.25      0.29         8\n",
      "    positive       0.50      0.43      0.46         7\n",
      "\n",
      "    accuracy                           0.52        27\n",
      "   macro avg       0.48      0.48      0.47        27\n",
      "weighted avg       0.50      0.52      0.50        27\n",
      "\n",
      "----------------------------------------------------------------------------------------------------\n",
      "\n",
      "\n",
      "\n",
      "Best combination of context sentences: {'n_negative_sentences': 2, 'n_neutral_sentences': 2, 'n_positive_sentences': 1, 'seed': 42}\n",
      "\n",
      "\n",
      "Best results: {'f1': 0.6923404394668761, 'precision': 0.7320261437908497, 'recall': 0.7037037037037037}\n"
     ]
    },
    {
     "name": "stderr",
     "output_type": "stream",
     "text": [
      "/var/folders/xm/m4dy5bvs1fn7fb9wxjhsg4dc0000gn/T/ipykernel_1786/3463305045.py:51: FutureWarning: Passing literal json to 'read_json' is deprecated and will be removed in a future version. To read from a literal string, wrap it in a 'StringIO' object.\n",
      "  predictions = pd.read_json(output, orient=\"index\")\n"
     ]
    },
    {
     "name": "stdout",
     "output_type": "stream",
     "text": [
      "              precision    recall  f1-score   support\n",
      "\n",
      "    negative       0.62      0.83      0.71        12\n",
      "     neutral       0.67      0.50      0.57         8\n",
      "    positive       0.80      0.57      0.67         7\n",
      "\n",
      "    accuracy                           0.67        27\n",
      "   macro avg       0.70      0.63      0.65        27\n",
      "weighted avg       0.68      0.67      0.66        27\n",
      "\n",
      "----------------------------------------------------------------------------------------------------\n",
      "\n",
      "\n",
      "\n",
      "Best combination of context sentences: {'n_negative_sentences': 2, 'n_neutral_sentences': 2, 'n_positive_sentences': 1, 'seed': 42}\n",
      "\n",
      "\n",
      "Best results: {'f1': 0.6923404394668761, 'precision': 0.7320261437908497, 'recall': 0.7037037037037037}\n"
     ]
    },
    {
     "name": "stderr",
     "output_type": "stream",
     "text": [
      "/var/folders/xm/m4dy5bvs1fn7fb9wxjhsg4dc0000gn/T/ipykernel_1786/3463305045.py:51: FutureWarning: Passing literal json to 'read_json' is deprecated and will be removed in a future version. To read from a literal string, wrap it in a 'StringIO' object.\n",
      "  predictions = pd.read_json(output, orient=\"index\")\n"
     ]
    },
    {
     "name": "stdout",
     "output_type": "stream",
     "text": [
      "              precision    recall  f1-score   support\n",
      "\n",
      "    negative       0.60      0.75      0.67        12\n",
      "     neutral       0.50      0.12      0.20         8\n",
      "    positive       0.50      0.71      0.59         7\n",
      "\n",
      "    accuracy                           0.56        27\n",
      "   macro avg       0.53      0.53      0.48        27\n",
      "weighted avg       0.54      0.56      0.51        27\n",
      "\n",
      "----------------------------------------------------------------------------------------------------\n",
      "\n",
      "\n",
      "\n",
      "Best combination of context sentences: {'n_negative_sentences': 2, 'n_neutral_sentences': 2, 'n_positive_sentences': 1, 'seed': 42}\n",
      "\n",
      "\n",
      "Best results: {'f1': 0.6923404394668761, 'precision': 0.7320261437908497, 'recall': 0.7037037037037037}\n"
     ]
    },
    {
     "name": "stderr",
     "output_type": "stream",
     "text": [
      "/var/folders/xm/m4dy5bvs1fn7fb9wxjhsg4dc0000gn/T/ipykernel_1786/3463305045.py:51: FutureWarning: Passing literal json to 'read_json' is deprecated and will be removed in a future version. To read from a literal string, wrap it in a 'StringIO' object.\n",
      "  predictions = pd.read_json(output, orient=\"index\")\n"
     ]
    },
    {
     "name": "stdout",
     "output_type": "stream",
     "text": [
      "              precision    recall  f1-score   support\n",
      "\n",
      "    negative       0.59      0.83      0.69        12\n",
      "     neutral       0.00      0.00      0.00         8\n",
      "    positive       0.56      0.71      0.63         7\n",
      "\n",
      "    accuracy                           0.56        27\n",
      "   macro avg       0.38      0.52      0.44        27\n",
      "weighted avg       0.41      0.56      0.47        27\n",
      "\n",
      "----------------------------------------------------------------------------------------------------\n",
      "\n",
      "\n",
      "\n",
      "Best combination of context sentences: {'n_negative_sentences': 2, 'n_neutral_sentences': 2, 'n_positive_sentences': 1, 'seed': 42}\n",
      "\n",
      "\n",
      "Best results: {'f1': 0.6923404394668761, 'precision': 0.7320261437908497, 'recall': 0.7037037037037037}\n"
     ]
    },
    {
     "name": "stderr",
     "output_type": "stream",
     "text": [
      "/var/folders/xm/m4dy5bvs1fn7fb9wxjhsg4dc0000gn/T/ipykernel_1786/3463305045.py:51: FutureWarning: Passing literal json to 'read_json' is deprecated and will be removed in a future version. To read from a literal string, wrap it in a 'StringIO' object.\n",
      "  predictions = pd.read_json(output, orient=\"index\")\n"
     ]
    },
    {
     "name": "stdout",
     "output_type": "stream",
     "text": [
      "              precision    recall  f1-score   support\n",
      "\n",
      "    negative       0.62      0.83      0.71        12\n",
      "     neutral       0.60      0.38      0.46         8\n",
      "    positive       0.67      0.57      0.62         7\n",
      "\n",
      "    accuracy                           0.63        27\n",
      "   macro avg       0.63      0.59      0.60        27\n",
      "weighted avg       0.63      0.63      0.61        27\n",
      "\n",
      "----------------------------------------------------------------------------------------------------\n",
      "\n",
      "\n",
      "\n",
      "Best combination of context sentences: {'n_negative_sentences': 2, 'n_neutral_sentences': 2, 'n_positive_sentences': 1, 'seed': 42}\n",
      "\n",
      "\n",
      "Best results: {'f1': 0.6923404394668761, 'precision': 0.7320261437908497, 'recall': 0.7037037037037037}\n"
     ]
    },
    {
     "name": "stderr",
     "output_type": "stream",
     "text": [
      "/var/folders/xm/m4dy5bvs1fn7fb9wxjhsg4dc0000gn/T/ipykernel_1786/3463305045.py:51: FutureWarning: Passing literal json to 'read_json' is deprecated and will be removed in a future version. To read from a literal string, wrap it in a 'StringIO' object.\n",
      "  predictions = pd.read_json(output, orient=\"index\")\n"
     ]
    },
    {
     "name": "stdout",
     "output_type": "stream",
     "text": [
      "              precision    recall  f1-score   support\n",
      "\n",
      "    negative       0.56      0.75      0.64        12\n",
      "     neutral       0.50      0.12      0.20         8\n",
      "    positive       0.56      0.71      0.63         7\n",
      "\n",
      "    accuracy                           0.56        27\n",
      "   macro avg       0.54      0.53      0.49        27\n",
      "weighted avg       0.54      0.56      0.51        27\n",
      "\n",
      "----------------------------------------------------------------------------------------------------\n",
      "\n",
      "\n",
      "\n",
      "Best combination of context sentences: {'n_negative_sentences': 2, 'n_neutral_sentences': 2, 'n_positive_sentences': 1, 'seed': 42}\n",
      "\n",
      "\n",
      "Best results: {'f1': 0.6923404394668761, 'precision': 0.7320261437908497, 'recall': 0.7037037037037037}\n"
     ]
    },
    {
     "name": "stderr",
     "output_type": "stream",
     "text": [
      "/var/folders/xm/m4dy5bvs1fn7fb9wxjhsg4dc0000gn/T/ipykernel_1786/3463305045.py:51: FutureWarning: Passing literal json to 'read_json' is deprecated and will be removed in a future version. To read from a literal string, wrap it in a 'StringIO' object.\n",
      "  predictions = pd.read_json(output, orient=\"index\")\n"
     ]
    },
    {
     "name": "stdout",
     "output_type": "stream",
     "text": [
      "              precision    recall  f1-score   support\n",
      "\n",
      "    negative       0.60      0.75      0.67        12\n",
      "     neutral       0.40      0.25      0.31         8\n",
      "    positive       0.57      0.57      0.57         7\n",
      "\n",
      "    accuracy                           0.56        27\n",
      "   macro avg       0.52      0.52      0.52        27\n",
      "weighted avg       0.53      0.56      0.54        27\n",
      "\n",
      "----------------------------------------------------------------------------------------------------\n",
      "\n",
      "\n",
      "\n",
      "Best combination of context sentences: {'n_negative_sentences': 2, 'n_neutral_sentences': 2, 'n_positive_sentences': 1, 'seed': 42}\n",
      "\n",
      "\n",
      "Best results: {'f1': 0.6923404394668761, 'precision': 0.7320261437908497, 'recall': 0.7037037037037037}\n"
     ]
    },
    {
     "name": "stderr",
     "output_type": "stream",
     "text": [
      "/var/folders/xm/m4dy5bvs1fn7fb9wxjhsg4dc0000gn/T/ipykernel_1786/3463305045.py:51: FutureWarning: Passing literal json to 'read_json' is deprecated and will be removed in a future version. To read from a literal string, wrap it in a 'StringIO' object.\n",
      "  predictions = pd.read_json(output, orient=\"index\")\n"
     ]
    },
    {
     "name": "stdout",
     "output_type": "stream",
     "text": [
      "              precision    recall  f1-score   support\n",
      "\n",
      "    negative       0.62      0.83      0.71        12\n",
      "     neutral       0.60      0.38      0.46         8\n",
      "    positive       0.67      0.57      0.62         7\n",
      "\n",
      "    accuracy                           0.63        27\n",
      "   macro avg       0.63      0.59      0.60        27\n",
      "weighted avg       0.63      0.63      0.61        27\n",
      "\n",
      "----------------------------------------------------------------------------------------------------\n",
      "\n",
      "\n",
      "\n",
      "Best combination of context sentences: {'n_negative_sentences': 2, 'n_neutral_sentences': 2, 'n_positive_sentences': 1, 'seed': 42}\n",
      "\n",
      "\n",
      "Best results: {'f1': 0.6923404394668761, 'precision': 0.7320261437908497, 'recall': 0.7037037037037037}\n"
     ]
    },
    {
     "name": "stderr",
     "output_type": "stream",
     "text": [
      "/var/folders/xm/m4dy5bvs1fn7fb9wxjhsg4dc0000gn/T/ipykernel_1786/3463305045.py:51: FutureWarning: Passing literal json to 'read_json' is deprecated and will be removed in a future version. To read from a literal string, wrap it in a 'StringIO' object.\n",
      "  predictions = pd.read_json(output, orient=\"index\")\n"
     ]
    },
    {
     "name": "stdout",
     "output_type": "stream",
     "text": [
      "              precision    recall  f1-score   support\n",
      "\n",
      "    negative       0.59      0.83      0.69        12\n",
      "     neutral       1.00      0.12      0.22         8\n",
      "    positive       0.56      0.71      0.63         7\n",
      "\n",
      "    accuracy                           0.59        27\n",
      "   macro avg       0.71      0.56      0.51        27\n",
      "weighted avg       0.70      0.59      0.53        27\n",
      "\n",
      "----------------------------------------------------------------------------------------------------\n",
      "\n",
      "\n",
      "\n",
      "Best combination of context sentences: {'n_negative_sentences': 2, 'n_neutral_sentences': 2, 'n_positive_sentences': 1, 'seed': 42}\n",
      "\n",
      "\n",
      "Best results: {'f1': 0.6923404394668761, 'precision': 0.7320261437908497, 'recall': 0.7037037037037037}\n"
     ]
    },
    {
     "name": "stderr",
     "output_type": "stream",
     "text": [
      "/var/folders/xm/m4dy5bvs1fn7fb9wxjhsg4dc0000gn/T/ipykernel_1786/3463305045.py:51: FutureWarning: Passing literal json to 'read_json' is deprecated and will be removed in a future version. To read from a literal string, wrap it in a 'StringIO' object.\n",
      "  predictions = pd.read_json(output, orient=\"index\")\n"
     ]
    },
    {
     "name": "stdout",
     "output_type": "stream",
     "text": [
      "              precision    recall  f1-score   support\n",
      "\n",
      "    negative       0.60      0.75      0.67        12\n",
      "     neutral       0.40      0.25      0.31         8\n",
      "    positive       0.57      0.57      0.57         7\n",
      "\n",
      "    accuracy                           0.56        27\n",
      "   macro avg       0.52      0.52      0.52        27\n",
      "weighted avg       0.53      0.56      0.54        27\n",
      "\n",
      "----------------------------------------------------------------------------------------------------\n",
      "\n",
      "\n",
      "\n",
      "Best combination of context sentences: {'n_negative_sentences': 2, 'n_neutral_sentences': 2, 'n_positive_sentences': 1, 'seed': 42}\n",
      "\n",
      "\n",
      "Best results: {'f1': 0.6923404394668761, 'precision': 0.7320261437908497, 'recall': 0.7037037037037037}\n"
     ]
    },
    {
     "name": "stderr",
     "output_type": "stream",
     "text": [
      "/var/folders/xm/m4dy5bvs1fn7fb9wxjhsg4dc0000gn/T/ipykernel_1786/3463305045.py:51: FutureWarning: Passing literal json to 'read_json' is deprecated and will be removed in a future version. To read from a literal string, wrap it in a 'StringIO' object.\n",
      "  predictions = pd.read_json(output, orient=\"index\")\n"
     ]
    },
    {
     "name": "stdout",
     "output_type": "stream",
     "text": [
      "              precision    recall  f1-score   support\n",
      "\n",
      "    negative       0.65      0.92      0.76        12\n",
      "     neutral       1.00      0.12      0.22         8\n",
      "    positive       0.56      0.71      0.63         7\n",
      "\n",
      "    accuracy                           0.63        27\n",
      "   macro avg       0.73      0.59      0.54        27\n",
      "weighted avg       0.73      0.63      0.57        27\n",
      "\n",
      "----------------------------------------------------------------------------------------------------\n",
      "\n",
      "\n",
      "\n",
      "Best combination of context sentences: {'n_negative_sentences': 2, 'n_neutral_sentences': 2, 'n_positive_sentences': 1, 'seed': 42}\n",
      "\n",
      "\n",
      "Best results: {'f1': 0.6923404394668761, 'precision': 0.7320261437908497, 'recall': 0.7037037037037037}\n"
     ]
    },
    {
     "name": "stderr",
     "output_type": "stream",
     "text": [
      "/var/folders/xm/m4dy5bvs1fn7fb9wxjhsg4dc0000gn/T/ipykernel_1786/3463305045.py:51: FutureWarning: Passing literal json to 'read_json' is deprecated and will be removed in a future version. To read from a literal string, wrap it in a 'StringIO' object.\n",
      "  predictions = pd.read_json(output, orient=\"index\")\n"
     ]
    },
    {
     "name": "stdout",
     "output_type": "stream",
     "text": [
      "              precision    recall  f1-score   support\n",
      "\n",
      "    negative       0.59      0.83      0.69        12\n",
      "     neutral       1.00      0.12      0.22         8\n",
      "    positive       0.56      0.71      0.63         7\n",
      "\n",
      "    accuracy                           0.59        27\n",
      "   macro avg       0.71      0.56      0.51        27\n",
      "weighted avg       0.70      0.59      0.53        27\n",
      "\n",
      "----------------------------------------------------------------------------------------------------\n",
      "\n",
      "\n",
      "\n",
      "Best combination of context sentences: {'n_negative_sentences': 2, 'n_neutral_sentences': 2, 'n_positive_sentences': 1, 'seed': 42}\n",
      "\n",
      "\n",
      "Best results: {'f1': 0.6923404394668761, 'precision': 0.7320261437908497, 'recall': 0.7037037037037037}\n"
     ]
    },
    {
     "name": "stderr",
     "output_type": "stream",
     "text": [
      "/var/folders/xm/m4dy5bvs1fn7fb9wxjhsg4dc0000gn/T/ipykernel_1786/3463305045.py:51: FutureWarning: Passing literal json to 'read_json' is deprecated and will be removed in a future version. To read from a literal string, wrap it in a 'StringIO' object.\n",
      "  predictions = pd.read_json(output, orient=\"index\")\n"
     ]
    },
    {
     "name": "stdout",
     "output_type": "stream",
     "text": [
      "              precision    recall  f1-score   support\n",
      "\n",
      "    negative       0.59      0.83      0.69        12\n",
      "     neutral       0.00      0.00      0.00         8\n",
      "    positive       0.56      0.71      0.63         7\n",
      "\n",
      "    accuracy                           0.56        27\n",
      "   macro avg       0.38      0.52      0.44        27\n",
      "weighted avg       0.41      0.56      0.47        27\n",
      "\n",
      "----------------------------------------------------------------------------------------------------\n",
      "\n",
      "\n",
      "\n",
      "Best combination of context sentences: {'n_negative_sentences': 2, 'n_neutral_sentences': 2, 'n_positive_sentences': 1, 'seed': 42}\n",
      "\n",
      "\n",
      "Best results: {'f1': 0.6923404394668761, 'precision': 0.7320261437908497, 'recall': 0.7037037037037037}\n"
     ]
    },
    {
     "name": "stderr",
     "output_type": "stream",
     "text": [
      "/var/folders/xm/m4dy5bvs1fn7fb9wxjhsg4dc0000gn/T/ipykernel_1786/3463305045.py:51: FutureWarning: Passing literal json to 'read_json' is deprecated and will be removed in a future version. To read from a literal string, wrap it in a 'StringIO' object.\n",
      "  predictions = pd.read_json(output, orient=\"index\")\n",
      "/Users/valena17/azure_gpt/azure_gpt_env/lib/python3.10/site-packages/sklearn/metrics/_classification.py:1471: UndefinedMetricWarning: Precision is ill-defined and being set to 0.0 in labels with no predicted samples. Use `zero_division` parameter to control this behavior.\n",
      "  _warn_prf(average, modifier, msg_start, len(result))\n",
      "/Users/valena17/azure_gpt/azure_gpt_env/lib/python3.10/site-packages/sklearn/metrics/_classification.py:1471: UndefinedMetricWarning: Precision and F-score are ill-defined and being set to 0.0 in labels with no predicted samples. Use `zero_division` parameter to control this behavior.\n",
      "  _warn_prf(average, modifier, msg_start, len(result))\n",
      "/Users/valena17/azure_gpt/azure_gpt_env/lib/python3.10/site-packages/sklearn/metrics/_classification.py:1471: UndefinedMetricWarning: Precision and F-score are ill-defined and being set to 0.0 in labels with no predicted samples. Use `zero_division` parameter to control this behavior.\n",
      "  _warn_prf(average, modifier, msg_start, len(result))\n",
      "/Users/valena17/azure_gpt/azure_gpt_env/lib/python3.10/site-packages/sklearn/metrics/_classification.py:1471: UndefinedMetricWarning: Precision and F-score are ill-defined and being set to 0.0 in labels with no predicted samples. Use `zero_division` parameter to control this behavior.\n",
      "  _warn_prf(average, modifier, msg_start, len(result))\n"
     ]
    },
    {
     "name": "stdout",
     "output_type": "stream",
     "text": [
      "              precision    recall  f1-score   support\n",
      "\n",
      "    negative       0.65      0.92      0.76        12\n",
      "     neutral       0.00      0.00      0.00         8\n",
      "    positive       0.50      0.71      0.59         7\n",
      "\n",
      "    accuracy                           0.59        27\n",
      "   macro avg       0.38      0.54      0.45        27\n",
      "weighted avg       0.42      0.59      0.49        27\n",
      "\n",
      "----------------------------------------------------------------------------------------------------\n",
      "\n",
      "\n",
      "\n",
      "Best combination of context sentences: {'n_negative_sentences': 2, 'n_neutral_sentences': 2, 'n_positive_sentences': 1, 'seed': 42}\n",
      "\n",
      "\n",
      "Best results: {'f1': 0.6923404394668761, 'precision': 0.7320261437908497, 'recall': 0.7037037037037037}\n"
     ]
    },
    {
     "name": "stderr",
     "output_type": "stream",
     "text": [
      "/var/folders/xm/m4dy5bvs1fn7fb9wxjhsg4dc0000gn/T/ipykernel_1786/3463305045.py:51: FutureWarning: Passing literal json to 'read_json' is deprecated and will be removed in a future version. To read from a literal string, wrap it in a 'StringIO' object.\n",
      "  predictions = pd.read_json(output, orient=\"index\")\n",
      "/Users/valena17/azure_gpt/azure_gpt_env/lib/python3.10/site-packages/sklearn/metrics/_classification.py:1471: UndefinedMetricWarning: Precision is ill-defined and being set to 0.0 in labels with no predicted samples. Use `zero_division` parameter to control this behavior.\n",
      "  _warn_prf(average, modifier, msg_start, len(result))\n",
      "/Users/valena17/azure_gpt/azure_gpt_env/lib/python3.10/site-packages/sklearn/metrics/_classification.py:1471: UndefinedMetricWarning: Precision and F-score are ill-defined and being set to 0.0 in labels with no predicted samples. Use `zero_division` parameter to control this behavior.\n",
      "  _warn_prf(average, modifier, msg_start, len(result))\n",
      "/Users/valena17/azure_gpt/azure_gpt_env/lib/python3.10/site-packages/sklearn/metrics/_classification.py:1471: UndefinedMetricWarning: Precision and F-score are ill-defined and being set to 0.0 in labels with no predicted samples. Use `zero_division` parameter to control this behavior.\n",
      "  _warn_prf(average, modifier, msg_start, len(result))\n",
      "/Users/valena17/azure_gpt/azure_gpt_env/lib/python3.10/site-packages/sklearn/metrics/_classification.py:1471: UndefinedMetricWarning: Precision and F-score are ill-defined and being set to 0.0 in labels with no predicted samples. Use `zero_division` parameter to control this behavior.\n",
      "  _warn_prf(average, modifier, msg_start, len(result))\n"
     ]
    },
    {
     "name": "stdout",
     "output_type": "stream",
     "text": [
      "              precision    recall  f1-score   support\n",
      "\n",
      "    negative       0.56      0.75      0.64        12\n",
      "     neutral       0.00      0.00      0.00         8\n",
      "    positive       0.45      0.71      0.56         7\n",
      "\n",
      "    accuracy                           0.52        27\n",
      "   macro avg       0.34      0.49      0.40        27\n",
      "weighted avg       0.37      0.52      0.43        27\n",
      "\n",
      "----------------------------------------------------------------------------------------------------\n",
      "\n",
      "\n",
      "\n",
      "Best combination of context sentences: {'n_negative_sentences': 2, 'n_neutral_sentences': 2, 'n_positive_sentences': 1, 'seed': 42}\n",
      "\n",
      "\n",
      "Best results: {'f1': 0.6923404394668761, 'precision': 0.7320261437908497, 'recall': 0.7037037037037037}\n"
     ]
    },
    {
     "name": "stderr",
     "output_type": "stream",
     "text": [
      "/var/folders/xm/m4dy5bvs1fn7fb9wxjhsg4dc0000gn/T/ipykernel_1786/3463305045.py:51: FutureWarning: Passing literal json to 'read_json' is deprecated and will be removed in a future version. To read from a literal string, wrap it in a 'StringIO' object.\n",
      "  predictions = pd.read_json(output, orient=\"index\")\n"
     ]
    },
    {
     "name": "stdout",
     "output_type": "stream",
     "text": [
      "              precision    recall  f1-score   support\n",
      "\n",
      "    negative       0.62      0.83      0.71        12\n",
      "     neutral       0.50      0.12      0.20         8\n",
      "    positive       0.56      0.71      0.63         7\n",
      "\n",
      "    accuracy                           0.59        27\n",
      "   macro avg       0.56      0.56      0.51        27\n",
      "weighted avg       0.57      0.59      0.54        27\n",
      "\n",
      "----------------------------------------------------------------------------------------------------\n",
      "\n",
      "\n",
      "\n",
      "Best combination of context sentences: {'n_negative_sentences': 2, 'n_neutral_sentences': 2, 'n_positive_sentences': 1, 'seed': 42}\n",
      "\n",
      "\n",
      "Best results: {'f1': 0.6923404394668761, 'precision': 0.7320261437908497, 'recall': 0.7037037037037037}\n"
     ]
    },
    {
     "name": "stderr",
     "output_type": "stream",
     "text": [
      "/var/folders/xm/m4dy5bvs1fn7fb9wxjhsg4dc0000gn/T/ipykernel_1786/3463305045.py:51: FutureWarning: Passing literal json to 'read_json' is deprecated and will be removed in a future version. To read from a literal string, wrap it in a 'StringIO' object.\n",
      "  predictions = pd.read_json(output, orient=\"index\")\n",
      "/Users/valena17/azure_gpt/azure_gpt_env/lib/python3.10/site-packages/sklearn/metrics/_classification.py:1471: UndefinedMetricWarning: Precision is ill-defined and being set to 0.0 in labels with no predicted samples. Use `zero_division` parameter to control this behavior.\n",
      "  _warn_prf(average, modifier, msg_start, len(result))\n",
      "/Users/valena17/azure_gpt/azure_gpt_env/lib/python3.10/site-packages/sklearn/metrics/_classification.py:1471: UndefinedMetricWarning: Precision and F-score are ill-defined and being set to 0.0 in labels with no predicted samples. Use `zero_division` parameter to control this behavior.\n",
      "  _warn_prf(average, modifier, msg_start, len(result))\n",
      "/Users/valena17/azure_gpt/azure_gpt_env/lib/python3.10/site-packages/sklearn/metrics/_classification.py:1471: UndefinedMetricWarning: Precision and F-score are ill-defined and being set to 0.0 in labels with no predicted samples. Use `zero_division` parameter to control this behavior.\n",
      "  _warn_prf(average, modifier, msg_start, len(result))\n",
      "/Users/valena17/azure_gpt/azure_gpt_env/lib/python3.10/site-packages/sklearn/metrics/_classification.py:1471: UndefinedMetricWarning: Precision and F-score are ill-defined and being set to 0.0 in labels with no predicted samples. Use `zero_division` parameter to control this behavior.\n",
      "  _warn_prf(average, modifier, msg_start, len(result))\n"
     ]
    },
    {
     "name": "stdout",
     "output_type": "stream",
     "text": [
      "              precision    recall  f1-score   support\n",
      "\n",
      "    negative       0.61      0.92      0.73        12\n",
      "     neutral       0.00      0.00      0.00         8\n",
      "    positive       0.56      0.71      0.63         7\n",
      "\n",
      "    accuracy                           0.59        27\n",
      "   macro avg       0.39      0.54      0.45        27\n",
      "weighted avg       0.42      0.59      0.49        27\n",
      "\n",
      "----------------------------------------------------------------------------------------------------\n",
      "\n",
      "\n",
      "\n",
      "Best combination of context sentences: {'n_negative_sentences': 2, 'n_neutral_sentences': 2, 'n_positive_sentences': 1, 'seed': 42}\n",
      "\n",
      "\n",
      "Best results: {'f1': 0.6923404394668761, 'precision': 0.7320261437908497, 'recall': 0.7037037037037037}\n"
     ]
    },
    {
     "name": "stderr",
     "output_type": "stream",
     "text": [
      "/var/folders/xm/m4dy5bvs1fn7fb9wxjhsg4dc0000gn/T/ipykernel_1786/3463305045.py:51: FutureWarning: Passing literal json to 'read_json' is deprecated and will be removed in a future version. To read from a literal string, wrap it in a 'StringIO' object.\n",
      "  predictions = pd.read_json(output, orient=\"index\")\n"
     ]
    },
    {
     "name": "stdout",
     "output_type": "stream",
     "text": [
      "              precision    recall  f1-score   support\n",
      "\n",
      "    negative       0.56      0.75      0.64        12\n",
      "     neutral       1.00      0.12      0.22         8\n",
      "    positive       0.50      0.71      0.59         7\n",
      "\n",
      "    accuracy                           0.56        27\n",
      "   macro avg       0.69      0.53      0.48        27\n",
      "weighted avg       0.68      0.56      0.50        27\n",
      "\n",
      "----------------------------------------------------------------------------------------------------\n",
      "\n",
      "\n",
      "\n",
      "Best combination of context sentences: {'n_negative_sentences': 2, 'n_neutral_sentences': 2, 'n_positive_sentences': 1, 'seed': 42}\n",
      "\n",
      "\n",
      "Best results: {'f1': 0.6923404394668761, 'precision': 0.7320261437908497, 'recall': 0.7037037037037037}\n"
     ]
    },
    {
     "name": "stderr",
     "output_type": "stream",
     "text": [
      "/var/folders/xm/m4dy5bvs1fn7fb9wxjhsg4dc0000gn/T/ipykernel_1786/3463305045.py:51: FutureWarning: Passing literal json to 'read_json' is deprecated and will be removed in a future version. To read from a literal string, wrap it in a 'StringIO' object.\n",
      "  predictions = pd.read_json(output, orient=\"index\")\n"
     ]
    },
    {
     "name": "stdout",
     "output_type": "stream",
     "text": [
      "              precision    recall  f1-score   support\n",
      "\n",
      "    negative       0.59      0.83      0.69        12\n",
      "     neutral       0.00      0.00      0.00         8\n",
      "    positive       0.56      0.71      0.63         7\n",
      "\n",
      "    accuracy                           0.56        27\n",
      "   macro avg       0.38      0.52      0.44        27\n",
      "weighted avg       0.41      0.56      0.47        27\n",
      "\n",
      "----------------------------------------------------------------------------------------------------\n",
      "\n",
      "\n",
      "\n",
      "Best combination of context sentences: {'n_negative_sentences': 2, 'n_neutral_sentences': 2, 'n_positive_sentences': 1, 'seed': 42}\n",
      "\n",
      "\n",
      "Best results: {'f1': 0.6923404394668761, 'precision': 0.7320261437908497, 'recall': 0.7037037037037037}\n"
     ]
    },
    {
     "name": "stderr",
     "output_type": "stream",
     "text": [
      "/var/folders/xm/m4dy5bvs1fn7fb9wxjhsg4dc0000gn/T/ipykernel_1786/3463305045.py:51: FutureWarning: Passing literal json to 'read_json' is deprecated and will be removed in a future version. To read from a literal string, wrap it in a 'StringIO' object.\n",
      "  predictions = pd.read_json(output, orient=\"index\")\n"
     ]
    },
    {
     "name": "stdout",
     "output_type": "stream",
     "text": [
      "              precision    recall  f1-score   support\n",
      "\n",
      "    negative       0.61      0.92      0.73        12\n",
      "     neutral       1.00      0.12      0.22         8\n",
      "    positive       0.62      0.71      0.67         7\n",
      "\n",
      "    accuracy                           0.63        27\n",
      "   macro avg       0.75      0.59      0.54        27\n",
      "weighted avg       0.73      0.63      0.56        27\n",
      "\n",
      "----------------------------------------------------------------------------------------------------\n",
      "\n",
      "\n",
      "\n",
      "Best combination of context sentences: {'n_negative_sentences': 2, 'n_neutral_sentences': 2, 'n_positive_sentences': 1, 'seed': 42}\n",
      "\n",
      "\n",
      "Best results: {'f1': 0.6923404394668761, 'precision': 0.7320261437908497, 'recall': 0.7037037037037037}\n"
     ]
    },
    {
     "name": "stderr",
     "output_type": "stream",
     "text": [
      "/var/folders/xm/m4dy5bvs1fn7fb9wxjhsg4dc0000gn/T/ipykernel_1786/3463305045.py:51: FutureWarning: Passing literal json to 'read_json' is deprecated and will be removed in a future version. To read from a literal string, wrap it in a 'StringIO' object.\n",
      "  predictions = pd.read_json(output, orient=\"index\")\n",
      "/Users/valena17/azure_gpt/azure_gpt_env/lib/python3.10/site-packages/sklearn/metrics/_classification.py:1471: UndefinedMetricWarning: Precision is ill-defined and being set to 0.0 in labels with no predicted samples. Use `zero_division` parameter to control this behavior.\n",
      "  _warn_prf(average, modifier, msg_start, len(result))\n",
      "/Users/valena17/azure_gpt/azure_gpt_env/lib/python3.10/site-packages/sklearn/metrics/_classification.py:1471: UndefinedMetricWarning: Precision and F-score are ill-defined and being set to 0.0 in labels with no predicted samples. Use `zero_division` parameter to control this behavior.\n",
      "  _warn_prf(average, modifier, msg_start, len(result))\n",
      "/Users/valena17/azure_gpt/azure_gpt_env/lib/python3.10/site-packages/sklearn/metrics/_classification.py:1471: UndefinedMetricWarning: Precision and F-score are ill-defined and being set to 0.0 in labels with no predicted samples. Use `zero_division` parameter to control this behavior.\n",
      "  _warn_prf(average, modifier, msg_start, len(result))\n",
      "/Users/valena17/azure_gpt/azure_gpt_env/lib/python3.10/site-packages/sklearn/metrics/_classification.py:1471: UndefinedMetricWarning: Precision and F-score are ill-defined and being set to 0.0 in labels with no predicted samples. Use `zero_division` parameter to control this behavior.\n",
      "  _warn_prf(average, modifier, msg_start, len(result))\n"
     ]
    },
    {
     "name": "stdout",
     "output_type": "stream",
     "text": [
      "              precision    recall  f1-score   support\n",
      "\n",
      "    negative       0.56      0.75      0.64        12\n",
      "     neutral       0.00      0.00      0.00         8\n",
      "    positive       0.45      0.71      0.56         7\n",
      "\n",
      "    accuracy                           0.52        27\n",
      "   macro avg       0.34      0.49      0.40        27\n",
      "weighted avg       0.37      0.52      0.43        27\n",
      "\n",
      "----------------------------------------------------------------------------------------------------\n",
      "\n",
      "\n",
      "\n",
      "Best combination of context sentences: {'n_negative_sentences': 2, 'n_neutral_sentences': 2, 'n_positive_sentences': 1, 'seed': 42}\n",
      "\n",
      "\n",
      "Best results: {'f1': 0.6923404394668761, 'precision': 0.7320261437908497, 'recall': 0.7037037037037037}\n"
     ]
    },
    {
     "name": "stderr",
     "output_type": "stream",
     "text": [
      "/var/folders/xm/m4dy5bvs1fn7fb9wxjhsg4dc0000gn/T/ipykernel_1786/3463305045.py:51: FutureWarning: Passing literal json to 'read_json' is deprecated and will be removed in a future version. To read from a literal string, wrap it in a 'StringIO' object.\n",
      "  predictions = pd.read_json(output, orient=\"index\")\n",
      "/Users/valena17/azure_gpt/azure_gpt_env/lib/python3.10/site-packages/sklearn/metrics/_classification.py:1471: UndefinedMetricWarning: Precision is ill-defined and being set to 0.0 in labels with no predicted samples. Use `zero_division` parameter to control this behavior.\n",
      "  _warn_prf(average, modifier, msg_start, len(result))\n",
      "/Users/valena17/azure_gpt/azure_gpt_env/lib/python3.10/site-packages/sklearn/metrics/_classification.py:1471: UndefinedMetricWarning: Precision and F-score are ill-defined and being set to 0.0 in labels with no predicted samples. Use `zero_division` parameter to control this behavior.\n",
      "  _warn_prf(average, modifier, msg_start, len(result))\n",
      "/Users/valena17/azure_gpt/azure_gpt_env/lib/python3.10/site-packages/sklearn/metrics/_classification.py:1471: UndefinedMetricWarning: Precision and F-score are ill-defined and being set to 0.0 in labels with no predicted samples. Use `zero_division` parameter to control this behavior.\n",
      "  _warn_prf(average, modifier, msg_start, len(result))\n",
      "/Users/valena17/azure_gpt/azure_gpt_env/lib/python3.10/site-packages/sklearn/metrics/_classification.py:1471: UndefinedMetricWarning: Precision and F-score are ill-defined and being set to 0.0 in labels with no predicted samples. Use `zero_division` parameter to control this behavior.\n",
      "  _warn_prf(average, modifier, msg_start, len(result))\n"
     ]
    },
    {
     "name": "stdout",
     "output_type": "stream",
     "text": [
      "              precision    recall  f1-score   support\n",
      "\n",
      "    negative       0.59      0.83      0.69        12\n",
      "     neutral       0.00      0.00      0.00         8\n",
      "    positive       0.60      0.86      0.71         7\n",
      "\n",
      "    accuracy                           0.59        27\n",
      "   macro avg       0.40      0.56      0.47        27\n",
      "weighted avg       0.42      0.59      0.49        27\n",
      "\n",
      "----------------------------------------------------------------------------------------------------\n",
      "\n",
      "\n",
      "\n",
      "Best combination of context sentences: {'n_negative_sentences': 2, 'n_neutral_sentences': 2, 'n_positive_sentences': 1, 'seed': 42}\n",
      "\n",
      "\n",
      "Best results: {'f1': 0.6923404394668761, 'precision': 0.7320261437908497, 'recall': 0.7037037037037037}\n"
     ]
    },
    {
     "name": "stderr",
     "output_type": "stream",
     "text": [
      "/var/folders/xm/m4dy5bvs1fn7fb9wxjhsg4dc0000gn/T/ipykernel_1786/3463305045.py:51: FutureWarning: Passing literal json to 'read_json' is deprecated and will be removed in a future version. To read from a literal string, wrap it in a 'StringIO' object.\n",
      "  predictions = pd.read_json(output, orient=\"index\")\n",
      "/Users/valena17/azure_gpt/azure_gpt_env/lib/python3.10/site-packages/sklearn/metrics/_classification.py:1471: UndefinedMetricWarning: Precision is ill-defined and being set to 0.0 in labels with no predicted samples. Use `zero_division` parameter to control this behavior.\n",
      "  _warn_prf(average, modifier, msg_start, len(result))\n",
      "/Users/valena17/azure_gpt/azure_gpt_env/lib/python3.10/site-packages/sklearn/metrics/_classification.py:1471: UndefinedMetricWarning: Precision and F-score are ill-defined and being set to 0.0 in labels with no predicted samples. Use `zero_division` parameter to control this behavior.\n",
      "  _warn_prf(average, modifier, msg_start, len(result))\n",
      "/Users/valena17/azure_gpt/azure_gpt_env/lib/python3.10/site-packages/sklearn/metrics/_classification.py:1471: UndefinedMetricWarning: Precision and F-score are ill-defined and being set to 0.0 in labels with no predicted samples. Use `zero_division` parameter to control this behavior.\n",
      "  _warn_prf(average, modifier, msg_start, len(result))\n",
      "/Users/valena17/azure_gpt/azure_gpt_env/lib/python3.10/site-packages/sklearn/metrics/_classification.py:1471: UndefinedMetricWarning: Precision and F-score are ill-defined and being set to 0.0 in labels with no predicted samples. Use `zero_division` parameter to control this behavior.\n",
      "  _warn_prf(average, modifier, msg_start, len(result))\n"
     ]
    },
    {
     "name": "stdout",
     "output_type": "stream",
     "text": [
      "              precision    recall  f1-score   support\n",
      "\n",
      "    negative       0.65      0.92      0.76        12\n",
      "     neutral       0.00      0.00      0.00         8\n",
      "    positive       0.50      0.71      0.59         7\n",
      "\n",
      "    accuracy                           0.59        27\n",
      "   macro avg       0.38      0.54      0.45        27\n",
      "weighted avg       0.42      0.59      0.49        27\n",
      "\n",
      "----------------------------------------------------------------------------------------------------\n",
      "\n",
      "\n",
      "\n",
      "Best combination of context sentences: {'n_negative_sentences': 2, 'n_neutral_sentences': 2, 'n_positive_sentences': 1, 'seed': 42}\n",
      "\n",
      "\n",
      "Best results: {'f1': 0.6923404394668761, 'precision': 0.7320261437908497, 'recall': 0.7037037037037037}\n"
     ]
    },
    {
     "name": "stderr",
     "output_type": "stream",
     "text": [
      "/var/folders/xm/m4dy5bvs1fn7fb9wxjhsg4dc0000gn/T/ipykernel_1786/3463305045.py:51: FutureWarning: Passing literal json to 'read_json' is deprecated and will be removed in a future version. To read from a literal string, wrap it in a 'StringIO' object.\n",
      "  predictions = pd.read_json(output, orient=\"index\")\n"
     ]
    },
    {
     "name": "stdout",
     "output_type": "stream",
     "text": [
      "              precision    recall  f1-score   support\n",
      "\n",
      "    negative       0.56      0.75      0.64        12\n",
      "     neutral       1.00      0.12      0.22         8\n",
      "    positive       0.50      0.71      0.59         7\n",
      "\n",
      "    accuracy                           0.56        27\n",
      "   macro avg       0.69      0.53      0.48        27\n",
      "weighted avg       0.68      0.56      0.50        27\n",
      "\n",
      "----------------------------------------------------------------------------------------------------\n",
      "\n",
      "\n",
      "\n",
      "Best combination of context sentences: {'n_negative_sentences': 2, 'n_neutral_sentences': 2, 'n_positive_sentences': 1, 'seed': 42}\n",
      "\n",
      "\n",
      "Best results: {'f1': 0.6923404394668761, 'precision': 0.7320261437908497, 'recall': 0.7037037037037037}\n"
     ]
    },
    {
     "name": "stderr",
     "output_type": "stream",
     "text": [
      "/var/folders/xm/m4dy5bvs1fn7fb9wxjhsg4dc0000gn/T/ipykernel_1786/3463305045.py:51: FutureWarning: Passing literal json to 'read_json' is deprecated and will be removed in a future version. To read from a literal string, wrap it in a 'StringIO' object.\n",
      "  predictions = pd.read_json(output, orient=\"index\")\n"
     ]
    },
    {
     "name": "stdout",
     "output_type": "stream",
     "text": [
      "              precision    recall  f1-score   support\n",
      "\n",
      "    negative       0.62      0.83      0.71        12\n",
      "     neutral       0.00      0.00      0.00         8\n",
      "    positive       0.56      0.71      0.63         7\n",
      "\n",
      "    accuracy                           0.56        27\n",
      "   macro avg       0.39      0.52      0.45        27\n",
      "weighted avg       0.42      0.56      0.48        27\n",
      "\n",
      "----------------------------------------------------------------------------------------------------\n",
      "\n",
      "\n",
      "\n",
      "Best combination of context sentences: {'n_negative_sentences': 2, 'n_neutral_sentences': 2, 'n_positive_sentences': 1, 'seed': 42}\n",
      "\n",
      "\n",
      "Best results: {'f1': 0.6923404394668761, 'precision': 0.7320261437908497, 'recall': 0.7037037037037037}\n"
     ]
    },
    {
     "name": "stderr",
     "output_type": "stream",
     "text": [
      "/var/folders/xm/m4dy5bvs1fn7fb9wxjhsg4dc0000gn/T/ipykernel_1786/3463305045.py:51: FutureWarning: Passing literal json to 'read_json' is deprecated and will be removed in a future version. To read from a literal string, wrap it in a 'StringIO' object.\n",
      "  predictions = pd.read_json(output, orient=\"index\")\n"
     ]
    },
    {
     "name": "stdout",
     "output_type": "stream",
     "text": [
      "              precision    recall  f1-score   support\n",
      "\n",
      "    negative       0.62      0.83      0.71        12\n",
      "     neutral       0.60      0.38      0.46         8\n",
      "    positive       0.67      0.57      0.62         7\n",
      "\n",
      "    accuracy                           0.63        27\n",
      "   macro avg       0.63      0.59      0.60        27\n",
      "weighted avg       0.63      0.63      0.61        27\n",
      "\n",
      "----------------------------------------------------------------------------------------------------\n",
      "\n",
      "\n",
      "\n",
      "Best combination of context sentences: {'n_negative_sentences': 2, 'n_neutral_sentences': 2, 'n_positive_sentences': 1, 'seed': 42}\n",
      "\n",
      "\n",
      "Best results: {'f1': 0.6923404394668761, 'precision': 0.7320261437908497, 'recall': 0.7037037037037037}\n"
     ]
    },
    {
     "name": "stderr",
     "output_type": "stream",
     "text": [
      "/var/folders/xm/m4dy5bvs1fn7fb9wxjhsg4dc0000gn/T/ipykernel_1786/3463305045.py:51: FutureWarning: Passing literal json to 'read_json' is deprecated and will be removed in a future version. To read from a literal string, wrap it in a 'StringIO' object.\n",
      "  predictions = pd.read_json(output, orient=\"index\")\n"
     ]
    },
    {
     "name": "stdout",
     "output_type": "stream",
     "text": [
      "              precision    recall  f1-score   support\n",
      "\n",
      "    negative       0.56      0.75      0.64        12\n",
      "     neutral       0.50      0.12      0.20         8\n",
      "    positive       0.56      0.71      0.63         7\n",
      "\n",
      "    accuracy                           0.56        27\n",
      "   macro avg       0.54      0.53      0.49        27\n",
      "weighted avg       0.54      0.56      0.51        27\n",
      "\n",
      "----------------------------------------------------------------------------------------------------\n",
      "\n",
      "\n",
      "\n",
      "Best combination of context sentences: {'n_negative_sentences': 2, 'n_neutral_sentences': 2, 'n_positive_sentences': 1, 'seed': 42}\n",
      "\n",
      "\n",
      "Best results: {'f1': 0.6923404394668761, 'precision': 0.7320261437908497, 'recall': 0.7037037037037037}\n"
     ]
    },
    {
     "name": "stderr",
     "output_type": "stream",
     "text": [
      "/var/folders/xm/m4dy5bvs1fn7fb9wxjhsg4dc0000gn/T/ipykernel_1786/3463305045.py:51: FutureWarning: Passing literal json to 'read_json' is deprecated and will be removed in a future version. To read from a literal string, wrap it in a 'StringIO' object.\n",
      "  predictions = pd.read_json(output, orient=\"index\")\n"
     ]
    },
    {
     "name": "stdout",
     "output_type": "stream",
     "text": [
      "              precision    recall  f1-score   support\n",
      "\n",
      "    negative       0.56      0.83      0.67        12\n",
      "     neutral       0.00      0.00      0.00         8\n",
      "    positive       0.62      0.71      0.67         7\n",
      "\n",
      "    accuracy                           0.56        27\n",
      "   macro avg       0.39      0.52      0.44        27\n",
      "weighted avg       0.41      0.56      0.47        27\n",
      "\n",
      "----------------------------------------------------------------------------------------------------\n",
      "\n",
      "\n",
      "\n",
      "Best combination of context sentences: {'n_negative_sentences': 2, 'n_neutral_sentences': 2, 'n_positive_sentences': 1, 'seed': 42}\n",
      "\n",
      "\n",
      "Best results: {'f1': 0.6923404394668761, 'precision': 0.7320261437908497, 'recall': 0.7037037037037037}\n"
     ]
    },
    {
     "name": "stderr",
     "output_type": "stream",
     "text": [
      "/var/folders/xm/m4dy5bvs1fn7fb9wxjhsg4dc0000gn/T/ipykernel_1786/3463305045.py:51: FutureWarning: Passing literal json to 'read_json' is deprecated and will be removed in a future version. To read from a literal string, wrap it in a 'StringIO' object.\n",
      "  predictions = pd.read_json(output, orient=\"index\")\n"
     ]
    },
    {
     "name": "stdout",
     "output_type": "stream",
     "text": [
      "              precision    recall  f1-score   support\n",
      "\n",
      "    negative       0.65      0.92      0.76        12\n",
      "     neutral       0.67      0.25      0.36         8\n",
      "    positive       0.57      0.57      0.57         7\n",
      "\n",
      "    accuracy                           0.63        27\n",
      "   macro avg       0.63      0.58      0.56        27\n",
      "weighted avg       0.63      0.63      0.59        27\n",
      "\n",
      "----------------------------------------------------------------------------------------------------\n",
      "\n",
      "\n",
      "\n",
      "Best combination of context sentences: {'n_negative_sentences': 2, 'n_neutral_sentences': 2, 'n_positive_sentences': 1, 'seed': 42}\n",
      "\n",
      "\n",
      "Best results: {'f1': 0.6923404394668761, 'precision': 0.7320261437908497, 'recall': 0.7037037037037037}\n"
     ]
    },
    {
     "name": "stderr",
     "output_type": "stream",
     "text": [
      "/var/folders/xm/m4dy5bvs1fn7fb9wxjhsg4dc0000gn/T/ipykernel_1786/3463305045.py:51: FutureWarning: Passing literal json to 'read_json' is deprecated and will be removed in a future version. To read from a literal string, wrap it in a 'StringIO' object.\n",
      "  predictions = pd.read_json(output, orient=\"index\")\n"
     ]
    },
    {
     "name": "stdout",
     "output_type": "stream",
     "text": [
      "              precision    recall  f1-score   support\n",
      "\n",
      "    negative       0.56      0.75      0.64        12\n",
      "     neutral       0.50      0.12      0.20         8\n",
      "    positive       0.56      0.71      0.63         7\n",
      "\n",
      "    accuracy                           0.56        27\n",
      "   macro avg       0.54      0.53      0.49        27\n",
      "weighted avg       0.54      0.56      0.51        27\n",
      "\n",
      "----------------------------------------------------------------------------------------------------\n",
      "\n",
      "\n",
      "\n",
      "Best combination of context sentences: {'n_negative_sentences': 2, 'n_neutral_sentences': 2, 'n_positive_sentences': 1, 'seed': 42}\n",
      "\n",
      "\n",
      "Best results: {'f1': 0.6923404394668761, 'precision': 0.7320261437908497, 'recall': 0.7037037037037037}\n"
     ]
    },
    {
     "name": "stderr",
     "output_type": "stream",
     "text": [
      "/var/folders/xm/m4dy5bvs1fn7fb9wxjhsg4dc0000gn/T/ipykernel_1786/3463305045.py:51: FutureWarning: Passing literal json to 'read_json' is deprecated and will be removed in a future version. To read from a literal string, wrap it in a 'StringIO' object.\n",
      "  predictions = pd.read_json(output, orient=\"index\")\n"
     ]
    },
    {
     "name": "stdout",
     "output_type": "stream",
     "text": [
      "              precision    recall  f1-score   support\n",
      "\n",
      "    negative       0.60      0.75      0.67        12\n",
      "     neutral       0.50      0.25      0.33         8\n",
      "    positive       0.62      0.71      0.67         7\n",
      "\n",
      "    accuracy                           0.59        27\n",
      "   macro avg       0.58      0.57      0.56        27\n",
      "weighted avg       0.58      0.59      0.57        27\n",
      "\n",
      "----------------------------------------------------------------------------------------------------\n",
      "\n",
      "\n",
      "\n",
      "Best combination of context sentences: {'n_negative_sentences': 2, 'n_neutral_sentences': 2, 'n_positive_sentences': 1, 'seed': 42}\n",
      "\n",
      "\n",
      "Best results: {'f1': 0.6923404394668761, 'precision': 0.7320261437908497, 'recall': 0.7037037037037037}\n"
     ]
    },
    {
     "name": "stderr",
     "output_type": "stream",
     "text": [
      "/var/folders/xm/m4dy5bvs1fn7fb9wxjhsg4dc0000gn/T/ipykernel_1786/3463305045.py:51: FutureWarning: Passing literal json to 'read_json' is deprecated and will be removed in a future version. To read from a literal string, wrap it in a 'StringIO' object.\n",
      "  predictions = pd.read_json(output, orient=\"index\")\n"
     ]
    },
    {
     "name": "stdout",
     "output_type": "stream",
     "text": [
      "              precision    recall  f1-score   support\n",
      "\n",
      "    negative       0.62      0.83      0.71        12\n",
      "     neutral       0.60      0.38      0.46         8\n",
      "    positive       0.67      0.57      0.62         7\n",
      "\n",
      "    accuracy                           0.63        27\n",
      "   macro avg       0.63      0.59      0.60        27\n",
      "weighted avg       0.63      0.63      0.61        27\n",
      "\n",
      "----------------------------------------------------------------------------------------------------\n",
      "\n",
      "\n",
      "\n",
      "Best combination of context sentences: {'n_negative_sentences': 2, 'n_neutral_sentences': 2, 'n_positive_sentences': 1, 'seed': 42}\n",
      "\n",
      "\n",
      "Best results: {'f1': 0.6923404394668761, 'precision': 0.7320261437908497, 'recall': 0.7037037037037037}\n"
     ]
    },
    {
     "name": "stderr",
     "output_type": "stream",
     "text": [
      "/var/folders/xm/m4dy5bvs1fn7fb9wxjhsg4dc0000gn/T/ipykernel_1786/3463305045.py:51: FutureWarning: Passing literal json to 'read_json' is deprecated and will be removed in a future version. To read from a literal string, wrap it in a 'StringIO' object.\n",
      "  predictions = pd.read_json(output, orient=\"index\")\n"
     ]
    },
    {
     "name": "stdout",
     "output_type": "stream",
     "text": [
      "              precision    recall  f1-score   support\n",
      "\n",
      "    negative       0.56      0.75      0.64        12\n",
      "     neutral       0.50      0.12      0.20         8\n",
      "    positive       0.56      0.71      0.63         7\n",
      "\n",
      "    accuracy                           0.56        27\n",
      "   macro avg       0.54      0.53      0.49        27\n",
      "weighted avg       0.54      0.56      0.51        27\n",
      "\n",
      "----------------------------------------------------------------------------------------------------\n",
      "\n",
      "\n",
      "\n",
      "Best combination of context sentences: {'n_negative_sentences': 2, 'n_neutral_sentences': 2, 'n_positive_sentences': 1, 'seed': 42}\n",
      "\n",
      "\n",
      "Best results: {'f1': 0.6923404394668761, 'precision': 0.7320261437908497, 'recall': 0.7037037037037037}\n"
     ]
    },
    {
     "name": "stderr",
     "output_type": "stream",
     "text": [
      "/var/folders/xm/m4dy5bvs1fn7fb9wxjhsg4dc0000gn/T/ipykernel_1786/3463305045.py:51: FutureWarning: Passing literal json to 'read_json' is deprecated and will be removed in a future version. To read from a literal string, wrap it in a 'StringIO' object.\n",
      "  predictions = pd.read_json(output, orient=\"index\")\n"
     ]
    },
    {
     "name": "stdout",
     "output_type": "stream",
     "text": [
      "              precision    recall  f1-score   support\n",
      "\n",
      "    negative       0.60      0.75      0.67        12\n",
      "     neutral       0.00      0.00      0.00         8\n",
      "    positive       0.50      0.71      0.59         7\n",
      "\n",
      "    accuracy                           0.52        27\n",
      "   macro avg       0.37      0.49      0.42        27\n",
      "weighted avg       0.40      0.52      0.45        27\n",
      "\n",
      "----------------------------------------------------------------------------------------------------\n",
      "\n",
      "\n",
      "\n",
      "Best combination of context sentences: {'n_negative_sentences': 2, 'n_neutral_sentences': 2, 'n_positive_sentences': 1, 'seed': 42}\n",
      "\n",
      "\n",
      "Best results: {'f1': 0.6923404394668761, 'precision': 0.7320261437908497, 'recall': 0.7037037037037037}\n"
     ]
    },
    {
     "name": "stderr",
     "output_type": "stream",
     "text": [
      "/var/folders/xm/m4dy5bvs1fn7fb9wxjhsg4dc0000gn/T/ipykernel_1786/3463305045.py:51: FutureWarning: Passing literal json to 'read_json' is deprecated and will be removed in a future version. To read from a literal string, wrap it in a 'StringIO' object.\n",
      "  predictions = pd.read_json(output, orient=\"index\")\n"
     ]
    },
    {
     "name": "stdout",
     "output_type": "stream",
     "text": [
      "              precision    recall  f1-score   support\n",
      "\n",
      "    negative       0.65      0.92      0.76        12\n",
      "     neutral       0.67      0.25      0.36         8\n",
      "    positive       0.57      0.57      0.57         7\n",
      "\n",
      "    accuracy                           0.63        27\n",
      "   macro avg       0.63      0.58      0.56        27\n",
      "weighted avg       0.63      0.63      0.59        27\n",
      "\n",
      "----------------------------------------------------------------------------------------------------\n",
      "\n",
      "\n",
      "\n",
      "Best combination of context sentences: {'n_negative_sentences': 2, 'n_neutral_sentences': 2, 'n_positive_sentences': 1, 'seed': 42}\n",
      "\n",
      "\n",
      "Best results: {'f1': 0.6923404394668761, 'precision': 0.7320261437908497, 'recall': 0.7037037037037037}\n"
     ]
    },
    {
     "name": "stderr",
     "output_type": "stream",
     "text": [
      "/var/folders/xm/m4dy5bvs1fn7fb9wxjhsg4dc0000gn/T/ipykernel_1786/3463305045.py:51: FutureWarning: Passing literal json to 'read_json' is deprecated and will be removed in a future version. To read from a literal string, wrap it in a 'StringIO' object.\n",
      "  predictions = pd.read_json(output, orient=\"index\")\n"
     ]
    },
    {
     "name": "stdout",
     "output_type": "stream",
     "text": [
      "              precision    recall  f1-score   support\n",
      "\n",
      "    negative       0.59      0.83      0.69        12\n",
      "     neutral       1.00      0.12      0.22         8\n",
      "    positive       0.56      0.71      0.63         7\n",
      "\n",
      "    accuracy                           0.59        27\n",
      "   macro avg       0.71      0.56      0.51        27\n",
      "weighted avg       0.70      0.59      0.53        27\n",
      "\n",
      "----------------------------------------------------------------------------------------------------\n",
      "\n",
      "\n",
      "\n",
      "Best combination of context sentences: {'n_negative_sentences': 2, 'n_neutral_sentences': 2, 'n_positive_sentences': 1, 'seed': 42}\n",
      "\n",
      "\n",
      "Best results: {'f1': 0.6923404394668761, 'precision': 0.7320261437908497, 'recall': 0.7037037037037037}\n"
     ]
    },
    {
     "name": "stderr",
     "output_type": "stream",
     "text": [
      "/var/folders/xm/m4dy5bvs1fn7fb9wxjhsg4dc0000gn/T/ipykernel_1786/3463305045.py:51: FutureWarning: Passing literal json to 'read_json' is deprecated and will be removed in a future version. To read from a literal string, wrap it in a 'StringIO' object.\n",
      "  predictions = pd.read_json(output, orient=\"index\")\n"
     ]
    },
    {
     "name": "stdout",
     "output_type": "stream",
     "text": [
      "              precision    recall  f1-score   support\n",
      "\n",
      "    negative       0.56      0.83      0.67        12\n",
      "     neutral       0.00      0.00      0.00         8\n",
      "    positive       0.62      0.71      0.67         7\n",
      "\n",
      "    accuracy                           0.56        27\n",
      "   macro avg       0.39      0.52      0.44        27\n",
      "weighted avg       0.41      0.56      0.47        27\n",
      "\n",
      "----------------------------------------------------------------------------------------------------\n",
      "\n",
      "\n",
      "\n",
      "Best combination of context sentences: {'n_negative_sentences': 2, 'n_neutral_sentences': 2, 'n_positive_sentences': 1, 'seed': 42}\n",
      "\n",
      "\n",
      "Best results: {'f1': 0.6923404394668761, 'precision': 0.7320261437908497, 'recall': 0.7037037037037037}\n"
     ]
    },
    {
     "name": "stderr",
     "output_type": "stream",
     "text": [
      "/var/folders/xm/m4dy5bvs1fn7fb9wxjhsg4dc0000gn/T/ipykernel_1786/3463305045.py:51: FutureWarning: Passing literal json to 'read_json' is deprecated and will be removed in a future version. To read from a literal string, wrap it in a 'StringIO' object.\n",
      "  predictions = pd.read_json(output, orient=\"index\")\n",
      "/Users/valena17/azure_gpt/azure_gpt_env/lib/python3.10/site-packages/sklearn/metrics/_classification.py:1471: UndefinedMetricWarning: Precision is ill-defined and being set to 0.0 in labels with no predicted samples. Use `zero_division` parameter to control this behavior.\n",
      "  _warn_prf(average, modifier, msg_start, len(result))\n",
      "/Users/valena17/azure_gpt/azure_gpt_env/lib/python3.10/site-packages/sklearn/metrics/_classification.py:1471: UndefinedMetricWarning: Precision and F-score are ill-defined and being set to 0.0 in labels with no predicted samples. Use `zero_division` parameter to control this behavior.\n",
      "  _warn_prf(average, modifier, msg_start, len(result))\n",
      "/Users/valena17/azure_gpt/azure_gpt_env/lib/python3.10/site-packages/sklearn/metrics/_classification.py:1471: UndefinedMetricWarning: Precision and F-score are ill-defined and being set to 0.0 in labels with no predicted samples. Use `zero_division` parameter to control this behavior.\n",
      "  _warn_prf(average, modifier, msg_start, len(result))\n",
      "/Users/valena17/azure_gpt/azure_gpt_env/lib/python3.10/site-packages/sklearn/metrics/_classification.py:1471: UndefinedMetricWarning: Precision and F-score are ill-defined and being set to 0.0 in labels with no predicted samples. Use `zero_division` parameter to control this behavior.\n",
      "  _warn_prf(average, modifier, msg_start, len(result))\n"
     ]
    },
    {
     "name": "stdout",
     "output_type": "stream",
     "text": [
      "              precision    recall  f1-score   support\n",
      "\n",
      "    negative       0.61      0.92      0.73        12\n",
      "     neutral       0.00      0.00      0.00         8\n",
      "    positive       0.56      0.71      0.63         7\n",
      "\n",
      "    accuracy                           0.59        27\n",
      "   macro avg       0.39      0.54      0.45        27\n",
      "weighted avg       0.42      0.59      0.49        27\n",
      "\n",
      "----------------------------------------------------------------------------------------------------\n",
      "\n",
      "\n",
      "\n",
      "Best combination of context sentences: {'n_negative_sentences': 2, 'n_neutral_sentences': 2, 'n_positive_sentences': 1, 'seed': 42}\n",
      "\n",
      "\n",
      "Best results: {'f1': 0.6923404394668761, 'precision': 0.7320261437908497, 'recall': 0.7037037037037037}\n"
     ]
    },
    {
     "name": "stderr",
     "output_type": "stream",
     "text": [
      "/var/folders/xm/m4dy5bvs1fn7fb9wxjhsg4dc0000gn/T/ipykernel_1786/3463305045.py:51: FutureWarning: Passing literal json to 'read_json' is deprecated and will be removed in a future version. To read from a literal string, wrap it in a 'StringIO' object.\n",
      "  predictions = pd.read_json(output, orient=\"index\")\n"
     ]
    },
    {
     "name": "stdout",
     "output_type": "stream",
     "text": [
      "              precision    recall  f1-score   support\n",
      "\n",
      "    negative       0.59      0.83      0.69        12\n",
      "     neutral       1.00      0.12      0.22         8\n",
      "    positive       0.56      0.71      0.63         7\n",
      "\n",
      "    accuracy                           0.59        27\n",
      "   macro avg       0.71      0.56      0.51        27\n",
      "weighted avg       0.70      0.59      0.53        27\n",
      "\n",
      "----------------------------------------------------------------------------------------------------\n",
      "\n",
      "\n",
      "\n",
      "Best combination of context sentences: {'n_negative_sentences': 2, 'n_neutral_sentences': 2, 'n_positive_sentences': 1, 'seed': 42}\n",
      "\n",
      "\n",
      "Best results: {'f1': 0.6923404394668761, 'precision': 0.7320261437908497, 'recall': 0.7037037037037037}\n"
     ]
    },
    {
     "name": "stderr",
     "output_type": "stream",
     "text": [
      "/var/folders/xm/m4dy5bvs1fn7fb9wxjhsg4dc0000gn/T/ipykernel_1786/3463305045.py:51: FutureWarning: Passing literal json to 'read_json' is deprecated and will be removed in a future version. To read from a literal string, wrap it in a 'StringIO' object.\n",
      "  predictions = pd.read_json(output, orient=\"index\")\n"
     ]
    },
    {
     "name": "stdout",
     "output_type": "stream",
     "text": [
      "              precision    recall  f1-score   support\n",
      "\n",
      "    negative       0.56      0.83      0.67        12\n",
      "     neutral       0.00      0.00      0.00         8\n",
      "    positive       0.62      0.71      0.67         7\n",
      "\n",
      "    accuracy                           0.56        27\n",
      "   macro avg       0.39      0.52      0.44        27\n",
      "weighted avg       0.41      0.56      0.47        27\n",
      "\n",
      "----------------------------------------------------------------------------------------------------\n",
      "\n",
      "\n",
      "\n",
      "Best combination of context sentences: {'n_negative_sentences': 2, 'n_neutral_sentences': 2, 'n_positive_sentences': 1, 'seed': 42}\n",
      "\n",
      "\n",
      "Best results: {'f1': 0.6923404394668761, 'precision': 0.7320261437908497, 'recall': 0.7037037037037037}\n"
     ]
    },
    {
     "name": "stderr",
     "output_type": "stream",
     "text": [
      "/var/folders/xm/m4dy5bvs1fn7fb9wxjhsg4dc0000gn/T/ipykernel_1786/3463305045.py:51: FutureWarning: Passing literal json to 'read_json' is deprecated and will be removed in a future version. To read from a literal string, wrap it in a 'StringIO' object.\n",
      "  predictions = pd.read_json(output, orient=\"index\")\n",
      "/Users/valena17/azure_gpt/azure_gpt_env/lib/python3.10/site-packages/sklearn/metrics/_classification.py:1471: UndefinedMetricWarning: Precision is ill-defined and being set to 0.0 in labels with no predicted samples. Use `zero_division` parameter to control this behavior.\n",
      "  _warn_prf(average, modifier, msg_start, len(result))\n",
      "/Users/valena17/azure_gpt/azure_gpt_env/lib/python3.10/site-packages/sklearn/metrics/_classification.py:1471: UndefinedMetricWarning: Precision and F-score are ill-defined and being set to 0.0 in labels with no predicted samples. Use `zero_division` parameter to control this behavior.\n",
      "  _warn_prf(average, modifier, msg_start, len(result))\n",
      "/Users/valena17/azure_gpt/azure_gpt_env/lib/python3.10/site-packages/sklearn/metrics/_classification.py:1471: UndefinedMetricWarning: Precision and F-score are ill-defined and being set to 0.0 in labels with no predicted samples. Use `zero_division` parameter to control this behavior.\n",
      "  _warn_prf(average, modifier, msg_start, len(result))\n",
      "/Users/valena17/azure_gpt/azure_gpt_env/lib/python3.10/site-packages/sklearn/metrics/_classification.py:1471: UndefinedMetricWarning: Precision and F-score are ill-defined and being set to 0.0 in labels with no predicted samples. Use `zero_division` parameter to control this behavior.\n",
      "  _warn_prf(average, modifier, msg_start, len(result))\n"
     ]
    },
    {
     "name": "stdout",
     "output_type": "stream",
     "text": [
      "              precision    recall  f1-score   support\n",
      "\n",
      "    negative       0.61      0.92      0.73        12\n",
      "     neutral       0.00      0.00      0.00         8\n",
      "    positive       0.56      0.71      0.63         7\n",
      "\n",
      "    accuracy                           0.59        27\n",
      "   macro avg       0.39      0.54      0.45        27\n",
      "weighted avg       0.42      0.59      0.49        27\n",
      "\n",
      "----------------------------------------------------------------------------------------------------\n",
      "\n",
      "\n",
      "\n",
      "Best combination of context sentences: {'n_negative_sentences': 2, 'n_neutral_sentences': 2, 'n_positive_sentences': 1, 'seed': 42}\n",
      "\n",
      "\n",
      "Best results: {'f1': 0.6923404394668761, 'precision': 0.7320261437908497, 'recall': 0.7037037037037037}\n"
     ]
    },
    {
     "name": "stderr",
     "output_type": "stream",
     "text": [
      "/var/folders/xm/m4dy5bvs1fn7fb9wxjhsg4dc0000gn/T/ipykernel_1786/3463305045.py:51: FutureWarning: Passing literal json to 'read_json' is deprecated and will be removed in a future version. To read from a literal string, wrap it in a 'StringIO' object.\n",
      "  predictions = pd.read_json(output, orient=\"index\")\n"
     ]
    },
    {
     "name": "stdout",
     "output_type": "stream",
     "text": [
      "              precision    recall  f1-score   support\n",
      "\n",
      "    negative       0.56      0.75      0.64        12\n",
      "     neutral       1.00      0.12      0.22         8\n",
      "    positive       0.50      0.71      0.59         7\n",
      "\n",
      "    accuracy                           0.56        27\n",
      "   macro avg       0.69      0.53      0.48        27\n",
      "weighted avg       0.68      0.56      0.50        27\n",
      "\n",
      "----------------------------------------------------------------------------------------------------\n",
      "\n",
      "\n",
      "\n",
      "Best combination of context sentences: {'n_negative_sentences': 2, 'n_neutral_sentences': 2, 'n_positive_sentences': 1, 'seed': 42}\n",
      "\n",
      "\n",
      "Best results: {'f1': 0.6923404394668761, 'precision': 0.7320261437908497, 'recall': 0.7037037037037037}\n"
     ]
    },
    {
     "name": "stderr",
     "output_type": "stream",
     "text": [
      "/var/folders/xm/m4dy5bvs1fn7fb9wxjhsg4dc0000gn/T/ipykernel_1786/3463305045.py:51: FutureWarning: Passing literal json to 'read_json' is deprecated and will be removed in a future version. To read from a literal string, wrap it in a 'StringIO' object.\n",
      "  predictions = pd.read_json(output, orient=\"index\")\n"
     ]
    },
    {
     "name": "stdout",
     "output_type": "stream",
     "text": [
      "              precision    recall  f1-score   support\n",
      "\n",
      "    negative       0.59      0.83      0.69        12\n",
      "     neutral       0.33      0.12      0.18         8\n",
      "    positive       0.57      0.57      0.57         7\n",
      "\n",
      "    accuracy                           0.56        27\n",
      "   macro avg       0.50      0.51      0.48        27\n",
      "weighted avg       0.51      0.56      0.51        27\n",
      "\n",
      "----------------------------------------------------------------------------------------------------\n",
      "\n",
      "\n",
      "\n",
      "Best combination of context sentences: {'n_negative_sentences': 2, 'n_neutral_sentences': 2, 'n_positive_sentences': 1, 'seed': 42}\n",
      "\n",
      "\n",
      "Best results: {'f1': 0.6923404394668761, 'precision': 0.7320261437908497, 'recall': 0.7037037037037037}\n"
     ]
    },
    {
     "name": "stderr",
     "output_type": "stream",
     "text": [
      "/var/folders/xm/m4dy5bvs1fn7fb9wxjhsg4dc0000gn/T/ipykernel_1786/3463305045.py:51: FutureWarning: Passing literal json to 'read_json' is deprecated and will be removed in a future version. To read from a literal string, wrap it in a 'StringIO' object.\n",
      "  predictions = pd.read_json(output, orient=\"index\")\n",
      "/Users/valena17/azure_gpt/azure_gpt_env/lib/python3.10/site-packages/sklearn/metrics/_classification.py:1471: UndefinedMetricWarning: Precision is ill-defined and being set to 0.0 in labels with no predicted samples. Use `zero_division` parameter to control this behavior.\n",
      "  _warn_prf(average, modifier, msg_start, len(result))\n",
      "/Users/valena17/azure_gpt/azure_gpt_env/lib/python3.10/site-packages/sklearn/metrics/_classification.py:1471: UndefinedMetricWarning: Precision and F-score are ill-defined and being set to 0.0 in labels with no predicted samples. Use `zero_division` parameter to control this behavior.\n",
      "  _warn_prf(average, modifier, msg_start, len(result))\n",
      "/Users/valena17/azure_gpt/azure_gpt_env/lib/python3.10/site-packages/sklearn/metrics/_classification.py:1471: UndefinedMetricWarning: Precision and F-score are ill-defined and being set to 0.0 in labels with no predicted samples. Use `zero_division` parameter to control this behavior.\n",
      "  _warn_prf(average, modifier, msg_start, len(result))\n",
      "/Users/valena17/azure_gpt/azure_gpt_env/lib/python3.10/site-packages/sklearn/metrics/_classification.py:1471: UndefinedMetricWarning: Precision and F-score are ill-defined and being set to 0.0 in labels with no predicted samples. Use `zero_division` parameter to control this behavior.\n",
      "  _warn_prf(average, modifier, msg_start, len(result))\n"
     ]
    },
    {
     "name": "stdout",
     "output_type": "stream",
     "text": [
      "              precision    recall  f1-score   support\n",
      "\n",
      "    negative       0.61      0.92      0.73        12\n",
      "     neutral       0.00      0.00      0.00         8\n",
      "    positive       0.56      0.71      0.63         7\n",
      "\n",
      "    accuracy                           0.59        27\n",
      "   macro avg       0.39      0.54      0.45        27\n",
      "weighted avg       0.42      0.59      0.49        27\n",
      "\n",
      "----------------------------------------------------------------------------------------------------\n",
      "\n",
      "\n",
      "\n",
      "Best combination of context sentences: {'n_negative_sentences': 2, 'n_neutral_sentences': 2, 'n_positive_sentences': 1, 'seed': 42}\n",
      "\n",
      "\n",
      "Best results: {'f1': 0.6923404394668761, 'precision': 0.7320261437908497, 'recall': 0.7037037037037037}\n"
     ]
    },
    {
     "name": "stderr",
     "output_type": "stream",
     "text": [
      "/var/folders/xm/m4dy5bvs1fn7fb9wxjhsg4dc0000gn/T/ipykernel_1786/3463305045.py:51: FutureWarning: Passing literal json to 'read_json' is deprecated and will be removed in a future version. To read from a literal string, wrap it in a 'StringIO' object.\n",
      "  predictions = pd.read_json(output, orient=\"index\")\n",
      "/Users/valena17/azure_gpt/azure_gpt_env/lib/python3.10/site-packages/sklearn/metrics/_classification.py:1471: UndefinedMetricWarning: Precision is ill-defined and being set to 0.0 in labels with no predicted samples. Use `zero_division` parameter to control this behavior.\n",
      "  _warn_prf(average, modifier, msg_start, len(result))\n",
      "/Users/valena17/azure_gpt/azure_gpt_env/lib/python3.10/site-packages/sklearn/metrics/_classification.py:1471: UndefinedMetricWarning: Precision and F-score are ill-defined and being set to 0.0 in labels with no predicted samples. Use `zero_division` parameter to control this behavior.\n",
      "  _warn_prf(average, modifier, msg_start, len(result))\n",
      "/Users/valena17/azure_gpt/azure_gpt_env/lib/python3.10/site-packages/sklearn/metrics/_classification.py:1471: UndefinedMetricWarning: Precision and F-score are ill-defined and being set to 0.0 in labels with no predicted samples. Use `zero_division` parameter to control this behavior.\n",
      "  _warn_prf(average, modifier, msg_start, len(result))\n",
      "/Users/valena17/azure_gpt/azure_gpt_env/lib/python3.10/site-packages/sklearn/metrics/_classification.py:1471: UndefinedMetricWarning: Precision and F-score are ill-defined and being set to 0.0 in labels with no predicted samples. Use `zero_division` parameter to control this behavior.\n",
      "  _warn_prf(average, modifier, msg_start, len(result))\n"
     ]
    },
    {
     "name": "stdout",
     "output_type": "stream",
     "text": [
      "              precision    recall  f1-score   support\n",
      "\n",
      "    negative       0.56      0.75      0.64        12\n",
      "     neutral       0.00      0.00      0.00         8\n",
      "    positive       0.45      0.71      0.56         7\n",
      "\n",
      "    accuracy                           0.52        27\n",
      "   macro avg       0.34      0.49      0.40        27\n",
      "weighted avg       0.37      0.52      0.43        27\n",
      "\n",
      "----------------------------------------------------------------------------------------------------\n",
      "\n",
      "\n",
      "\n",
      "Best combination of context sentences: {'n_negative_sentences': 2, 'n_neutral_sentences': 2, 'n_positive_sentences': 1, 'seed': 42}\n",
      "\n",
      "\n",
      "Best results: {'f1': 0.6923404394668761, 'precision': 0.7320261437908497, 'recall': 0.7037037037037037}\n"
     ]
    },
    {
     "name": "stderr",
     "output_type": "stream",
     "text": [
      "/var/folders/xm/m4dy5bvs1fn7fb9wxjhsg4dc0000gn/T/ipykernel_1786/3463305045.py:51: FutureWarning: Passing literal json to 'read_json' is deprecated and will be removed in a future version. To read from a literal string, wrap it in a 'StringIO' object.\n",
      "  predictions = pd.read_json(output, orient=\"index\")\n",
      "/Users/valena17/azure_gpt/azure_gpt_env/lib/python3.10/site-packages/sklearn/metrics/_classification.py:1471: UndefinedMetricWarning: Precision is ill-defined and being set to 0.0 in labels with no predicted samples. Use `zero_division` parameter to control this behavior.\n",
      "  _warn_prf(average, modifier, msg_start, len(result))\n",
      "/Users/valena17/azure_gpt/azure_gpt_env/lib/python3.10/site-packages/sklearn/metrics/_classification.py:1471: UndefinedMetricWarning: Precision and F-score are ill-defined and being set to 0.0 in labels with no predicted samples. Use `zero_division` parameter to control this behavior.\n",
      "  _warn_prf(average, modifier, msg_start, len(result))\n",
      "/Users/valena17/azure_gpt/azure_gpt_env/lib/python3.10/site-packages/sklearn/metrics/_classification.py:1471: UndefinedMetricWarning: Precision and F-score are ill-defined and being set to 0.0 in labels with no predicted samples. Use `zero_division` parameter to control this behavior.\n",
      "  _warn_prf(average, modifier, msg_start, len(result))\n",
      "/Users/valena17/azure_gpt/azure_gpt_env/lib/python3.10/site-packages/sklearn/metrics/_classification.py:1471: UndefinedMetricWarning: Precision and F-score are ill-defined and being set to 0.0 in labels with no predicted samples. Use `zero_division` parameter to control this behavior.\n",
      "  _warn_prf(average, modifier, msg_start, len(result))\n"
     ]
    },
    {
     "name": "stdout",
     "output_type": "stream",
     "text": [
      "              precision    recall  f1-score   support\n",
      "\n",
      "    negative       0.59      0.83      0.69        12\n",
      "     neutral       0.00      0.00      0.00         8\n",
      "    positive       0.60      0.86      0.71         7\n",
      "\n",
      "    accuracy                           0.59        27\n",
      "   macro avg       0.40      0.56      0.47        27\n",
      "weighted avg       0.42      0.59      0.49        27\n",
      "\n",
      "----------------------------------------------------------------------------------------------------\n",
      "\n",
      "\n",
      "\n",
      "Best combination of context sentences: {'n_negative_sentences': 2, 'n_neutral_sentences': 2, 'n_positive_sentences': 1, 'seed': 42}\n",
      "\n",
      "\n",
      "Best results: {'f1': 0.6923404394668761, 'precision': 0.7320261437908497, 'recall': 0.7037037037037037}\n"
     ]
    },
    {
     "name": "stderr",
     "output_type": "stream",
     "text": [
      "/var/folders/xm/m4dy5bvs1fn7fb9wxjhsg4dc0000gn/T/ipykernel_1786/3463305045.py:51: FutureWarning: Passing literal json to 'read_json' is deprecated and will be removed in a future version. To read from a literal string, wrap it in a 'StringIO' object.\n",
      "  predictions = pd.read_json(output, orient=\"index\")\n",
      "/Users/valena17/azure_gpt/azure_gpt_env/lib/python3.10/site-packages/sklearn/metrics/_classification.py:1471: UndefinedMetricWarning: Precision is ill-defined and being set to 0.0 in labels with no predicted samples. Use `zero_division` parameter to control this behavior.\n",
      "  _warn_prf(average, modifier, msg_start, len(result))\n",
      "/Users/valena17/azure_gpt/azure_gpt_env/lib/python3.10/site-packages/sklearn/metrics/_classification.py:1471: UndefinedMetricWarning: Precision and F-score are ill-defined and being set to 0.0 in labels with no predicted samples. Use `zero_division` parameter to control this behavior.\n",
      "  _warn_prf(average, modifier, msg_start, len(result))\n",
      "/Users/valena17/azure_gpt/azure_gpt_env/lib/python3.10/site-packages/sklearn/metrics/_classification.py:1471: UndefinedMetricWarning: Precision and F-score are ill-defined and being set to 0.0 in labels with no predicted samples. Use `zero_division` parameter to control this behavior.\n",
      "  _warn_prf(average, modifier, msg_start, len(result))\n",
      "/Users/valena17/azure_gpt/azure_gpt_env/lib/python3.10/site-packages/sklearn/metrics/_classification.py:1471: UndefinedMetricWarning: Precision and F-score are ill-defined and being set to 0.0 in labels with no predicted samples. Use `zero_division` parameter to control this behavior.\n",
      "  _warn_prf(average, modifier, msg_start, len(result))\n"
     ]
    },
    {
     "name": "stdout",
     "output_type": "stream",
     "text": [
      "              precision    recall  f1-score   support\n",
      "\n",
      "    negative       0.65      0.92      0.76        12\n",
      "     neutral       0.00      0.00      0.00         8\n",
      "    positive       0.50      0.71      0.59         7\n",
      "\n",
      "    accuracy                           0.59        27\n",
      "   macro avg       0.38      0.54      0.45        27\n",
      "weighted avg       0.42      0.59      0.49        27\n",
      "\n",
      "----------------------------------------------------------------------------------------------------\n",
      "\n",
      "\n",
      "\n",
      "Best combination of context sentences: {'n_negative_sentences': 2, 'n_neutral_sentences': 2, 'n_positive_sentences': 1, 'seed': 42}\n",
      "\n",
      "\n",
      "Best results: {'f1': 0.6923404394668761, 'precision': 0.7320261437908497, 'recall': 0.7037037037037037}\n"
     ]
    },
    {
     "name": "stderr",
     "output_type": "stream",
     "text": [
      "/var/folders/xm/m4dy5bvs1fn7fb9wxjhsg4dc0000gn/T/ipykernel_1786/3463305045.py:51: FutureWarning: Passing literal json to 'read_json' is deprecated and will be removed in a future version. To read from a literal string, wrap it in a 'StringIO' object.\n",
      "  predictions = pd.read_json(output, orient=\"index\")\n"
     ]
    },
    {
     "name": "stdout",
     "output_type": "stream",
     "text": [
      "              precision    recall  f1-score   support\n",
      "\n",
      "    negative       0.56      0.75      0.64        12\n",
      "     neutral       1.00      0.12      0.22         8\n",
      "    positive       0.50      0.71      0.59         7\n",
      "\n",
      "    accuracy                           0.56        27\n",
      "   macro avg       0.69      0.53      0.48        27\n",
      "weighted avg       0.68      0.56      0.50        27\n",
      "\n",
      "----------------------------------------------------------------------------------------------------\n",
      "\n",
      "\n",
      "\n",
      "Best combination of context sentences: {'n_negative_sentences': 2, 'n_neutral_sentences': 2, 'n_positive_sentences': 1, 'seed': 42}\n",
      "\n",
      "\n",
      "Best results: {'f1': 0.6923404394668761, 'precision': 0.7320261437908497, 'recall': 0.7037037037037037}\n"
     ]
    },
    {
     "name": "stderr",
     "output_type": "stream",
     "text": [
      "/var/folders/xm/m4dy5bvs1fn7fb9wxjhsg4dc0000gn/T/ipykernel_1786/3463305045.py:51: FutureWarning: Passing literal json to 'read_json' is deprecated and will be removed in a future version. To read from a literal string, wrap it in a 'StringIO' object.\n",
      "  predictions = pd.read_json(output, orient=\"index\")\n"
     ]
    },
    {
     "name": "stdout",
     "output_type": "stream",
     "text": [
      "              precision    recall  f1-score   support\n",
      "\n",
      "    negative       0.62      0.83      0.71        12\n",
      "     neutral       0.50      0.12      0.20         8\n",
      "    positive       0.56      0.71      0.63         7\n",
      "\n",
      "    accuracy                           0.59        27\n",
      "   macro avg       0.56      0.56      0.51        27\n",
      "weighted avg       0.57      0.59      0.54        27\n",
      "\n",
      "----------------------------------------------------------------------------------------------------\n",
      "\n",
      "\n",
      "\n",
      "Best combination of context sentences: {'n_negative_sentences': 2, 'n_neutral_sentences': 2, 'n_positive_sentences': 1, 'seed': 42}\n",
      "\n",
      "\n",
      "Best results: {'f1': 0.6923404394668761, 'precision': 0.7320261437908497, 'recall': 0.7037037037037037}\n"
     ]
    },
    {
     "name": "stderr",
     "output_type": "stream",
     "text": [
      "/var/folders/xm/m4dy5bvs1fn7fb9wxjhsg4dc0000gn/T/ipykernel_1786/3463305045.py:51: FutureWarning: Passing literal json to 'read_json' is deprecated and will be removed in a future version. To read from a literal string, wrap it in a 'StringIO' object.\n",
      "  predictions = pd.read_json(output, orient=\"index\")\n",
      "/Users/valena17/azure_gpt/azure_gpt_env/lib/python3.10/site-packages/sklearn/metrics/_classification.py:1471: UndefinedMetricWarning: Precision is ill-defined and being set to 0.0 in labels with no predicted samples. Use `zero_division` parameter to control this behavior.\n",
      "  _warn_prf(average, modifier, msg_start, len(result))\n",
      "/Users/valena17/azure_gpt/azure_gpt_env/lib/python3.10/site-packages/sklearn/metrics/_classification.py:1471: UndefinedMetricWarning: Precision and F-score are ill-defined and being set to 0.0 in labels with no predicted samples. Use `zero_division` parameter to control this behavior.\n",
      "  _warn_prf(average, modifier, msg_start, len(result))\n",
      "/Users/valena17/azure_gpt/azure_gpt_env/lib/python3.10/site-packages/sklearn/metrics/_classification.py:1471: UndefinedMetricWarning: Precision and F-score are ill-defined and being set to 0.0 in labels with no predicted samples. Use `zero_division` parameter to control this behavior.\n",
      "  _warn_prf(average, modifier, msg_start, len(result))\n",
      "/Users/valena17/azure_gpt/azure_gpt_env/lib/python3.10/site-packages/sklearn/metrics/_classification.py:1471: UndefinedMetricWarning: Precision and F-score are ill-defined and being set to 0.0 in labels with no predicted samples. Use `zero_division` parameter to control this behavior.\n",
      "  _warn_prf(average, modifier, msg_start, len(result))\n"
     ]
    },
    {
     "name": "stdout",
     "output_type": "stream",
     "text": [
      "              precision    recall  f1-score   support\n",
      "\n",
      "    negative       0.61      0.92      0.73        12\n",
      "     neutral       0.00      0.00      0.00         8\n",
      "    positive       0.56      0.71      0.63         7\n",
      "\n",
      "    accuracy                           0.59        27\n",
      "   macro avg       0.39      0.54      0.45        27\n",
      "weighted avg       0.42      0.59      0.49        27\n",
      "\n",
      "----------------------------------------------------------------------------------------------------\n",
      "\n",
      "\n",
      "\n",
      "Best combination of context sentences: {'n_negative_sentences': 2, 'n_neutral_sentences': 2, 'n_positive_sentences': 1, 'seed': 42}\n",
      "\n",
      "\n",
      "Best results: {'f1': 0.6923404394668761, 'precision': 0.7320261437908497, 'recall': 0.7037037037037037}\n"
     ]
    },
    {
     "name": "stderr",
     "output_type": "stream",
     "text": [
      "/var/folders/xm/m4dy5bvs1fn7fb9wxjhsg4dc0000gn/T/ipykernel_1786/3463305045.py:51: FutureWarning: Passing literal json to 'read_json' is deprecated and will be removed in a future version. To read from a literal string, wrap it in a 'StringIO' object.\n",
      "  predictions = pd.read_json(output, orient=\"index\")\n",
      "/Users/valena17/azure_gpt/azure_gpt_env/lib/python3.10/site-packages/sklearn/metrics/_classification.py:1471: UndefinedMetricWarning: Precision is ill-defined and being set to 0.0 in labels with no predicted samples. Use `zero_division` parameter to control this behavior.\n",
      "  _warn_prf(average, modifier, msg_start, len(result))\n",
      "/Users/valena17/azure_gpt/azure_gpt_env/lib/python3.10/site-packages/sklearn/metrics/_classification.py:1471: UndefinedMetricWarning: Precision and F-score are ill-defined and being set to 0.0 in labels with no predicted samples. Use `zero_division` parameter to control this behavior.\n",
      "  _warn_prf(average, modifier, msg_start, len(result))\n",
      "/Users/valena17/azure_gpt/azure_gpt_env/lib/python3.10/site-packages/sklearn/metrics/_classification.py:1471: UndefinedMetricWarning: Precision and F-score are ill-defined and being set to 0.0 in labels with no predicted samples. Use `zero_division` parameter to control this behavior.\n",
      "  _warn_prf(average, modifier, msg_start, len(result))\n",
      "/Users/valena17/azure_gpt/azure_gpt_env/lib/python3.10/site-packages/sklearn/metrics/_classification.py:1471: UndefinedMetricWarning: Precision and F-score are ill-defined and being set to 0.0 in labels with no predicted samples. Use `zero_division` parameter to control this behavior.\n",
      "  _warn_prf(average, modifier, msg_start, len(result))\n"
     ]
    },
    {
     "name": "stdout",
     "output_type": "stream",
     "text": [
      "              precision    recall  f1-score   support\n",
      "\n",
      "    negative       0.60      0.75      0.67        12\n",
      "     neutral       0.00      0.00      0.00         8\n",
      "    positive       0.42      0.71      0.53         7\n",
      "\n",
      "    accuracy                           0.52        27\n",
      "   macro avg       0.34      0.49      0.40        27\n",
      "weighted avg       0.37      0.52      0.43        27\n",
      "\n",
      "----------------------------------------------------------------------------------------------------\n",
      "\n",
      "\n",
      "\n",
      "Best combination of context sentences: {'n_negative_sentences': 2, 'n_neutral_sentences': 2, 'n_positive_sentences': 1, 'seed': 42}\n",
      "\n",
      "\n",
      "Best results: {'f1': 0.6923404394668761, 'precision': 0.7320261437908497, 'recall': 0.7037037037037037}\n"
     ]
    },
    {
     "name": "stderr",
     "output_type": "stream",
     "text": [
      "/var/folders/xm/m4dy5bvs1fn7fb9wxjhsg4dc0000gn/T/ipykernel_1786/3463305045.py:51: FutureWarning: Passing literal json to 'read_json' is deprecated and will be removed in a future version. To read from a literal string, wrap it in a 'StringIO' object.\n",
      "  predictions = pd.read_json(output, orient=\"index\")\n"
     ]
    },
    {
     "name": "stdout",
     "output_type": "stream",
     "text": [
      "              precision    recall  f1-score   support\n",
      "\n",
      "    negative       0.62      0.83      0.71        12\n",
      "     neutral       0.00      0.00      0.00         8\n",
      "    positive       0.50      0.71      0.59         7\n",
      "\n",
      "    accuracy                           0.56        27\n",
      "   macro avg       0.38      0.52      0.43        27\n",
      "weighted avg       0.41      0.56      0.47        27\n",
      "\n",
      "----------------------------------------------------------------------------------------------------\n",
      "\n",
      "\n",
      "\n",
      "Best combination of context sentences: {'n_negative_sentences': 2, 'n_neutral_sentences': 2, 'n_positive_sentences': 1, 'seed': 42}\n",
      "\n",
      "\n",
      "Best results: {'f1': 0.6923404394668761, 'precision': 0.7320261437908497, 'recall': 0.7037037037037037}\n"
     ]
    },
    {
     "name": "stderr",
     "output_type": "stream",
     "text": [
      "/var/folders/xm/m4dy5bvs1fn7fb9wxjhsg4dc0000gn/T/ipykernel_1786/3463305045.py:51: FutureWarning: Passing literal json to 'read_json' is deprecated and will be removed in a future version. To read from a literal string, wrap it in a 'StringIO' object.\n",
      "  predictions = pd.read_json(output, orient=\"index\")\n"
     ]
    },
    {
     "name": "stdout",
     "output_type": "stream",
     "text": [
      "              precision    recall  f1-score   support\n",
      "\n",
      "    negative       0.65      0.92      0.76        12\n",
      "     neutral       0.67      0.25      0.36         8\n",
      "    positive       0.57      0.57      0.57         7\n",
      "\n",
      "    accuracy                           0.63        27\n",
      "   macro avg       0.63      0.58      0.56        27\n",
      "weighted avg       0.63      0.63      0.59        27\n",
      "\n",
      "----------------------------------------------------------------------------------------------------\n",
      "\n",
      "\n",
      "\n",
      "Best combination of context sentences: {'n_negative_sentences': 2, 'n_neutral_sentences': 2, 'n_positive_sentences': 1, 'seed': 42}\n",
      "\n",
      "\n",
      "Best results: {'f1': 0.6923404394668761, 'precision': 0.7320261437908497, 'recall': 0.7037037037037037}\n"
     ]
    },
    {
     "name": "stderr",
     "output_type": "stream",
     "text": [
      "/var/folders/xm/m4dy5bvs1fn7fb9wxjhsg4dc0000gn/T/ipykernel_1786/3463305045.py:51: FutureWarning: Passing literal json to 'read_json' is deprecated and will be removed in a future version. To read from a literal string, wrap it in a 'StringIO' object.\n",
      "  predictions = pd.read_json(output, orient=\"index\")\n"
     ]
    },
    {
     "name": "stdout",
     "output_type": "stream",
     "text": [
      "              precision    recall  f1-score   support\n",
      "\n",
      "    negative       0.56      0.75      0.64        12\n",
      "     neutral       0.50      0.12      0.20         8\n",
      "    positive       0.56      0.71      0.63         7\n",
      "\n",
      "    accuracy                           0.56        27\n",
      "   macro avg       0.54      0.53      0.49        27\n",
      "weighted avg       0.54      0.56      0.51        27\n",
      "\n",
      "----------------------------------------------------------------------------------------------------\n",
      "\n",
      "\n",
      "\n",
      "Best combination of context sentences: {'n_negative_sentences': 2, 'n_neutral_sentences': 2, 'n_positive_sentences': 1, 'seed': 42}\n",
      "\n",
      "\n",
      "Best results: {'f1': 0.6923404394668761, 'precision': 0.7320261437908497, 'recall': 0.7037037037037037}\n"
     ]
    },
    {
     "name": "stderr",
     "output_type": "stream",
     "text": [
      "/var/folders/xm/m4dy5bvs1fn7fb9wxjhsg4dc0000gn/T/ipykernel_1786/3463305045.py:51: FutureWarning: Passing literal json to 'read_json' is deprecated and will be removed in a future version. To read from a literal string, wrap it in a 'StringIO' object.\n",
      "  predictions = pd.read_json(output, orient=\"index\")\n"
     ]
    },
    {
     "name": "stdout",
     "output_type": "stream",
     "text": [
      "              precision    recall  f1-score   support\n",
      "\n",
      "    negative       0.60      0.75      0.67        12\n",
      "     neutral       0.40      0.25      0.31         8\n",
      "    positive       0.57      0.57      0.57         7\n",
      "\n",
      "    accuracy                           0.56        27\n",
      "   macro avg       0.52      0.52      0.52        27\n",
      "weighted avg       0.53      0.56      0.54        27\n",
      "\n",
      "----------------------------------------------------------------------------------------------------\n",
      "\n",
      "\n",
      "\n",
      "Best combination of context sentences: {'n_negative_sentences': 2, 'n_neutral_sentences': 2, 'n_positive_sentences': 1, 'seed': 42}\n",
      "\n",
      "\n",
      "Best results: {'f1': 0.6923404394668761, 'precision': 0.7320261437908497, 'recall': 0.7037037037037037}\n"
     ]
    },
    {
     "name": "stderr",
     "output_type": "stream",
     "text": [
      "/var/folders/xm/m4dy5bvs1fn7fb9wxjhsg4dc0000gn/T/ipykernel_1786/3463305045.py:51: FutureWarning: Passing literal json to 'read_json' is deprecated and will be removed in a future version. To read from a literal string, wrap it in a 'StringIO' object.\n",
      "  predictions = pd.read_json(output, orient=\"index\")\n"
     ]
    },
    {
     "name": "stdout",
     "output_type": "stream",
     "text": [
      "              precision    recall  f1-score   support\n",
      "\n",
      "    negative       0.65      0.92      0.76        12\n",
      "     neutral       0.67      0.25      0.36         8\n",
      "    positive       0.57      0.57      0.57         7\n",
      "\n",
      "    accuracy                           0.63        27\n",
      "   macro avg       0.63      0.58      0.56        27\n",
      "weighted avg       0.63      0.63      0.59        27\n",
      "\n",
      "----------------------------------------------------------------------------------------------------\n",
      "\n",
      "\n",
      "\n",
      "Best combination of context sentences: {'n_negative_sentences': 2, 'n_neutral_sentences': 2, 'n_positive_sentences': 1, 'seed': 42}\n",
      "\n",
      "\n",
      "Best results: {'f1': 0.6923404394668761, 'precision': 0.7320261437908497, 'recall': 0.7037037037037037}\n"
     ]
    },
    {
     "name": "stderr",
     "output_type": "stream",
     "text": [
      "/var/folders/xm/m4dy5bvs1fn7fb9wxjhsg4dc0000gn/T/ipykernel_1786/3463305045.py:51: FutureWarning: Passing literal json to 'read_json' is deprecated and will be removed in a future version. To read from a literal string, wrap it in a 'StringIO' object.\n",
      "  predictions = pd.read_json(output, orient=\"index\")\n"
     ]
    },
    {
     "name": "stdout",
     "output_type": "stream",
     "text": [
      "              precision    recall  f1-score   support\n",
      "\n",
      "    negative       0.56      0.75      0.64        12\n",
      "     neutral       0.50      0.12      0.20         8\n",
      "    positive       0.56      0.71      0.63         7\n",
      "\n",
      "    accuracy                           0.56        27\n",
      "   macro avg       0.54      0.53      0.49        27\n",
      "weighted avg       0.54      0.56      0.51        27\n",
      "\n",
      "----------------------------------------------------------------------------------------------------\n",
      "\n",
      "\n",
      "\n",
      "Best combination of context sentences: {'n_negative_sentences': 2, 'n_neutral_sentences': 2, 'n_positive_sentences': 1, 'seed': 42}\n",
      "\n",
      "\n",
      "Best results: {'f1': 0.6923404394668761, 'precision': 0.7320261437908497, 'recall': 0.7037037037037037}\n"
     ]
    },
    {
     "name": "stderr",
     "output_type": "stream",
     "text": [
      "/var/folders/xm/m4dy5bvs1fn7fb9wxjhsg4dc0000gn/T/ipykernel_1786/3463305045.py:51: FutureWarning: Passing literal json to 'read_json' is deprecated and will be removed in a future version. To read from a literal string, wrap it in a 'StringIO' object.\n",
      "  predictions = pd.read_json(output, orient=\"index\")\n"
     ]
    },
    {
     "name": "stdout",
     "output_type": "stream",
     "text": [
      "              precision    recall  f1-score   support\n",
      "\n",
      "    negative       0.60      0.75      0.67        12\n",
      "     neutral       0.40      0.25      0.31         8\n",
      "    positive       0.57      0.57      0.57         7\n",
      "\n",
      "    accuracy                           0.56        27\n",
      "   macro avg       0.52      0.52      0.52        27\n",
      "weighted avg       0.53      0.56      0.54        27\n",
      "\n",
      "----------------------------------------------------------------------------------------------------\n",
      "\n",
      "\n",
      "\n",
      "Best combination of context sentences: {'n_negative_sentences': 2, 'n_neutral_sentences': 2, 'n_positive_sentences': 1, 'seed': 42}\n",
      "\n",
      "\n",
      "Best results: {'f1': 0.6923404394668761, 'precision': 0.7320261437908497, 'recall': 0.7037037037037037}\n",
      "              precision    recall  f1-score   support\n",
      "\n",
      "    negative       0.62      0.83      0.71        12\n",
      "     neutral       0.60      0.38      0.46         8\n",
      "    positive       0.67      0.57      0.62         7\n",
      "\n",
      "    accuracy                           0.63        27\n",
      "   macro avg       0.63      0.59      0.60        27\n",
      "weighted avg       0.63      0.63      0.61        27\n",
      "\n",
      "----------------------------------------------------------------------------------------------------\n",
      "\n",
      "\n",
      "\n",
      "Best combination of context sentences: {'n_negative_sentences': 2, 'n_neutral_sentences': 2, 'n_positive_sentences': 1, 'seed': 42}\n",
      "\n",
      "\n",
      "Best results: {'f1': 0.6923404394668761, 'precision': 0.7320261437908497, 'recall': 0.7037037037037037}\n"
     ]
    },
    {
     "name": "stderr",
     "output_type": "stream",
     "text": [
      "/var/folders/xm/m4dy5bvs1fn7fb9wxjhsg4dc0000gn/T/ipykernel_1786/3463305045.py:51: FutureWarning: Passing literal json to 'read_json' is deprecated and will be removed in a future version. To read from a literal string, wrap it in a 'StringIO' object.\n",
      "  predictions = pd.read_json(output, orient=\"index\")\n"
     ]
    }
   ],
   "source": [
    "# Hyperparameters (for best configuration selection)\n",
    "params = {\n",
    "    'seed': [40, 41, 42],\n",
    "    'n_neutral_sentences': [1, 2, 3, 4],\n",
    "    'n_positive_sentences': [1, 2],\n",
    "    'n_negative_sentences': [1, 2, 3, 4]\n",
    "}\n",
    "\n",
    "metrics_file = f'PT_context_metrics.csv'\n",
    "if os.path.isfile(metrics_file):\n",
    "    f = open(metrics_file, 'a')\n",
    "else:\n",
    "    f = open(metrics_file, 'w')\n",
    "    f.write('seed,n_neutral_sentences,n_positive_sentences,n_negative_sentences,f1,precision,recall\\n')\n",
    "\n",
    "best_model = []\n",
    "best_f1 = 0.0\n",
    "best_comb, best_results = None, None\n",
    "for comb in list(ParameterGrid(params)):\n",
    "    train = pd.read_csv(f\"../data/train_PT_MD_labels_{comb['seed']}.csv\")\n",
    "    test = pd.read_csv(f\"../data/test_PT_MD_labels_{comb['seed']}.csv\")\n",
    "    # randomly selecting context sentences in json format\n",
    "    train_sentences = train_sentence_selection(train,\n",
    "                                               comb['n_neutral_sentences'],\n",
    "                                               comb['n_positive_sentences'],\n",
    "                                               comb['n_negative_sentences'],\n",
    "                                               \"PT\",\n",
    "                                               comb['seed'])\n",
    "    json_train_sentences = train_sentences[\"language\"].to_json()\n",
    "    json_train_labels = train_sentences[\"PT_label\"].to_json()\n",
    "\n",
    "    # converting test sentences to json format\n",
    "    json_test_sentences = test[\"language\"].to_json()\n",
    "\n",
    "    # creating context prompt\n",
    "    messages = [{\"role\": \"system\", \"content\": \"You are a patient.\"},\n",
    "                {\"role\": \"user\", \"content\": \"As a patient at a medical center, medical doctors write lots of clinical notes about you.\\n\"\n",
    "                                            \"Your task is to analyze the sentiment of a series of sentences your doctor wrote about you.\\n\"\n",
    "                                            \"For each sentence, how do you feel reading this description of you?\\n\"\n",
    "                                            \"Please assign a sentiment score of negative, neutral, or positive for each sentence.\\n\"\n",
    "                                            \"Below are three example sentences in JSON format:\\n\"\n",
    "                                            f\"{json_train_sentences}\"\n",
    "                                            \"Please provide your answer in JSON format.\"},\n",
    "                {\"role\": \"assistant\", \"content\": f\"{json_train_labels}\"},\n",
    "                {\"role\": \"user\", \"content\": f\"Complete the same task with each of these sentences:\\n{json_test_sentences}\"}]\n",
    "\n",
    "    # running chat completion\n",
    "    response = client.chat.completions.create(model=deployment, messages=messages, temperature=0, seed=comb['seed'])\n",
    "    # saving response to json format\n",
    "    output = response.choices[0].message.content\n",
    "    predictions = pd.read_json(output, orient=\"index\")\n",
    "    # computing metrics\n",
    "    results = compute_metrics(predictions[0], test[\"PT_label\"])\n",
    "    # saving results to metrics sheet\n",
    "    v = [comb['seed'], comb['n_neutral_sentences'], comb['n_positive_sentences'], comb['n_negative_sentences'],\n",
    "         results['f1'], results['precision'], results['recall']]\n",
    "    f.write(','.join([str(el) for el in v]) + '\\n')\n",
    "\n",
    "    if results['f1'] > best_f1:\n",
    "        best_f1 = results['f1']\n",
    "        best_comb = comb\n",
    "        best_results = results\n",
    "    print('-' * 100)\n",
    "    print('\\n\\n')\n",
    "\n",
    "    if best_comb is not None:\n",
    "        print(f'Best combination of context sentences: {best_comb}')\n",
    "        print('\\n')\n",
    "        print(f'Best results: {best_results}')\n",
    "f.close()"
   ],
   "metadata": {
    "collapsed": false,
    "pycharm": {
     "name": "#%%\n"
    }
   }
  },
  {
   "cell_type": "code",
   "execution_count": null,
   "outputs": [],
   "source": [],
   "metadata": {
    "collapsed": false,
    "pycharm": {
     "name": "#%%\n"
    }
   }
  }
 ],
 "metadata": {
  "kernelspec": {
   "display_name": "Python 3",
   "language": "python",
   "name": "python3"
  },
  "language_info": {
   "codemirror_mode": {
    "name": "ipython",
    "version": 2
   },
   "file_extension": ".py",
   "mimetype": "text/x-python",
   "name": "python",
   "nbconvert_exporter": "python",
   "pygments_lexer": "ipython2",
   "version": "2.7.6"
  }
 },
 "nbformat": 4,
 "nbformat_minor": 0
}